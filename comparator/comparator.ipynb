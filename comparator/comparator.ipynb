{
 "cells": [
  {
   "cell_type": "code",
   "execution_count": 1,
   "metadata": {
    "ExecuteTime": {
     "end_time": "2024-04-22T21:07:08.854935Z",
     "start_time": "2024-04-22T21:07:08.461937Z"
    }
   },
   "outputs": [],
   "source": [
    "%matplotlib inline\n",
    "import numpy as np\n",
    "import random\n",
    "import matplotlib.pyplot as plt\n",
    "import matplotlib.lines as mlines\n",
    "\n",
    "from game import Game\n",
    "from player import Player\n",
    "import pprint as pp"
   ]
  },
  {
   "cell_type": "code",
   "execution_count": 2,
   "metadata": {},
   "outputs": [],
   "source": [
    "%load_ext autoreload\n",
    "%autoreload 2"
   ]
  },
  {
   "cell_type": "code",
   "execution_count": 3,
   "metadata": {
    "ExecuteTime": {
     "end_time": "2024-04-22T21:07:08.870935Z",
     "start_time": "2024-04-22T21:07:08.855938Z"
    }
   },
   "outputs": [],
   "source": [
    "from hybiak import Hybiak\n",
    "from simpleplayer import SimplePlayer\n",
    "from golab_uladzislau import GolabUladzislau"
   ]
  },
  {
   "cell_type": "code",
   "execution_count": 4,
   "metadata": {
    "ExecuteTime": {
     "end_time": "2024-04-22T21:07:08.886935Z",
     "start_time": "2024-04-22T21:07:08.871935Z"
    }
   },
   "outputs": [
    {
     "name": "stdout",
     "output_type": "stream",
     "text": [
      "[(9, 0),\n",
      " (10, 0),\n",
      " (11, 0),\n",
      " (12, 0),\n",
      " (13, 0),\n",
      " (14, 0),\n",
      " (9, 1),\n",
      " (10, 1),\n",
      " (11, 1),\n",
      " (12, 1),\n",
      " (13, 1),\n",
      " (14, 1),\n",
      " (9, 2),\n",
      " (10, 2),\n",
      " (11, 2),\n",
      " (12, 2),\n",
      " (13, 2),\n",
      " (14, 2),\n",
      " (9, 3),\n",
      " (10, 3),\n",
      " (11, 3),\n",
      " (12, 3),\n",
      " (13, 3),\n",
      " (14, 3)]\n"
     ]
    }
   ],
   "source": [
    "### Generate cards from 9 to 14 (ace) for all colors/symbols (0, 1, 2, 3)\n",
    "def getDeck():\n",
    "    return [(number, color) for color in range(4) for number in range(9, 15)]\n",
    "    \n",
    "pp.pprint(getDeck())"
   ]
  },
  {
   "cell_type": "code",
   "execution_count": 5,
   "metadata": {
    "ExecuteTime": {
     "end_time": "2024-04-22T21:07:08.902935Z",
     "start_time": "2024-04-22T21:07:08.887938Z"
    }
   },
   "outputs": [
    {
     "name": "stdout",
     "output_type": "stream",
     "text": [
      "[(11, 1), (9, 0), (11, 0), (12, 0), (13, 0), (9, 2), (14, 0), (11, 2)]\n",
      "[(12, 1), (11, 3), (14, 3), (10, 0), (12, 2), (13, 2), (9, 1), (10, 2)]\n"
     ]
    }
   ],
   "source": [
    "### Shuffle the cards randomly. Each player gets 9 cards\n",
    "### (so one player cannot be certain which cards the other player has)\n",
    "\n",
    "def getShuffled(deck):\n",
    "    D = set(deck)\n",
    "    A = set(random.sample(deck, 8))\n",
    "    B = set(random.sample(list(D - A), 8))\n",
    "    C = D - A - B\n",
    "    if len(A.intersection(B)) > 0: print(\"Shuffle error 1\")\n",
    "    if len(A.intersection(B)) > 0: print(\"Shuffle error 2\")\n",
    "    if len(A.intersection(C)) > 0: print(\"Shuffle error 3\") \n",
    "    DS = A | B | C\n",
    "    if not DS == D: print(\"Shuffle error 4\")  \n",
    "    return list(A), list(B), list(C)\n",
    "\n",
    "p1, p2, notUsed, = getShuffled(getDeck())\n",
    "print(p1)\n",
    "print(p2)\n"
   ]
  },
  {
   "cell_type": "code",
   "execution_count": 6,
   "metadata": {
    "ExecuteTime": {
     "end_time": "2024-04-22T21:07:08.918935Z",
     "start_time": "2024-04-22T21:07:08.903937Z"
    }
   },
   "outputs": [],
   "source": [
    "# Some examplary random player\n",
    "\n",
    "class RandomPlayer(Player):\n",
    "    \n",
    "    ### player's random strategy\n",
    "    def putCard(self, declared_card):\n",
    "        \n",
    "        ### check if must draw\n",
    "        if len(self.cards) == 1 and declared_card is not None and self.cards[0][0] < declared_card[0]:\n",
    "            return \"draw\"\n",
    "        \n",
    "        ### player randomly decides which card put on the table\n",
    "        card = random.choice(self.cards)\n",
    "        declaration = card\n",
    "        \n",
    "        ### player randomly decides whether to cheat or not\n",
    "        cheat = np.random.choice([True, False])\n",
    "       \n",
    "        ### if (s)he decides to cheat, (s)he randomly declares the card.\n",
    "        if cheat:\n",
    "            declaration = random.choice(self.cards)             \n",
    "            \n",
    "        ### Yet, declared card should be no worse than a card on the top of the pile . \n",
    "        if declared_card is not None and declaration[0] < declared_card[0]:\n",
    "            declaration = (min(declared_card[0]+1,14), declaration[1])\n",
    "\n",
    "        ### return the decision (true card) and declaration (player's declaration)\n",
    "        return card, declaration\n",
    "    \n",
    "    ### randomly decides whether to check or not\n",
    "    def checkCard(self, opponent_declaration):\n",
    "        return np.random.choice([True, False])\n",
    "    "
   ]
  },
  {
   "cell_type": "markdown",
   "metadata": {},
   "source": [
    "Analyze few moves..."
   ]
  },
  {
   "cell_type": "code",
   "execution_count": 7,
   "metadata": {
    "ExecuteTime": {
     "end_time": "2024-04-22T21:07:08.934936Z",
     "start_time": "2024-04-22T21:07:08.919935Z"
    }
   },
   "outputs": [],
   "source": [
    "### Perform a full game 100 times\n",
    "STAT_NAMES = [\"Wins\", \"Draws\", \"Moves\", \"Cards\", \"Pile Size\", \"Checks\", \"Draw Decisions\", \"Cheats\", \"Errors\", \"Total errors\"]\n",
    "ANALYZE_STATS = [0, 1, 2, 3, 5, 6, 7, 8]\n",
    "\n",
    "def printResults(results):\n",
    "    print(\"Wins:\")\n",
    "    print(results[0])\n",
    "    print(\"Draws:\")\n",
    "    print(results[1])\n",
    "    print(\"Moves:\")\n",
    "    print(stats_moves[2])\n",
    "    print(\"Cards:\")\n",
    "    print(results[3])\n",
    "    print(\"Pile size:\")\n",
    "    print(results[4])\n",
    "    print(\"Checks:\")\n",
    "    print(results[5])\n",
    "    print(\"Draw decisions:\")\n",
    "    print(results[6])\n",
    "    print(\"Cheats:\")\n",
    "    print(results[7])\n",
    "    print(\"Errors:\")\n",
    "    print(results[8])\n",
    "    print(\"Total errors:\")\n",
    "    print(results[9])\n",
    "\n",
    "def comparePlayers(player1_class, player2_class, **kwargs):\n",
    "    stats_wins = [0, 0]\n",
    "    stats_draws = [0, 0]\n",
    "    stats_moves = [0, 0]\n",
    "    stats_cards = [0, 0]\n",
    "    stats_pile_size = 0\n",
    "    stats_checks = [0, 0]\n",
    "    stats_draw_decisions = [0, 0]\n",
    "    stats_cheats = [0, 0]\n",
    "    stats_errors = [0, 0]\n",
    "    \n",
    "    repeats = 10000\n",
    "    errors = 0\n",
    "    draws = 0\n",
    "\n",
    "    for t in range(repeats):\n",
    "        player1 = player1_class(**kwargs)\n",
    "        player2 = player2_class(\"\")\n",
    "        game = Game([player1, player2], log = False)\n",
    "    \n",
    "        error = False\n",
    "        draw = False\n",
    "        \n",
    "        while True:\n",
    "            valid, player = game.takeTurn(log = False)\n",
    "            if game.moves[0] > 100 or game.moves[1] > 100:\n",
    "                draws += 1\n",
    "                stats_draws[0] += 1\n",
    "                stats_draws[1] += 1\n",
    "                if (game.player_cards[0] < game.player_cards[1]):\n",
    "                    stats_wins[0] += 1\n",
    "                if (game.player_cards[0] > game.player_cards[1]):\n",
    "                    stats_wins[1] += 1\n",
    "                    \n",
    "                    \n",
    "                draw=True\n",
    "                print(\"DRAW\")\n",
    "                break\n",
    "            if not valid:\n",
    "                error = True\n",
    "                stats_errors[player] += 1\n",
    "                errors += 1\n",
    "                break\n",
    "            if game.isFinished(log = False):\n",
    "                stats_wins[player] += 1\n",
    "                break\n",
    "            \n",
    "        stats_pile_size += len(game.pile)\n",
    "        if error: continue\n",
    "        #if draw: continue\n",
    "       \n",
    "        for j in range(2):\n",
    "            stats_moves[j] += game.moves[j]\n",
    "            stats_cheats[j] += game.cheats[j]\n",
    "            stats_checks[j] += game.checks[j]\n",
    "            stats_draw_decisions[j] += game.draw_decisions[j]\n",
    "            stats_cards[j] += len(game.player_cards[j])\n",
    "\n",
    "    div = repeats - errors\n",
    "    if div > 0:\n",
    "            \n",
    "        stats_pile_size /= div          \n",
    "        for j in range(2):\n",
    "            stats_moves[j] /= div\n",
    "            stats_cheats[j] /= div\n",
    "            stats_checks[j] /= div\n",
    "            stats_draw_decisions[j] /= div\n",
    "            stats_cards[j] /= div\n",
    "            \n",
    "    return [stats_wins, stats_draws, stats_moves, stats_cards, stats_pile_size, stats_checks, \n",
    "            stats_draw_decisions, stats_cheats, stats_errors, errors, draws]  \n"
   ]
  },
  {
   "cell_type": "markdown",
   "metadata": {},
   "source": [
    "# COMPARE"
   ]
  },
  {
   "cell_type": "code",
   "execution_count": null,
   "metadata": {
    "tags": []
   },
   "outputs": [],
   "source": [
    "import optuna\n",
    "\n",
    "epsilon = 0.2\n",
    "initial_params = {\n",
    "    'p85': 0.85,\n",
    "    'p80': 0.80,\n",
    "    'p75': 0.75,\n",
    "    'p70': 0.70,\n",
    "    'p60': 0.60,\n",
    "    'p50': 0.50\n",
    "}\n",
    "\n",
    "max_golab = 6500\n",
    "max_simple = 8000\n",
    "\n",
    "def weighted_result(result1, result2, w1=1, w2=1, max1=max_simple, max2=max_golab):\n",
    "    norm_result1 = result1 / max1\n",
    "    norm_result2 = result2 / max2\n",
    "    weighted_score = (w1 * norm_result1 + w2 * norm_result2) / (w1 + w2)\n",
    "    return weighted_score\n",
    "\n",
    "\n",
    "def objective(trial):\n",
    "    p85 = trial.suggest_float('p85', max(0, initial_params['p85'] - epsilon), min(1, initial_params['p85'] + epsilon))\n",
    "    p80 = trial.suggest_float('p80', max(0, initial_params['p80'] - epsilon), min(1, initial_params['p80'] + epsilon))\n",
    "    p75 = trial.suggest_float('p75', max(0, initial_params['p75'] - epsilon), min(1, initial_params['p75'] + epsilon))\n",
    "    p70 = trial.suggest_float('p70', max(0, initial_params['p70'] - epsilon), min(1, initial_params['p70'] + epsilon))\n",
    "    p60 = trial.suggest_float('p60', max(0, initial_params['p60'] - epsilon), min(1, initial_params['p60'] + epsilon))\n",
    "    p50 = trial.suggest_float('p50', max(0, initial_params['p50'] - epsilon), min(1, initial_params['p50'] + epsilon))\n",
    "    \n",
    "    simple = SimplePlayer\n",
    "    golab = GolabUladzislau\n",
    "    player = Hybiak\n",
    "\n",
    "    params = {'name': '',\n",
    "            'p85': p85,\n",
    "            'p80': p80,\n",
    "            'p75': p75,\n",
    "            'p70': p70,\n",
    "            'p60': p60,\n",
    "            'p50': p50}\n",
    "    \n",
    "    result1 = comparePlayers(player, simple, **params)\n",
    "    result2 = comparePlayers(player, golab, **params)\n",
    "    \n",
    "    score = weighted_result(result1[0][0], result2[0][0], w1=1, w2=1.35)\n",
    "    return score # funkcja celu to liczba zwyciestw na 10k rund\n",
    "\n",
    "\n",
    "study = optuna.create_study(direction='maximize')\n",
    "study.optimize(objective, n_trials=100) # ~10min -> dla 2 walk\n",
    "\n",
    "best_params = study.best_params\n",
    "best_score = study.best_value"
   ]
  },
  {
   "cell_type": "code",
   "execution_count": 13,
   "metadata": {
    "tags": []
   },
   "outputs": [],
   "source": [
    "best_params['name']=''"
   ]
  },
  {
   "cell_type": "code",
   "execution_count": 10,
   "metadata": {
    "tags": []
   },
   "outputs": [
    {
     "data": {
      "text/plain": [
       "(7785, 6455)"
      ]
     },
     "execution_count": 10,
     "metadata": {},
     "output_type": "execute_result"
    }
   ],
   "source": [
    "simple = SimplePlayer\n",
    "golab = GolabUladzislau\n",
    "player = Hybiak    \n",
    "result1 = comparePlayers(player, simple, **best_params)\n",
    "result2 = comparePlayers(player, golab, **best_params)\n",
    "result1[0][0], result2[0][0]"
   ]
  },
  {
   "cell_type": "code",
   "execution_count": null,
   "metadata": {},
   "outputs": [],
   "source": [
    "# Optymalizacja dla każdego z osobna:\n",
    "# Simple 8048.0\n",
    "# Golab 6519.0\n",
    "\n",
    "# Obtymalizacja dla 2 jednocześnie:\n",
    "# w1=w2: (7844, 6158)\n",
    "# w1=1, w2=1.35 (7785, 6455)"
   ]
  },
  {
   "cell_type": "code",
   "execution_count": null,
   "metadata": {
    "tags": []
   },
   "outputs": [],
   "source": [
    "results"
   ]
  },
  {
   "cell_type": "code",
   "execution_count": null,
   "metadata": {
    "ExecuteTime": {
     "end_time": "2024-04-22T21:07:15.379942Z",
     "start_time": "2024-04-22T21:07:15.365943Z"
    },
    "scrolled": true,
    "tags": []
   },
   "outputs": [],
   "source": [
    "pp.pprint(full_results)"
   ]
  },
  {
   "cell_type": "markdown",
   "metadata": {},
   "source": [
    "Simple stats"
   ]
  },
  {
   "cell_type": "code",
   "execution_count": null,
   "metadata": {
    "ExecuteTime": {
     "end_time": "2024-04-22T21:07:15.395943Z",
     "start_time": "2024-04-22T21:07:15.380943Z"
    },
    "scrolled": true,
    "tags": []
   },
   "outputs": [],
   "source": [
    "def print_matrix(full_results, stat):\n",
    "    stat_name = STAT_NAMES[stat]\n",
    "    print(f\"Statystyka: {stat_name}\")\n",
    "\n",
    "    strategies = [str(s[1]) for s in strategy]\n",
    "    print(\"Strategie: \", ' '.join(strategies))\n",
    "\n",
    "    for A in range(len(strategy)):\n",
    "        current_strategy = strategy[A][1]\n",
    "        results = []\n",
    "        for B in range(len(strategy)):\n",
    "            if A == B:\n",
    "                results.append(\"-\")\n",
    "            elif A < B:\n",
    "                results.append(str(full_results[A][B][stat][0]))\n",
    "            else:\n",
    "                results.append(str(full_results[B][A][stat][1]))\n",
    "        print(f\"{A} {current_strategy}: {' '.join(results)}\")\n",
    "\n",
    "for a in ANALYZE_STATS:\n",
    "    print_matrix(full_results, a)"
   ]
  }
 ],
 "metadata": {
  "kernelspec": {
   "display_name": "Python 3 (ipykernel)",
   "language": "python",
   "name": "python3"
  },
  "language_info": {
   "codemirror_mode": {
    "name": "ipython",
    "version": 3
   },
   "file_extension": ".py",
   "mimetype": "text/x-python",
   "name": "python",
   "nbconvert_exporter": "python",
   "pygments_lexer": "ipython3",
   "version": "3.9.17"
  },
  "widgets": {
   "state": {},
   "version": "1.1.2"
  }
 },
 "nbformat": 4,
 "nbformat_minor": 4
}
