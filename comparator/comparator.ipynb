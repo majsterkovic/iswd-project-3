{
 "cells": [
  {
   "cell_type": "code",
   "execution_count": 11,
   "metadata": {
    "ExecuteTime": {
     "end_time": "2024-04-22T21:07:08.854935Z",
     "start_time": "2024-04-22T21:07:08.461937Z"
    }
   },
   "outputs": [],
   "source": [
    "%matplotlib inline\n",
    "import numpy as np\n",
    "import random\n",
    "import matplotlib.pyplot as plt\n",
    "import matplotlib.lines as mlines\n",
    "\n",
    "from game import Game\n",
    "from player import Player\n",
    "import pprint as pp"
   ]
  },
  {
   "cell_type": "code",
   "execution_count": 12,
   "metadata": {
    "ExecuteTime": {
     "end_time": "2024-04-22T21:07:08.870935Z",
     "start_time": "2024-04-22T21:07:08.855938Z"
    }
   },
   "outputs": [],
   "source": [
    "from hybiak import Hybiak\n",
    "from simpleplayer import SimplePlayer\n",
    "from golab_uladzislau import GolabUladzislau"
   ]
  },
  {
   "cell_type": "code",
   "execution_count": 13,
   "metadata": {
    "ExecuteTime": {
     "end_time": "2024-04-22T21:07:08.886935Z",
     "start_time": "2024-04-22T21:07:08.871935Z"
    }
   },
   "outputs": [
    {
     "name": "stdout",
     "output_type": "stream",
     "text": [
      "[(9, 0),\n",
      " (10, 0),\n",
      " (11, 0),\n",
      " (12, 0),\n",
      " (13, 0),\n",
      " (14, 0),\n",
      " (9, 1),\n",
      " (10, 1),\n",
      " (11, 1),\n",
      " (12, 1),\n",
      " (13, 1),\n",
      " (14, 1),\n",
      " (9, 2),\n",
      " (10, 2),\n",
      " (11, 2),\n",
      " (12, 2),\n",
      " (13, 2),\n",
      " (14, 2),\n",
      " (9, 3),\n",
      " (10, 3),\n",
      " (11, 3),\n",
      " (12, 3),\n",
      " (13, 3),\n",
      " (14, 3)]\n"
     ]
    }
   ],
   "source": [
    "### Generate cards from 9 to 14 (ace) for all colors/symbols (0, 1, 2, 3)\n",
    "def getDeck():\n",
    "    return [(number, color) for color in range(4) for number in range(9, 15)]\n",
    "    \n",
    "pp.pprint(getDeck())"
   ]
  },
  {
   "cell_type": "code",
   "execution_count": 14,
   "metadata": {
    "ExecuteTime": {
     "end_time": "2024-04-22T21:07:08.902935Z",
     "start_time": "2024-04-22T21:07:08.887938Z"
    }
   },
   "outputs": [
    {
     "name": "stdout",
     "output_type": "stream",
     "text": [
      "[(9, 0), (13, 1), (11, 0), (14, 3), (10, 0), (12, 2), (10, 3), (13, 2)]\n",
      "[(14, 1), (11, 3), (12, 3), (14, 0), (11, 2), (14, 2), (9, 1), (10, 2)]\n"
     ]
    }
   ],
   "source": [
    "### Shuffle the cards randomly. Each player gets 9 cards\n",
    "### (so one player cannot be certain which cards the other player has)\n",
    "\n",
    "def getShuffled(deck):\n",
    "    D = set(deck)\n",
    "    A = set(random.sample(deck, 8))\n",
    "    B = set(random.sample(list(D - A), 8))\n",
    "    C = D - A - B\n",
    "    if len(A.intersection(B)) > 0: print(\"Shuffle error 1\")\n",
    "    if len(A.intersection(B)) > 0: print(\"Shuffle error 2\")\n",
    "    if len(A.intersection(C)) > 0: print(\"Shuffle error 3\") \n",
    "    DS = A | B | C\n",
    "    if not DS == D: print(\"Shuffle error 4\")  \n",
    "    return list(A), list(B), list(C)\n",
    "\n",
    "p1, p2, notUsed, = getShuffled(getDeck())\n",
    "print(p1)\n",
    "print(p2)\n"
   ]
  },
  {
   "cell_type": "code",
   "execution_count": 15,
   "metadata": {
    "ExecuteTime": {
     "end_time": "2024-04-22T21:07:08.918935Z",
     "start_time": "2024-04-22T21:07:08.903937Z"
    }
   },
   "outputs": [],
   "source": [
    "# Some examplary random player\n",
    "\n",
    "class RandomPlayer(Player):\n",
    "    \n",
    "    ### player's random strategy\n",
    "    def putCard(self, declared_card):\n",
    "        \n",
    "        ### check if must draw\n",
    "        if len(self.cards) == 1 and declared_card is not None and self.cards[0][0] < declared_card[0]:\n",
    "            return \"draw\"\n",
    "        \n",
    "        ### player randomly decides which card put on the table\n",
    "        card = random.choice(self.cards)\n",
    "        declaration = card\n",
    "        \n",
    "        ### player randomly decides whether to cheat or not\n",
    "        cheat = np.random.choice([True, False])\n",
    "       \n",
    "        ### if (s)he decides to cheat, (s)he randomly declares the card.\n",
    "        if cheat:\n",
    "            declaration = random.choice(self.cards)             \n",
    "            \n",
    "        ### Yet, declared card should be no worse than a card on the top of the pile . \n",
    "        if declared_card is not None and declaration[0] < declared_card[0]:\n",
    "            declaration = (min(declared_card[0]+1,14), declaration[1])\n",
    "\n",
    "        ### return the decision (true card) and declaration (player's declaration)\n",
    "        return card, declaration\n",
    "    \n",
    "    ### randomly decides whether to check or not\n",
    "    def checkCard(self, opponent_declaration):\n",
    "        return np.random.choice([True, False])\n",
    "    "
   ]
  },
  {
   "cell_type": "markdown",
   "metadata": {},
   "source": [
    "Analyze few moves..."
   ]
  },
  {
   "cell_type": "code",
   "execution_count": 16,
   "metadata": {
    "ExecuteTime": {
     "end_time": "2024-04-22T21:07:08.934936Z",
     "start_time": "2024-04-22T21:07:08.919935Z"
    }
   },
   "outputs": [],
   "source": [
    "### Perform a full game 100 times\n",
    "STAT_NAMES = [\"Wins\", \"Draws\", \"Moves\", \"Cards\", \"Pile Size\", \"Checks\", \"Draw Decisions\", \"Cheats\", \"Errors\", \"Total errors\"]\n",
    "ANALYZE_STATS = [0, 1, 2, 3, 5, 6, 7, 8]\n",
    "\n",
    "def printResults(results):\n",
    "    print(\"Wins:\")\n",
    "    print(results[0])\n",
    "    print(\"Draws:\")\n",
    "    print(results[1])\n",
    "    print(\"Moves:\")\n",
    "    print(stats_moves[2])\n",
    "    print(\"Cards:\")\n",
    "    print(results[3])\n",
    "    print(\"Pile size:\")\n",
    "    print(results[4])\n",
    "    print(\"Checks:\")\n",
    "    print(results[5])\n",
    "    print(\"Draw decisions:\")\n",
    "    print(results[6])\n",
    "    print(\"Cheats:\")\n",
    "    print(results[7])\n",
    "    print(\"Errors:\")\n",
    "    print(results[8])\n",
    "    print(\"Total errors:\")\n",
    "    print(results[9])\n",
    "\n",
    "def comparePlayers(player1_class, player2_class):\n",
    "    stats_wins = [0, 0]\n",
    "    stats_draws = [0, 0]\n",
    "    stats_moves = [0, 0]\n",
    "    stats_cards = [0, 0]\n",
    "    stats_pile_size = 0\n",
    "    stats_checks = [0, 0]\n",
    "    stats_draw_decisions = [0, 0]\n",
    "    stats_cheats = [0, 0]\n",
    "    stats_errors = [0, 0]\n",
    "    \n",
    "    repeats = 10000\n",
    "    errors = 0\n",
    "    draws = 0\n",
    "\n",
    "    for t in range(repeats):\n",
    "        player1 = player1_class(\"\")\n",
    "        player2 = player2_class(\"\")\n",
    "        game = Game([player1, player2], log = False)\n",
    "    \n",
    "        error = False\n",
    "        draw = False\n",
    "        \n",
    "        while True:\n",
    "            valid, player = game.takeTurn(log = False)\n",
    "            if game.moves[0] > 100 or game.moves[1] > 100:\n",
    "                draws += 1\n",
    "                stats_draws[0] += 1\n",
    "                stats_draws[1] += 1\n",
    "                if (game.player_cards[0] < game.player_cards[1]):\n",
    "                    stats_wins[0] += 1\n",
    "                if (game.player_cards[0] > game.player_cards[1]):\n",
    "                    stats_wins[1] += 1\n",
    "                    \n",
    "                    \n",
    "                draw=True\n",
    "                print(\"DRAW\")\n",
    "                break\n",
    "            if not valid:\n",
    "                error = True\n",
    "                stats_errors[player] += 1\n",
    "                errors += 1\n",
    "                break\n",
    "            if game.isFinished(log = False):\n",
    "                stats_wins[player] += 1\n",
    "                break\n",
    "            \n",
    "        stats_pile_size += len(game.pile)\n",
    "        if error: continue\n",
    "        #if draw: continue\n",
    "       \n",
    "        for j in range(2):\n",
    "            stats_moves[j] += game.moves[j]\n",
    "            stats_cheats[j] += game.cheats[j]\n",
    "            stats_checks[j] += game.checks[j]\n",
    "            stats_draw_decisions[j] += game.draw_decisions[j]\n",
    "            stats_cards[j] += len(game.player_cards[j])\n",
    "\n",
    "    div = repeats - errors\n",
    "    if div > 0:\n",
    "            \n",
    "        stats_pile_size /= div          \n",
    "        for j in range(2):\n",
    "            stats_moves[j] /= div\n",
    "            stats_cheats[j] /= div\n",
    "            stats_checks[j] /= div\n",
    "            stats_draw_decisions[j] /= div\n",
    "            stats_cards[j] /= div\n",
    "            \n",
    "    return [stats_wins, stats_draws, stats_moves, stats_cards, stats_pile_size, stats_checks, \n",
    "            stats_draw_decisions, stats_cheats, stats_errors, errors, draws]  \n"
   ]
  },
  {
   "cell_type": "markdown",
   "metadata": {},
   "source": [
    "# COMPARE"
   ]
  },
  {
   "cell_type": "code",
   "execution_count": 17,
   "metadata": {
    "ExecuteTime": {
     "end_time": "2024-04-22T21:07:08.950942Z",
     "start_time": "2024-04-22T21:07:08.935937Z"
    }
   },
   "outputs": [],
   "source": [
    "strategy = [[\"Opponent\", \"RANDOM\", GolabUladzislau],\n",
    "            [\"Hybiak\", \"Hybiak\", Hybiak],\n",
    "           ]"
   ]
  },
  {
   "cell_type": "code",
   "execution_count": 18,
   "metadata": {
    "ExecuteTime": {
     "end_time": "2024-04-22T21:07:15.364942Z",
     "start_time": "2024-04-22T21:07:08.951945Z"
    },
    "scrolled": true
   },
   "outputs": [
    {
     "name": "stdout",
     "output_type": "stream",
     "text": [
      "==== 0 Opponent\n",
      "1 Hybiak\n",
      "==== 1 Hybiak\n"
     ]
    }
   ],
   "source": [
    "#%pdb on\n",
    "full_results = [[None for i in range(len(strategy))] for i in range(len(strategy))]\n",
    "\n",
    "for A in range(len(strategy)):\n",
    "    print(\"==== \" + str(A), strategy[A][0])\n",
    "    for B in range(A+1,len(strategy)):\n",
    "        print(B, strategy[B][0])\n",
    "        results = comparePlayers(strategy[A][2], strategy[B][2])\n",
    "        full_results[A][B] = results\n",
    "        \n"
   ]
  },
  {
   "cell_type": "code",
   "execution_count": 19,
   "metadata": {
    "ExecuteTime": {
     "end_time": "2024-04-22T21:07:15.379942Z",
     "start_time": "2024-04-22T21:07:15.365943Z"
    },
    "scrolled": true,
    "tags": []
   },
   "outputs": [
    {
     "name": "stdout",
     "output_type": "stream",
     "text": [
      "[[None,\n",
      "  [[2622, 7378],\n",
      "   [0, 0],\n",
      "   [9.8862, 10.1288],\n",
      "   [9.7148, 3.7355],\n",
      "   2.5497,\n",
      "   [3.0304, 4.0512],\n",
      "   [0.0006, 0.0056],\n",
      "   [3.2182, 1.375],\n",
      "   [0, 0],\n",
      "   0,\n",
      "   0]],\n",
      " [None, None]]\n"
     ]
    }
   ],
   "source": [
    "pp.pprint(full_results)"
   ]
  },
  {
   "cell_type": "markdown",
   "metadata": {},
   "source": [
    "Simple stats"
   ]
  },
  {
   "cell_type": "code",
   "execution_count": 20,
   "metadata": {
    "ExecuteTime": {
     "end_time": "2024-04-22T21:07:15.395943Z",
     "start_time": "2024-04-22T21:07:15.380943Z"
    },
    "scrolled": true,
    "tags": []
   },
   "outputs": [
    {
     "name": "stdout",
     "output_type": "stream",
     "text": [
      "Statystyka: Wins\n",
      "Strategie:  RANDOM Hybiak\n",
      "0 RANDOM: - 2622\n",
      "1 Hybiak: 7378 -\n",
      "Statystyka: Draws\n",
      "Strategie:  RANDOM Hybiak\n",
      "0 RANDOM: - 0\n",
      "1 Hybiak: 0 -\n",
      "Statystyka: Moves\n",
      "Strategie:  RANDOM Hybiak\n",
      "0 RANDOM: - 9.8862\n",
      "1 Hybiak: 10.1288 -\n",
      "Statystyka: Cards\n",
      "Strategie:  RANDOM Hybiak\n",
      "0 RANDOM: - 9.7148\n",
      "1 Hybiak: 3.7355 -\n",
      "Statystyka: Checks\n",
      "Strategie:  RANDOM Hybiak\n",
      "0 RANDOM: - 3.0304\n",
      "1 Hybiak: 4.0512 -\n",
      "Statystyka: Draw Decisions\n",
      "Strategie:  RANDOM Hybiak\n",
      "0 RANDOM: - 0.0006\n",
      "1 Hybiak: 0.0056 -\n",
      "Statystyka: Cheats\n",
      "Strategie:  RANDOM Hybiak\n",
      "0 RANDOM: - 3.2182\n",
      "1 Hybiak: 1.375 -\n",
      "Statystyka: Errors\n",
      "Strategie:  RANDOM Hybiak\n",
      "0 RANDOM: - 0\n",
      "1 Hybiak: 0 -\n"
     ]
    }
   ],
   "source": [
    "def print_matrix(full_results, stat):\n",
    "    stat_name = STAT_NAMES[stat]\n",
    "    print(f\"Statystyka: {stat_name}\")\n",
    "\n",
    "    strategies = [str(s[1]) for s in strategy]\n",
    "    print(\"Strategie: \", ' '.join(strategies))\n",
    "\n",
    "    for A in range(len(strategy)):\n",
    "        current_strategy = strategy[A][1]\n",
    "        results = []\n",
    "        for B in range(len(strategy)):\n",
    "            if A == B:\n",
    "                results.append(\"-\")\n",
    "            elif A < B:\n",
    "                results.append(str(full_results[A][B][stat][0]))\n",
    "            else:\n",
    "                results.append(str(full_results[B][A][stat][1]))\n",
    "        print(f\"{A} {current_strategy}: {' '.join(results)}\")\n",
    "\n",
    "for a in ANALYZE_STATS:\n",
    "    print_matrix(full_results, a)"
   ]
  }
 ],
 "metadata": {
  "kernelspec": {
   "display_name": "Python 3",
   "language": "python",
   "name": "python3"
  },
  "language_info": {
   "codemirror_mode": {
    "name": "ipython",
    "version": 3
   },
   "file_extension": ".py",
   "mimetype": "text/x-python",
   "name": "python",
   "nbconvert_exporter": "python",
   "pygments_lexer": "ipython3",
   "version": "3.10.11"
  },
  "widgets": {
   "state": {},
   "version": "1.1.2"
  }
 },
 "nbformat": 4,
 "nbformat_minor": 4
}
