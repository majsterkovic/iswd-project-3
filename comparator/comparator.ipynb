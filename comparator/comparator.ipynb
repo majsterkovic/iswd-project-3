{
 "cells": [
  {
   "cell_type": "code",
   "execution_count": 1,
   "metadata": {
    "ExecuteTime": {
     "end_time": "2024-04-22T21:07:08.854935Z",
     "start_time": "2024-04-22T21:07:08.461937Z"
    }
   },
   "outputs": [],
   "source": [
    "%matplotlib inline\n",
    "import numpy as np\n",
    "import random\n",
    "import matplotlib.pyplot as plt\n",
    "import matplotlib.lines as mlines\n",
    "\n",
    "from game import Game\n",
    "from player import Player\n",
    "import pprint as pp"
   ]
  },
  {
   "cell_type": "code",
   "execution_count": 2,
   "metadata": {},
   "outputs": [],
   "source": [
    "%load_ext autoreload\n",
    "%autoreload 2"
   ]
  },
  {
   "cell_type": "code",
   "execution_count": 3,
   "metadata": {
    "ExecuteTime": {
     "end_time": "2024-04-22T21:07:08.870935Z",
     "start_time": "2024-04-22T21:07:08.855938Z"
    }
   },
   "outputs": [],
   "source": [
    "from hybiak import Hybiak\n",
    "from simpleplayer import SimplePlayer\n",
    "from golab_uladzislau import GolabUladzislau"
   ]
  },
  {
   "cell_type": "code",
   "execution_count": 4,
   "metadata": {
    "ExecuteTime": {
     "end_time": "2024-04-22T21:07:08.886935Z",
     "start_time": "2024-04-22T21:07:08.871935Z"
    }
   },
   "outputs": [
    {
     "name": "stdout",
     "output_type": "stream",
     "text": [
      "[(9, 0),\n",
      " (10, 0),\n",
      " (11, 0),\n",
      " (12, 0),\n",
      " (13, 0),\n",
      " (14, 0),\n",
      " (9, 1),\n",
      " (10, 1),\n",
      " (11, 1),\n",
      " (12, 1),\n",
      " (13, 1),\n",
      " (14, 1),\n",
      " (9, 2),\n",
      " (10, 2),\n",
      " (11, 2),\n",
      " (12, 2),\n",
      " (13, 2),\n",
      " (14, 2),\n",
      " (9, 3),\n",
      " (10, 3),\n",
      " (11, 3),\n",
      " (12, 3),\n",
      " (13, 3),\n",
      " (14, 3)]\n"
     ]
    }
   ],
   "source": [
    "### Generate cards from 9 to 14 (ace) for all colors/symbols (0, 1, 2, 3)\n",
    "def getDeck():\n",
    "    return [(number, color) for color in range(4) for number in range(9, 15)]\n",
    "    \n",
    "pp.pprint(getDeck())"
   ]
  },
  {
   "cell_type": "code",
   "execution_count": 5,
   "metadata": {
    "ExecuteTime": {
     "end_time": "2024-04-22T21:07:08.902935Z",
     "start_time": "2024-04-22T21:07:08.887938Z"
    }
   },
   "outputs": [
    {
     "name": "stdout",
     "output_type": "stream",
     "text": [
      "[(11, 0), (14, 1), (11, 3), (13, 0), (14, 3), (12, 2), (13, 2), (9, 1)]\n",
      "[(9, 0), (13, 1), (9, 3), (9, 2), (14, 0), (11, 2), (10, 3), (14, 2)]\n"
     ]
    }
   ],
   "source": [
    "### Shuffle the cards randomly. Each player gets 9 cards\n",
    "### (so one player cannot be certain which cards the other player has)\n",
    "\n",
    "def getShuffled(deck):\n",
    "    D = set(deck)\n",
    "    A = set(random.sample(deck, 8))\n",
    "    B = set(random.sample(list(D - A), 8))\n",
    "    C = D - A - B\n",
    "    if len(A.intersection(B)) > 0: print(\"Shuffle error 1\")\n",
    "    if len(A.intersection(B)) > 0: print(\"Shuffle error 2\")\n",
    "    if len(A.intersection(C)) > 0: print(\"Shuffle error 3\") \n",
    "    DS = A | B | C\n",
    "    if not DS == D: print(\"Shuffle error 4\")  \n",
    "    return list(A), list(B), list(C)\n",
    "\n",
    "p1, p2, notUsed, = getShuffled(getDeck())\n",
    "print(p1)\n",
    "print(p2)\n"
   ]
  },
  {
   "cell_type": "markdown",
   "metadata": {},
   "source": [
    "Analyze few moves..."
   ]
  },
  {
   "cell_type": "code",
   "execution_count": 7,
   "metadata": {
    "ExecuteTime": {
     "end_time": "2024-04-22T21:07:08.934936Z",
     "start_time": "2024-04-22T21:07:08.919935Z"
    }
   },
   "outputs": [],
   "source": [
    "### Perform a full game 100 times\n",
    "STAT_NAMES = [\"Wins\", \"Draws\", \"Moves\", \"Cards\", \"Pile Size\", \"Checks\", \"Draw Decisions\", \"Cheats\", \"Errors\", \"Total errors\"]\n",
    "ANALYZE_STATS = [0, 1, 2, 3, 5, 6, 7, 8]\n",
    "\n",
    "def printResults(results):\n",
    "    print(\"Wins:\")\n",
    "    print(results[0])\n",
    "    print(\"Draws:\")\n",
    "    print(results[1])\n",
    "    print(\"Moves:\")\n",
    "    print(stats_moves[2])\n",
    "    print(\"Cards:\")\n",
    "    print(results[3])\n",
    "    print(\"Pile size:\")\n",
    "    print(results[4])\n",
    "    print(\"Checks:\")\n",
    "    print(results[5])\n",
    "    print(\"Draw decisions:\")\n",
    "    print(results[6])\n",
    "    print(\"Cheats:\")\n",
    "    print(results[7])\n",
    "    print(\"Errors:\")\n",
    "    print(results[8])\n",
    "    print(\"Total errors:\")\n",
    "    print(results[9])\n",
    "\n",
    "def comparePlayers(player1_class, player2_class, p1_params, p2_params):\n",
    "    stats_wins = [0, 0]\n",
    "    stats_draws = [0, 0]\n",
    "    stats_moves = [0, 0]\n",
    "    stats_cards = [0, 0]\n",
    "    stats_pile_size = 0\n",
    "    stats_checks = [0, 0]\n",
    "    stats_draw_decisions = [0, 0]\n",
    "    stats_cheats = [0, 0]\n",
    "    stats_errors = [0, 0]\n",
    "    \n",
    "    repeats = 10000\n",
    "    errors = 0\n",
    "    draws = 0\n",
    "\n",
    "    for t in range(repeats):\n",
    "        player1 = player1_class(**p1_params)\n",
    "        player2 = player2_class(**p2_params)\n",
    "        game = Game([player1, player2], log = False)\n",
    "    \n",
    "        error = False\n",
    "        draw = False\n",
    "        \n",
    "        while True:\n",
    "            valid, player = game.takeTurn(log = False)\n",
    "            if game.moves[0] > 100 or game.moves[1] > 100:\n",
    "                draws += 1\n",
    "                stats_draws[0] += 1\n",
    "                stats_draws[1] += 1\n",
    "                if (game.player_cards[0] < game.player_cards[1]):\n",
    "                    stats_wins[0] += 1\n",
    "                if (game.player_cards[0] > game.player_cards[1]):\n",
    "                    stats_wins[1] += 1\n",
    "                    \n",
    "                    \n",
    "                draw=True\n",
    "                print(\"DRAW\")\n",
    "                break\n",
    "            if not valid:\n",
    "                error = True\n",
    "                stats_errors[player] += 1\n",
    "                errors += 1\n",
    "                break\n",
    "            if game.isFinished(log = False):\n",
    "                stats_wins[player] += 1\n",
    "                break\n",
    "            \n",
    "        stats_pile_size += len(game.pile)\n",
    "        if error: continue\n",
    "        #if draw: continue\n",
    "       \n",
    "        for j in range(2):\n",
    "            stats_moves[j] += game.moves[j]\n",
    "            stats_cheats[j] += game.cheats[j]\n",
    "            stats_checks[j] += game.checks[j]\n",
    "            stats_draw_decisions[j] += game.draw_decisions[j]\n",
    "            stats_cards[j] += len(game.player_cards[j])\n",
    "\n",
    "    div = repeats - errors\n",
    "    if div > 0:\n",
    "            \n",
    "        stats_pile_size /= div          \n",
    "        for j in range(2):\n",
    "            stats_moves[j] /= div\n",
    "            stats_cheats[j] /= div\n",
    "            stats_checks[j] /= div\n",
    "            stats_draw_decisions[j] /= div\n",
    "            stats_cards[j] /= div\n",
    "            \n",
    "    return [stats_wins, stats_draws, stats_moves, stats_cards, stats_pile_size, stats_checks, \n",
    "            stats_draw_decisions, stats_cheats, stats_errors, errors, draws]  \n"
   ]
  },
  {
   "cell_type": "code",
   "execution_count": 8,
   "metadata": {
    "tags": []
   },
   "outputs": [],
   "source": [
    "initial_params = {\n",
    "    'p85': 0.85,\n",
    "    'p80': 0.80,\n",
    "    'p75': 0.75,\n",
    "    'p70': 0.70,\n",
    "    'p60': 0.60,\n",
    "    'p50': 0.50,\n",
    "    'name': 'HYBIAK'\n",
    "}"
   ]
  },
  {
   "cell_type": "code",
   "execution_count": 12,
   "metadata": {
    "tags": []
   },
   "outputs": [],
   "source": [
    "simple = SimplePlayer\n",
    "golab = GolabUladzislau\n",
    "player = Hybiak    \n",
    "# result1 = comparePlayers(player, simple, initial_params, {'name':'SIMPLE'})\n",
    "# result1[0][0]"
   ]
  },
  {
   "cell_type": "code",
   "execution_count": 9,
   "metadata": {
    "tags": []
   },
   "outputs": [],
   "source": [
    "simple_scores = []\n",
    "player = Hybiak\n",
    "probas = np.linspace(0.1,0.9,9)\n",
    "\n",
    "for proba in probas:\n",
    "    p = {\"p\": proba, 'name':''}\n",
    "    result = comparePlayers(player, SimplePlayer, initial_params, p)\n",
    "    simple_scores.append(result[0][0])"
   ]
  },
  {
   "cell_type": "code",
   "execution_count": 10,
   "metadata": {
    "tags": []
   },
   "outputs": [
    {
     "name": "stdout",
     "output_type": "stream",
     "text": [
      "6472 6798 7154 7674 8350 9015 9571 9885 9988\n"
     ]
    },
    {
     "data": {
      "text/plain": [
       "Text(0, 0.5, 'Win %')"
      ]
     },
     "execution_count": 10,
     "metadata": {},
     "output_type": "execute_result"
    },
    {
     "data": {
      "image/png": "[encoded data removed]",
      "text/plain": [
       "<Figure size 640x480 with 1 Axes>"
      ]
     },
     "metadata": {},
     "output_type": "display_data"
    }
   ],
   "source": [
    "import seaborn as sns\n",
    "print(*simple_scores)\n",
    "sns.lineplot(x=probas,y=np.array(simple_scores)/10e3, marker='o')\n",
    "plt.xlabel('Probability')\n",
    "plt.ylabel('Win %')"
   ]
  },
  {
   "cell_type": "code",
   "execution_count": null,
   "metadata": {},
   "outputs": [],
   "source": [
    "# 6622 7014 7408 7860 8549 9037 9621 9885 9984"
   ]
  },
  {
   "cell_type": "code",
   "execution_count": 13,
   "metadata": {
    "tags": []
   },
   "outputs": [],
   "source": [
    "p = {'name':''}\n",
    "result = comparePlayers(player, golab, initial_params, p)\n",
    "golab_result = result[0][0]"
   ]
  },
  {
   "cell_type": "code",
   "execution_count": 14,
   "metadata": {
    "tags": []
   },
   "outputs": [
    {
     "data": {
      "text/plain": [
       "[6472, 6798, 7154, 6355]"
      ]
     },
     "execution_count": 14,
     "metadata": {},
     "output_type": "execute_result"
    }
   ],
   "source": [
    "maxes = simple_scores[:3] + [golab_result]\n",
    "maxes"
   ]
  },
  {
   "cell_type": "code",
   "execution_count": 15,
   "metadata": {
    "tags": []
   },
   "outputs": [],
   "source": [
    "probas = probas[:3]"
   ]
  },
  {
   "cell_type": "code",
   "execution_count": 16,
   "metadata": {
    "tags": []
   },
   "outputs": [],
   "source": [
    "# weights = [1.25, 1.1, 1, 1.35]\n",
    "weights = [1, 1, 1, 1]"
   ]
  },
  {
   "cell_type": "markdown",
   "metadata": {},
   "source": [
    "# COMPARE"
   ]
  },
  {
   "cell_type": "code",
   "execution_count": null,
   "metadata": {},
   "outputs": [],
   "source": [
    "# TODO: no epsilon"
   ]
  },
  {
   "cell_type": "code",
   "execution_count": 28,
   "metadata": {
    "tags": []
   },
   "outputs": [
    {
     "name": "stderr",
     "output_type": "stream",
     "text": [
      "[I 2024-04-28 20:04:00,647] A new study created in memory with name: no-name-10a3c39f-0fc5-44e2-9e41-e1e669a77637\n",
      "[I 2024-04-28 20:04:11,661] Trial 0 finished with value: 1.0000958596606775 and parameters: {'p85': 0.85, 'p80': 0.8, 'p75': 0.75, 'p70': 0.7, 'p60': 0.6, 'p50': 0.5}. Best is trial 0 with value: 1.0000958596606775.\n",
      "[I 2024-04-28 20:04:23,570] Trial 1 finished with value: 0.9264520569480168 and parameters: {'p85': 0.5498527985332432, 'p80': 0.534593809770064, 'p75': 0.4715428907453718, 'p70': 0.6428683967676114, 'p60': 0.39391058869498774, 'p50': 0.006285980764367927}. Best is trial 0 with value: 1.0000958596606775.\n",
      "[I 2024-04-28 20:04:35,188] Trial 2 finished with value: 0.9579522799916043 and parameters: {'p85': 0.6758645874128053, 'p80': 0.03762692283977975, 'p75': 0.4880466536026683, 'p70': 0.09009836409776151, 'p60': 0.15762343382918464, 'p50': 0.3929168050894749}. Best is trial 0 with value: 1.0000958596606775.\n"
     ]
    },
    {
     "name": "stdout",
     "output_type": "stream",
     "text": [
      "DRAW\n",
      "DRAW\n"
     ]
    },
    {
     "name": "stderr",
     "output_type": "stream",
     "text": [
      "[I 2024-04-28 20:04:48,779] Trial 3 finished with value: 0.8653602085190579 and parameters: {'p85': 0.12475141144387225, 'p80': 0.49041665336635276, 'p75': 0.09976708811845558, 'p70': 0.3632029920270935, 'p60': 0.09805071267817544, 'p50': 0.26368346731761916}. Best is trial 0 with value: 1.0000958596606775.\n",
      "[I 2024-04-28 20:05:01,427] Trial 4 finished with value: 0.8846920515723586 and parameters: {'p85': 0.5052935527462419, 'p80': 0.31835806695880275, 'p75': 0.26124205843414816, 'p70': 0.45517738498714433, 'p60': 0.19546688118884092, 'p50': 0.15307552016917803}. Best is trial 0 with value: 1.0000958596606775.\n",
      "[I 2024-04-28 20:05:13,387] Trial 5 finished with value: 0.9558160850045756 and parameters: {'p85': 0.3236347482970747, 'p80': 0.1939526481862014, 'p75': 0.40408521225723193, 'p70': 0.0806293845818733, 'p60': 0.4763614354687925, 'p50': 0.9042516190722213}. Best is trial 0 with value: 1.0000958596606775.\n",
      "[I 2024-04-28 20:05:25,240] Trial 6 finished with value: 0.9696591607913018 and parameters: {'p85': 0.17583719147667365, 'p80': 0.788272266785428, 'p75': 0.4496089659998147, 'p70': 0.9567350492042087, 'p60': 0.4725898343341419, 'p50': 0.6565298025267481}. Best is trial 0 with value: 1.0000958596606775.\n",
      "[I 2024-04-28 20:05:36,443] Trial 7 finished with value: 0.9881673061585818 and parameters: {'p85': 0.7290987194377304, 'p80': 0.13462594858982901, 'p75': 0.7936443632232062, 'p70': 0.9957707162436077, 'p60': 0.9191580416498536, 'p50': 0.05150593620252608}. Best is trial 0 with value: 1.0000958596606775.\n",
      "[I 2024-04-28 20:05:48,465] Trial 8 finished with value: 0.9672679004916734 and parameters: {'p85': 0.0479474993369946, 'p80': 0.3625232157835171, 'p75': 0.579796130507617, 'p70': 0.8935257223888361, 'p60': 0.9633313557015668, 'p50': 0.30582273715939745}. Best is trial 0 with value: 1.0000958596606775.\n",
      "[I 2024-04-28 20:05:59,677] Trial 9 finished with value: 0.9711387502275719 and parameters: {'p85': 0.6957179631131232, 'p80': 0.9539475444561091, 'p75': 0.599988247803562, 'p70': 0.19549243531864235, 'p60': 0.5744543378546918, 'p50': 0.6541474437474738}. Best is trial 0 with value: 1.0000958596606775.\n",
      "[I 2024-04-28 20:06:10,341] Trial 10 finished with value: 1.0297413683004848 and parameters: {'p85': 0.9845733465687752, 'p80': 0.6842473428379846, 'p75': 0.9800090159035737, 'p70': 0.6878928115546706, 'p60': 0.7284387164613911, 'p50': 0.49324400427422904}. Best is trial 10 with value: 1.0297413683004848.\n",
      "[I 2024-04-28 20:06:21,411] Trial 11 finished with value: 1.0387860007596668 and parameters: {'p85': 0.9925480474375139, 'p80': 0.7370224388910213, 'p75': 0.9970467592423213, 'p70': 0.6916441904662941, 'p60': 0.695776784608849, 'p50': 0.5093103128589851}. Best is trial 11 with value: 1.0387860007596668.\n",
      "[I 2024-04-28 20:06:32,628] Trial 12 finished with value: 1.0360058779405312 and parameters: {'p85': 0.9919994209293487, 'p80': 0.6184057998775885, 'p75': 0.9511999902290431, 'p70': 0.703864850751704, 'p60': 0.7277587768832102, 'p50': 0.5104692429665247}. Best is trial 11 with value: 1.0387860007596668.\n",
      "[I 2024-04-28 20:06:43,586] Trial 13 finished with value: 1.0348716849887059 and parameters: {'p85': 0.9798146206342564, 'p80': 0.6265030222518373, 'p75': 0.9746652619653563, 'p70': 0.8176447705203728, 'p60': 0.781215709284623, 'p50': 0.6276345488027796}. Best is trial 11 with value: 1.0387860007596668.\n",
      "[I 2024-04-28 20:06:54,683] Trial 14 finished with value: 1.0224219448781944 and parameters: {'p85': 0.8700632028310132, 'p80': 0.8684825623506962, 'p75': 0.8597452024375615, 'p70': 0.5551392307542173, 'p60': 0.7677589145159965, 'p50': 0.7906155128223897}. Best is trial 11 with value: 1.0387860007596668.\n",
      "[I 2024-04-28 20:07:05,664] Trial 15 finished with value: 1.0451865405120753 and parameters: {'p85': 0.8505820806761673, 'p80': 0.9883633729335503, 'p75': 0.9997777373397524, 'p70': 0.8011101433535464, 'p60': 0.6800839685351461, 'p50': 0.4046927751951662}. Best is trial 15 with value: 1.0451865405120753.\n",
      "[I 2024-04-28 20:07:17,097] Trial 16 finished with value: 0.991998939088574 and parameters: {'p85': 0.8316857765055033, 'p80': 0.9754787014874937, 'p75': 0.6802735832848669, 'p70': 0.8358293983803102, 'p60': 0.3175413769660457, 'p50': 0.32908846219158494}. Best is trial 15 with value: 1.0451865405120753.\n",
      "[I 2024-04-28 20:07:28,212] Trial 17 finished with value: 1.0238196624948754 and parameters: {'p85': 0.5975424224453973, 'p80': 0.9825866226597587, 'p75': 0.8589806792567533, 'p70': 0.8181899547230955, 'p60': 0.6256855601798834, 'p50': 0.20687397915995198}. Best is trial 15 with value: 1.0451865405120753.\n",
      "[I 2024-04-28 20:07:39,401] Trial 18 finished with value: 1.0194297074806336 and parameters: {'p85': 0.7881552306648645, 'p80': 0.840793267039688, 'p75': 0.8832997729541499, 'p70': 0.5589740213388004, 'p60': 0.9086998727286404, 'p50': 0.38796766439920016}. Best is trial 15 with value: 1.0451865405120753.\n",
      "[I 2024-04-28 20:07:50,448] Trial 19 finished with value: 1.0403682885449506 and parameters: {'p85': 0.4134842981198395, 'p80': 0.7125281985224562, 'p75': 0.9941794821040438, 'p70': 0.7610004162768935, 'p60': 0.8447062950007553, 'p50': 0.1399525119666436}. Best is trial 15 with value: 1.0451865405120753.\n",
      "[I 2024-04-28 20:08:01,939] Trial 20 finished with value: 0.9946881060441506 and parameters: {'p85': 0.415290395488938, 'p80': 0.9091446077123565, 'p75': 0.7603753345666324, 'p70': 0.8007667370952049, 'p60': 0.8306931147547232, 'p50': 0.1809105197829446}. Best is trial 15 with value: 1.0451865405120753.\n",
      "[I 2024-04-28 20:08:13,142] Trial 21 finished with value: 1.0382396337908604 and parameters: {'p85': 0.3867424899524873, 'p80': 0.7396783887486629, 'p75': 0.9932696719778272, 'p70': 0.7298399977941086, 'p60': 0.6763913115056293, 'p50': 0.10462476061555778}. Best is trial 15 with value: 1.0451865405120753.\n",
      "[I 2024-04-28 20:08:24,076] Trial 22 finished with value: 1.0244189353278208 and parameters: {'p85': 0.9103143632563244, 'p80': 0.7372477373528379, 'p75': 0.9179263961251851, 'p70': 0.9216420069004597, 'p60': 0.8224595071931213, 'p50': 0.25113866961167214}. Best is trial 15 with value: 1.0451865405120753.\n",
      "[I 2024-04-28 20:08:35,236] Trial 23 finished with value: 1.0185689151646793 and parameters: {'p85': 0.7583014581193565, 'p80': 0.8717065422820987, 'p75': 0.8632255510293205, 'p70': 0.6126140993610784, 'p60': 0.6585494069980822, 'p50': 0.1029562967678247}. Best is trial 15 with value: 1.0451865405120753.\n",
      "[I 2024-04-28 20:08:46,081] Trial 24 finished with value: 1.0396606917691698 and parameters: {'p85': 0.9093788088494966, 'p80': 0.8780961635799596, 'p75': 0.9917506716466823, 'p70': 0.7560444328694568, 'p60': 0.8633203237635274, 'p50': 0.38048230580107345}. Best is trial 15 with value: 1.0451865405120753.\n",
      "[I 2024-04-28 20:08:57,153] Trial 25 finished with value: 1.0116091541660879 and parameters: {'p85': 0.8950035021077449, 'p80': 0.9085483819583612, 'p75': 0.8310081247185355, 'p70': 0.8863643022558326, 'p60': 0.8748477624359905, 'p50': 0.37922420776956606}. Best is trial 15 with value: 1.0451865405120753.\n",
      "[I 2024-04-28 20:09:08,402] Trial 26 finished with value: 1.014649378775144 and parameters: {'p85': 0.6389014019228347, 'p80': 0.9911150724577688, 'p75': 0.9105918549747292, 'p70': 0.7360686636658477, 'p60': 0.991824920971389, 'p50': 0.2172617617505547}. Best is trial 15 with value: 1.0451865405120753.\n",
      "[I 2024-04-28 20:09:20,287] Trial 27 finished with value: 0.9811612844974663 and parameters: {'p85': 0.583517380888403, 'p80': 0.8308777364881497, 'p75': 0.7057339099096835, 'p70': 0.7716023132970575, 'p60': 0.85107533015209, 'p50': 0.3061626155596736}. Best is trial 15 with value: 1.0451865405120753.\n",
      "[I 2024-04-28 20:09:31,737] Trial 28 finished with value: 1.02258087656525 and parameters: {'p85': 0.7790759140462339, 'p80': 0.9240622540510793, 'p75': 0.9155333464687798, 'p70': 0.8736580707784869, 'p60': 0.7843093850218406, 'p50': 0.1361959935458357}. Best is trial 15 with value: 1.0451865405120753.\n",
      "[I 2024-04-28 20:09:43,092] Trial 29 finished with value: 1.008425878645918 and parameters: {'p85': 0.8302073289247293, 'p80': 0.801292034525576, 'p75': 0.7926267072404859, 'p70': 0.7774175684471337, 'p60': 0.5792761359435572, 'p50': 0.4275264339781548}. Best is trial 15 with value: 1.0451865405120753.\n",
      "[I 2024-04-28 20:09:54,724] Trial 30 finished with value: 0.9847581708808238 and parameters: {'p85': 0.6493701351000576, 'p80': 0.8902635391376196, 'p75': 0.7333365177021551, 'p70': 0.6318726187898757, 'p60': 0.9474943669160129, 'p50': 0.23087044728011216}. Best is trial 15 with value: 1.0451865405120753.\n",
      "[I 2024-04-28 20:10:05,509] Trial 31 finished with value: 1.0437517999222932 and parameters: {'p85': 0.9180229712804986, 'p80': 0.7972875198116512, 'p75': 0.9900279978245117, 'p70': 0.6873533116343321, 'p60': 0.6974202791823529, 'p50': 0.5235947510010904}. Best is trial 15 with value: 1.0451865405120753.\n",
      "[I 2024-04-28 20:10:17,326] Trial 32 finished with value: 1.0162906752721246 and parameters: {'p85': 0.9176089522335913, 'p80': 0.83931593857374, 'p75': 0.9240365285532772, 'p70': 0.7634734912290323, 'p60': 0.877235896721843, 'p50': 0.010176943356093426}. Best is trial 15 with value: 1.0451865405120753.\n",
      "[I 2024-04-28 20:10:28,498] Trial 33 finished with value: 1.0373273679905184 and parameters: {'p85': 0.8330716952270685, 'p80': 0.7879439113805532, 'p75': 0.9469771054420547, 'p70': 0.6518399085207444, 'p60': 0.7539205050636034, 'p50': 0.4621037785961567}. Best is trial 15 with value: 1.0451865405120753.\n",
      "[I 2024-04-28 20:10:39,230] Trial 34 finished with value: 1.0382029407197113 and parameters: {'p85': 0.6886616680617289, 'p80': 0.9289334091092404, 'p75': 0.9933628828228516, 'p70': 0.8404912753507461, 'p60': 0.8236067539952556, 'p50': 0.3451684424588302}. Best is trial 15 with value: 1.0451865405120753.\n",
      "[I 2024-04-28 20:10:50,016] Trial 35 finished with value: 1.0102430445645985 and parameters: {'p85': 0.8983312285228507, 'p80': 0.9895314220629958, 'p75': 0.8189508856152641, 'p70': 0.7399370996859747, 'p60': 0.6468056529256425, 'p50': 0.5613615907692447}. Best is trial 15 with value: 1.0451865405120753.\n",
      "[I 2024-04-28 20:11:00,982] Trial 36 finished with value: 1.0298811038453937 and parameters: {'p85': 0.5233887595473917, 'p80': 0.6782168623818071, 'p75': 0.8939350058859612, 'p70': 0.9388744753062618, 'p60': 0.9999142727940065, 'p50': 0.4291289746375557}. Best is trial 15 with value: 1.0451865405120753.\n",
      "[I 2024-04-28 20:11:11,713] Trial 37 finished with value: 1.0317744900585308 and parameters: {'p85': 0.7596851473239172, 'p80': 0.8751124472396287, 'p75': 0.9379120697346628, 'p70': 0.6758222696220383, 'p60': 0.7128600481924321, 'p50': 0.3067449657478272}. Best is trial 15 with value: 1.0451865405120753.\n",
      "[I 2024-04-28 20:11:22,671] Trial 38 finished with value: 1.0016240592804395 and parameters: {'p85': 0.94307989083582, 'p80': 0.7837920840315584, 'p75': 0.8233603817850874, 'p70': 0.5975723059754939, 'p60': 0.9091373622141419, 'p50': 0.2697648199472631}. Best is trial 15 with value: 1.0451865405120753.\n",
      "[I 2024-04-28 20:11:33,660] Trial 39 finished with value: 1.0026873764210409 and parameters: {'p85': 0.8674290198165009, 'p80': 0.5153197455506552, 'p75': 0.7718121618693892, 'p70': 0.4653636076989448, 'p60': 0.5310497802123904, 'p50': 0.3870032227532073}. Best is trial 15 with value: 1.0451865405120753.\n",
      "[I 2024-04-28 20:11:44,413] Trial 40 finished with value: 1.0217831770025172 and parameters: {'p85': 0.9479815546003811, 'p80': 0.9337422644612292, 'p75': 0.8620239570621251, 'p70': 0.8619969576364832, 'p60': 0.6385498237253806, 'p50': 0.5560227043471098}. Best is trial 15 with value: 1.0451865405120753.\n",
      "[I 2024-04-28 20:11:55,015] Trial 41 finished with value: 1.0394393139009441 and parameters: {'p85': 0.9344615760728336, 'p80': 0.7376135768568571, 'p75': 0.9986621991812147, 'p70': 0.6853750816039398, 'p60': 0.7014554010176488, 'p50': 0.4363823303783042}. Best is trial 15 with value: 1.0451865405120753.\n",
      "[I 2024-04-28 20:12:05,676] Trial 42 finished with value: 1.0348495489980292 and parameters: {'p85': 0.9252993050816246, 'p80': 0.8222911362114634, 'p75': 0.9474053542377322, 'p70': 0.6666758012849952, 'p60': 0.6938782682664222, 'p50': 0.4478682039197477}. Best is trial 15 with value: 1.0451865405120753.\n"
     ]
    },
    {
     "name": "stdout",
     "output_type": "stream",
     "text": [
      "DRAW\n"
     ]
    },
    {
     "name": "stderr",
     "output_type": "stream",
     "text": [
      "[I 2024-04-28 20:12:16,438] Trial 43 finished with value: 1.0405053362323593 and parameters: {'p85': 0.8180028771769019, 'p80': 0.7575904380296201, 'p75': 0.9846602256979868, 'p70': 0.77465376775065, 'p60': 0.8022701933819995, 'p50': 0.36636734342563526}. Best is trial 15 with value: 1.0451865405120753.\n",
      "[I 2024-04-28 20:12:27,211] Trial 44 finished with value: 1.028000270948687 and parameters: {'p85': 0.8127945471942617, 'p80': 0.938929516587059, 'p75': 0.9439554007071542, 'p70': 0.7770821118199813, 'p60': 0.7901610346564542, 'p50': 0.3446469604947513}. Best is trial 15 with value: 1.0451865405120753.\n",
      "[I 2024-04-28 20:12:38,088] Trial 45 finished with value: 1.0179296417234347 and parameters: {'p85': 0.7312831419373647, 'p80': 0.7780210548852841, 'p75': 0.8965898649209694, 'p70': 0.7266732362543065, 'p60': 0.8694411346078917, 'p50': 0.2833104257949809}. Best is trial 15 with value: 1.0451865405120753.\n",
      "[I 2024-04-28 20:12:48,846] Trial 46 finished with value: 1.0359370216248094 and parameters: {'p85': 0.8733177110349232, 'p80': 0.5867392538337547, 'p75': 0.9523308519328887, 'p70': 0.9117678382228227, 'p60': 0.7518174333554335, 'p50': 0.17983124429970038}. Best is trial 15 with value: 1.0451865405120753.\n",
      "[I 2024-04-28 20:12:59,431] Trial 47 finished with value: 1.043966950652041 and parameters: {'p85': 0.852798327948542, 'p80': 0.858601040980465, 'p75': 0.9840681911574679, 'p70': 0.8091550640352069, 'p60': 0.5968463150306482, 'p50': 0.37942520519514}. Best is trial 15 with value: 1.0451865405120753.\n",
      "[I 2024-04-28 20:13:10,336] Trial 48 finished with value: 1.0149752844894218 and parameters: {'p85': 0.7309393520224724, 'p80': 0.6893055994571344, 'p75': 0.8275425920300917, 'p70': 0.8190433346650152, 'p60': 0.5449094451667504, 'p50': 0.2814300821678668}. Best is trial 15 with value: 1.0451865405120753.\n",
      "[I 2024-04-28 20:13:21,281] Trial 49 finished with value: 1.0317690354652207 and parameters: {'p85': 0.8004148756319449, 'p80': 0.55956603694501, 'p75': 0.8795916966448871, 'p70': 0.9850629376939944, 'p60': 0.609486338200058, 'p50': 0.4857712375670687}. Best is trial 15 with value: 1.0451865405120753.\n",
      "[I 2024-04-28 20:13:32,061] Trial 50 finished with value: 1.0387640246750969 and parameters: {'p85': 0.8656286471919051, 'p80': 0.6620341402842556, 'p75': 0.9558564544928558, 'p70': 0.8529538980641682, 'p60': 0.6028450832082761, 'p50': 0.348974866624307}. Best is trial 15 with value: 1.0451865405120753.\n",
      "[I 2024-04-28 20:13:42,715] Trial 51 finished with value: 1.0391479117475706 and parameters: {'p85': 0.8464086691387928, 'p80': 0.8623258755675387, 'p75': 0.9931795010348926, 'p70': 0.8037053092648715, 'p60': 0.7312938593739915, 'p50': 0.39369146329224103}. Best is trial 15 with value: 1.0451865405120753.\n",
      "[I 2024-04-28 20:13:53,485] Trial 52 finished with value: 1.0306253364956786 and parameters: {'p85': 0.8013641364594729, 'p80': 0.955978499404174, 'p75': 0.9640712179258986, 'p70': 0.7000859909868908, 'p60': 0.7898590191552901, 'p50': 0.23667482257174993}. Best is trial 15 with value: 1.0451865405120753.\n",
      "[I 2024-04-28 20:14:04,260] Trial 53 finished with value: 1.0242621309016418 and parameters: {'p85': 0.9657039143147275, 'p80': 0.8902976257658257, 'p75': 0.9035370483227838, 'p70': 0.8864036110721789, 'p60': 0.6732636528882817, 'p50': 0.5285173780789102}. Best is trial 15 with value: 1.0451865405120753.\n",
      "[I 2024-04-28 20:14:15,074] Trial 54 finished with value: 1.0308770194053716 and parameters: {'p85': 0.9538275596749568, 'p80': 0.8210665026289224, 'p75': 0.998746806031358, 'p70': 0.7581601696805926, 'p60': 0.8162840917359722, 'p50': 0.4675218308280954}. Best is trial 15 with value: 1.0451865405120753.\n",
      "[I 2024-04-28 20:14:25,858] Trial 55 finished with value: 1.0396653939036715 and parameters: {'p85': 0.9985837459735649, 'p80': 0.7668110110254441, 'p75': 0.966241550040768, 'p70': 0.7898856345993535, 'p60': 0.7483031001123356, 'p50': 0.41141356407752483}. Best is trial 15 with value: 1.0451865405120753.\n",
      "[I 2024-04-28 20:14:36,772] Trial 56 finished with value: 1.0175101308402636 and parameters: {'p85': 0.9982056809316847, 'p80': 0.7752302865245272, 'p75': 0.8689599968099586, 'p70': 0.8383331165702, 'p60': 0.7385969317294839, 'p50': 0.5845801227330544}. Best is trial 15 with value: 1.0451865405120753.\n",
      "[I 2024-04-28 20:14:47,568] Trial 57 finished with value: 1.0304066112572454 and parameters: {'p85': 0.9968912480440084, 'p80': 0.6907145436798465, 'p75': 0.9251366761683452, 'p70': 0.7965298653387287, 'p60': 0.6663469775364192, 'p50': 0.5072759870268481}. Best is trial 15 with value: 1.0451865405120753.\n",
      "[I 2024-04-28 20:14:58,270] Trial 58 finished with value: 1.0402683647510318 and parameters: {'p85': 0.8656603688824898, 'p80': 0.7550657426399032, 'p75': 0.965085534770924, 'p70': 0.7137656863568425, 'p60': 0.6349570880063646, 'p50': 0.40915775390064063}. Best is trial 15 with value: 1.0451865405120753.\n",
      "[I 2024-04-28 20:15:08,982] Trial 59 finished with value: 1.032465591265503 and parameters: {'p85': 0.8484796400986101, 'p80': 0.7324106680965209, 'p75': 0.8993658868971239, 'p70': 0.7052734464904509, 'p60': 0.5001345214335327, 'p50': 0.47949068925267047}. Best is trial 15 with value: 1.0451865405120753.\n",
      "[I 2024-04-28 20:15:20,137] Trial 60 finished with value: 1.0292038511612336 and parameters: {'p85': 0.45661999429075506, 'p80': 0.6354136057389562, 'p75': 0.8513505484750202, 'p70': 0.6450776869978156, 'p60': 0.6157668304092582, 'p50': 0.35962667938943854}. Best is trial 15 with value: 1.0451865405120753.\n",
      "[I 2024-04-28 20:15:31,105] Trial 61 finished with value: 1.0283495997761087 and parameters: {'p85': 0.887307154983597, 'p80': 0.758033906538654, 'p75': 0.9698524478368404, 'p70': 0.7231855040004904, 'p60': 0.7207570325660387, 'p50': 0.43571141379253997}. Best is trial 15 with value: 1.0451865405120753.\n",
      "[I 2024-04-28 20:15:42,070] Trial 62 finished with value: 1.029504089714432 and parameters: {'p85': 0.9652684879009871, 'p80': 0.7129254647116526, 'p75': 0.9585266231873293, 'p70': 0.8044148117270125, 'p60': 0.6828054173005369, 'p50': 0.4029208516930734}. Best is trial 15 with value: 1.0451865405120753.\n",
      "[I 2024-04-28 20:15:53,009] Trial 63 finished with value: 1.0276490813139372 and parameters: {'p85': 0.8989747524097412, 'p80': 0.8511607122747522, 'p75': 0.9225203221459939, 'p70': 0.8668615001137634, 'p60': 0.6340973308981492, 'p50': 0.3135303725985461}. Best is trial 15 with value: 1.0451865405120753.\n",
      "[I 2024-04-28 20:16:03,720] Trial 64 finished with value: 1.0406242955722569 and parameters: {'p85': 0.7875439097963263, 'p80': 0.8074986655680896, 'p75': 0.9663152529956702, 'p70': 0.753291878369448, 'p60': 0.76296406310013, 'p50': 0.4137970185785639}. Best is trial 15 with value: 1.0451865405120753.\n",
      "[I 2024-04-28 20:16:14,674] Trial 65 finished with value: 1.0305627854177137 and parameters: {'p85': 0.7759145117845672, 'p80': 0.8117327389068781, 'p75': 0.8934844772527286, 'p70': 0.7470038483794582, 'p60': 0.5747095980816341, 'p50': 0.37090604819599526}. Best is trial 15 with value: 1.0451865405120753.\n",
      "[I 2024-04-28 20:16:25,434] Trial 66 finished with value: 1.031554666278295 and parameters: {'p85': 0.8214505523367418, 'p80': 0.9027581878849346, 'p75': 0.9714809036544515, 'p70': 0.7110901685485613, 'p60': 0.7921327391972832, 'p50': 0.46911710854644667}. Best is trial 15 with value: 1.0451865405120753.\n",
      "[I 2024-04-28 20:16:36,375] Trial 67 finished with value: 1.0374137491429551 and parameters: {'p85': 0.7111608861257396, 'p80': 0.8083299475791241, 'p75': 0.9196669865748706, 'p70': 0.8312057562904667, 'p60': 0.6510698233844442, 'p50': 0.34091061942206136}. Best is trial 15 with value: 1.0451865405120753.\n",
      "[I 2024-04-28 20:16:47,584] Trial 68 finished with value: 1.0163898584342081 and parameters: {'p85': 0.761129344789845, 'p80': 0.8415130233326984, 'p75': 0.8079001795769514, 'p70': 0.6670976341833017, 'p60': 0.7067106844354147, 'p50': 0.31877736132737805}. Best is trial 15 with value: 1.0451865405120753.\n",
      "[I 2024-04-28 20:16:58,708] Trial 69 finished with value: 1.0113395659086741 and parameters: {'p85': 0.8524853684864164, 'p80': 0.9608870140333704, 'p75': 0.8414748865205984, 'p70': 0.7558461161653058, 'p60': 0.7560484268040863, 'p50': 0.41364328878672113}. Best is trial 15 with value: 1.0451865405120753.\n",
      "[I 2024-04-28 20:17:09,408] Trial 70 finished with value: 1.0375693322565411 and parameters: {'p85': 0.7972462394631342, 'p80': 0.7070901058864245, 'p75': 0.9982671391099578, 'p70': 0.9152787127269846, 'p60': 0.8394076062678335, 'p50': 0.26790148817593284}. Best is trial 15 with value: 1.0451865405120753.\n",
      "[I 2024-04-28 20:17:20,317] Trial 71 finished with value: 1.0347892183920364 and parameters: {'p85': 0.9154590653092568, 'p80': 0.7535006461576894, 'p75': 0.9609318033494733, 'p70': 0.787003961219649, 'p60': 0.7709402693770729, 'p50': 0.4264300452151438}. Best is trial 15 with value: 1.0451865405120753.\n",
      "[I 2024-04-28 20:17:31,172] Trial 72 finished with value: 1.0232666369652612 and parameters: {'p85': 0.8809790227703463, 'p80': 0.793863764418894, 'p75': 0.9271451994285688, 'p70': 0.7849134860709932, 'p60': 0.7411043599096964, 'p50': 0.401207815663674}. Best is trial 15 with value: 1.0451865405120753.\n",
      "[I 2024-04-28 20:17:42,023] Trial 73 finished with value: 1.0372682569381393 and parameters: {'p85': 0.9415225921338461, 'p80': 0.7609806116786779, 'p75': 0.9660646733101416, 'p70': 0.8247026155894115, 'p60': 0.6790159777348955, 'p50': 0.37184778486110714}. Best is trial 15 with value: 1.0451865405120753.\n",
      "[I 2024-04-28 20:17:52,676] Trial 74 finished with value: 1.0201289471651755 and parameters: {'p85': 0.9660551241574874, 'p80': 0.8626761347984303, 'p75': 0.8805430136598825, 'p70': 0.7373096194714626, 'p60': 0.7143708027861708, 'p50': 0.45872027896114126}. Best is trial 15 with value: 1.0451865405120753.\n",
      "[I 2024-04-28 20:18:03,358] Trial 75 finished with value: 1.0277300742282065 and parameters: {'p85': 0.8313260299490088, 'p80': 0.9052635839784061, 'p75': 0.9333142122881827, 'p70': 0.7105029277622346, 'p60': 0.8010836038318683, 'p50': 0.4063446529649153}. Best is trial 15 with value: 1.0451865405120753.\n",
      "[I 2024-04-28 20:18:14,049] Trial 76 finished with value: 1.033631382872104 and parameters: {'p85': 0.9082559607201652, 'p80': 0.7201408166759087, 'p75': 0.9738327792602692, 'p70': 0.6251238982864811, 'p60': 0.8422459727753047, 'p50': 0.5006489749845482}. Best is trial 15 with value: 1.0451865405120753.\n",
      "[I 2024-04-28 20:18:24,936] Trial 77 finished with value: 1.0117912568052014 and parameters: {'p85': 0.871749230933213, 'p80': 0.995159010931676, 'p75': 0.8479016226153153, 'p70': 0.8565547126373309, 'p60': 0.7615915955177056, 'p50': 0.2923385415686298}. Best is trial 15 with value: 1.0451865405120753.\n",
      "[I 2024-04-28 20:18:35,568] Trial 78 finished with value: 1.0313026364610347 and parameters: {'p85': 0.9265770120635459, 'p80': 0.82877066097392, 'p75': 0.9353302151311272, 'p70': 0.7767326273236599, 'p60': 0.6371206928960235, 'p50': 0.32842880446008327}. Best is trial 15 with value: 1.0451865405120753.\n",
      "[I 2024-04-28 20:18:46,259] Trial 79 finished with value: 1.0302832089632419 and parameters: {'p85': 0.8321312827367738, 'p80': 0.7561704583720206, 'p75': 0.9760270992163761, 'p70': 0.6805278310723049, 'p60': 0.8183748436311191, 'p50': 0.24824455817553295}. Best is trial 15 with value: 1.0451865405120753.\n",
      "[I 2024-04-28 20:18:57,038] Trial 80 finished with value: 1.015331503860328 and parameters: {'p85': 0.9732714046454654, 'p80': 0.7838011771107067, 'p75': 0.8758936584852068, 'p70': 0.8050770756321138, 'p60': 0.6913699469175498, 'p50': 0.4427586472867718}. Best is trial 15 with value: 1.0451865405120753.\n",
      "[I 2024-04-28 20:19:07,686] Trial 81 finished with value: 1.0406390428112062 and parameters: {'p85': 0.8942204715335363, 'p80': 0.8864683612835201, 'p75': 0.9971226314601883, 'p70': 0.7607454703654263, 'p60': 0.8813615231746571, 'p50': 0.38291549802567976}. Best is trial 15 with value: 1.0451865405120753.\n",
      "[I 2024-04-28 20:19:18,273] Trial 82 finished with value: 1.0378063290581927 and parameters: {'p85': 0.8845679029478912, 'p80': 0.8872734683860374, 'p75': 0.999402041852031, 'p70': 0.7632680856565748, 'p60': 0.8665962166128172, 'p50': 0.369524203245077}. Best is trial 15 with value: 1.0451865405120753.\n",
      "[I 2024-04-28 20:19:28,979] Trial 83 finished with value: 1.0290672449624494 and parameters: {'p85': 0.8121927952208234, 'p80': 0.8508562897010357, 'p75': 0.9449341298483424, 'p70': 0.7468965752805048, 'p60': 0.9234705643317775, 'p50': 0.4142246507576356}. Best is trial 15 with value: 1.0451865405120753.\n",
      "[I 2024-04-28 20:19:39,633] Trial 84 finished with value: 1.0331304888723887 and parameters: {'p85': 0.8580325926044844, 'p80': 0.9267059722532289, 'p75': 0.9763317938083663, 'p70': 0.725087473429745, 'p60': 0.8819960508344721, 'p50': 0.3358637181190512}. Best is trial 15 with value: 1.0451865405120753.\n",
      "[I 2024-04-28 20:19:50,386] Trial 85 finished with value: 1.024615683883627 and parameters: {'p85': 0.9422963775551324, 'p80': 0.8044648289800874, 'p75': 0.8997820266476312, 'p70': 0.8889872110678594, 'p60': 0.7663130184027471, 'p50': 0.45606918497373206}. Best is trial 15 with value: 1.0451865405120753.\n",
      "[I 2024-04-28 20:20:01,204] Trial 86 finished with value: 1.0343426776233564 and parameters: {'p85': 0.7818455259870867, 'p80': 0.9503893052283379, 'p75': 0.9119405801677154, 'p70': 0.8383738383772591, 'p60': 0.5941565186579015, 'p50': 0.5282634477245499}. Best is trial 15 with value: 1.0451865405120753.\n",
      "[I 2024-04-28 20:20:11,878] Trial 87 finished with value: 1.0365078792127786 and parameters: {'p85': 0.9003631306477278, 'p80': 0.8264154299108861, 'p75': 0.9744351299928818, 'p70': 0.7806310183912, 'p60': 0.7247500573198701, 'p50': 0.38426384726752466}. Best is trial 15 with value: 1.0451865405120753.\n",
      "[I 2024-04-28 20:20:22,567] Trial 88 finished with value: 1.028590999063277 and parameters: {'p85': 0.747566216509274, 'p80': 0.8754564491790505, 'p75': 0.9416416795360577, 'p70': 0.684641702391563, 'p60': 0.8033173837565436, 'p50': 0.2109730717151582}. Best is trial 15 with value: 1.0451865405120753.\n",
      "[I 2024-04-28 20:20:33,276] Trial 89 finished with value: 1.0396880849611874 and parameters: {'p85': 0.9210745087731264, 'p80': 0.7321869117269287, 'p75': 0.9451534467439086, 'p70': 0.811722196202121, 'p60': 0.6569653659970632, 'p50': 0.2949291040879417}. Best is trial 15 with value: 1.0451865405120753.\n",
      "[I 2024-04-28 20:20:43,805] Trial 90 finished with value: 1.042578775039133 and parameters: {'p85': 0.8534533728917061, 'p80': 0.6574474443527717, 'p75': 0.9976944826242768, 'p70': 0.8174180568731342, 'p60': 0.6592181003358504, 'p50': 0.3568311313320634}. Best is trial 15 with value: 1.0451865405120753.\n",
      "[I 2024-04-28 20:20:54,273] Trial 91 finished with value: 1.0447361716452253 and parameters: {'p85': 0.8632641011126571, 'p80': 0.6497481300997382, 'p75': 0.9969236114024482, 'p70': 0.817979068901359, 'p60': 0.6565642546980727, 'p50': 0.3536455178506097}. Best is trial 15 with value: 1.0451865405120753.\n",
      "[I 2024-04-28 20:21:04,851] Trial 92 finished with value: 1.0404556948976333 and parameters: {'p85': 0.8455010960482892, 'p80': 0.6754870743124899, 'p75': 0.9828111344261303, 'p70': 0.8530418773693921, 'p60': 0.6240497920454512, 'p50': 0.32585234936882274}. Best is trial 15 with value: 1.0451865405120753.\n",
      "[I 2024-04-28 20:21:15,425] Trial 93 finished with value: 1.0458258559492748 and parameters: {'p85': 0.8451913812233321, 'p80': 0.6663112818469483, 'p75': 0.9978365615198751, 'p70': 0.8670707913138984, 'p60': 0.6194333907310805, 'p50': 0.35426185493272366}. Best is trial 93 with value: 1.0458258559492748.\n",
      "[I 2024-04-28 20:21:26,292] Trial 94 finished with value: 1.0486698486717092 and parameters: {'p85': 0.8435448142772414, 'p80': 0.6628372664188684, 'p75': 0.9893136148852312, 'p70': 0.8614360052779841, 'p60': 0.5931082992399815, 'p50': 0.35768549719436166}. Best is trial 94 with value: 1.0486698486717092.\n",
      "[I 2024-04-28 20:21:37,083] Trial 95 finished with value: 1.0453601030741917 and parameters: {'p85': 0.8103009336728142, 'p80': 0.6530570270314281, 'p75': 0.9984971458625254, 'p70': 0.871285038087003, 'p60': 0.5930516649769302, 'p50': 0.36531522168989866}. Best is trial 94 with value: 1.0486698486717092.\n",
      "[I 2024-04-28 20:21:47,959] Trial 96 finished with value: 1.042060541681464 and parameters: {'p85': 0.8014596034773416, 'p80': 0.6408695181950586, 'p75': 0.935827561996078, 'p70': 0.9012905202028084, 'p60': 0.5978562369509647, 'p50': 0.35325533314680235}. Best is trial 94 with value: 1.0486698486717092.\n",
      "[I 2024-04-28 20:21:58,700] Trial 97 finished with value: 1.0461860057077113 and parameters: {'p85': 0.8154409153293756, 'p80': 0.6511672845739838, 'p75': 0.9988556280785046, 'p70': 0.9435928976274677, 'p60': 0.5557479716947112, 'p50': 0.351340519115503}. Best is trial 94 with value: 1.0486698486717092.\n",
      "[I 2024-04-28 20:22:09,466] Trial 98 finished with value: 1.033310650659247 and parameters: {'p85': 0.8079892683895209, 'p80': 0.6357565867753812, 'p75': 0.9090974733939149, 'p70': 0.9523012762460322, 'p60': 0.5492499049431616, 'p50': 0.35632844565100114}. Best is trial 94 with value: 1.0486698486717092.\n",
      "[I 2024-04-28 20:22:20,388] Trial 99 finished with value: 1.030697395858961 and parameters: {'p85': 0.7719662895379404, 'p80': 0.6110119376976699, 'p75': 0.9369066077837215, 'p70': 0.9065979229701496, 'p60': 0.5959253997018436, 'p50': 0.3011988893996628}. Best is trial 94 with value: 1.0486698486717092.\n"
     ]
    }
   ],
   "source": [
    "import optuna\n",
    "\n",
    "initial_params = {\n",
    "    'p85': 0.85,\n",
    "    'p80': 0.80,\n",
    "    'p75': 0.75,\n",
    "    'p70': 0.70,\n",
    "    'p60': 0.60,\n",
    "    'p50': 0.50,\n",
    "}\n",
    "\n",
    "\n",
    "def weighted_result(results, weights, maxes):\n",
    "    norm_results = [r / m for r, m in zip(results, maxes)]\n",
    "    weighted_score = sum([w * n for w, n in zip(weights, norm_results)]) / sum(weights)\n",
    "    return weighted_score\n",
    "\n",
    "\n",
    "def objective(trial):\n",
    "    p85 = trial.suggest_float('p85', 0, 1)\n",
    "    p80 = trial.suggest_float('p80', 0, 1)\n",
    "    p75 = trial.suggest_float('p75', 0, 1)\n",
    "    p70 = trial.suggest_float('p70', 0, 1)\n",
    "    p60 = trial.suggest_float('p60', 0, 1)\n",
    "    p50 = trial.suggest_float('p50', 0, 1)\n",
    "    \n",
    "    simple = SimplePlayer\n",
    "    golab = GolabUladzislau\n",
    "    player = Hybiak\n",
    "\n",
    "    params = {'name': '',\n",
    "            'p85': p85,\n",
    "            'p80': p80,\n",
    "            'p75': p75,\n",
    "            'p70': p70,\n",
    "            'p60': p60,\n",
    "            'p50': p50}\n",
    "    \n",
    "    results = []\n",
    "    for proba in probas:\n",
    "        p = {\"p\": proba, 'name':''}\n",
    "        result = comparePlayers(player, SimplePlayer, params, p)\n",
    "        results.append(result[0][0])\n",
    "                         \n",
    "    result_golab = comparePlayers(player, golab, params, {'name':''})\n",
    "    results.append(result_golab[0][0])\n",
    "    score = weighted_result(results, weights, maxes)\n",
    "                         \n",
    "    return score # funkcja celu to liczba ważona liczba zwycięstw na 10k rund\n",
    "\n",
    "study = optuna.create_study(direction='maximize')\n",
    "study.enqueue_trial(initial_params)\n",
    "\n",
    "study.optimize(objective, n_trials=100) # ~20min\n",
    "\n",
    "best_params = study.best_params\n",
    "best_score = study.best_value"
   ]
  },
  {
   "cell_type": "code",
   "execution_count": null,
   "metadata": {},
   "outputs": [],
   "source": [
    "# 100 trials: 1.052 -> kolejne 100 trials: 1.071"
   ]
  },
  {
   "cell_type": "code",
   "execution_count": null,
   "metadata": {},
   "outputs": [],
   "source": [
    "# bez epsilona trudniej trochę, bardziej skomplikowana przestrzen 100 trials: 1.048"
   ]
  },
  {
   "cell_type": "code",
   "execution_count": 29,
   "metadata": {
    "tags": []
   },
   "outputs": [
    {
     "data": {
      "application/vnd.plotly.v1+json": {
       "config": {
        "plotlyServerURL": "https://plot.ly"
       },
       "data": [
        {
         "mode": "markers",
         "name": "Objective Value",
         "type": "scatter",
         "x": [
          0,
          1,
          2,
          3,
          4,
          5,
          6,
          7,
          8,
          9,
          10,
          11,
          12,
          13,
          14,
          15,
          16,
          17,
          18,
          19,
          20,
          21,
          22,
          23,
          24,
          25,
          26,
          27,
          28,
          29,
          30,
          31,
          32,
          33,
          34,
          35,
          36,
          37,
          38,
          39,
          40,
          41,
          42,
          43,
          44,
          45,
          46,
          47,
          48,
          49,
          50,
          51,
          52,
          53,
          54,
          55,
          56,
          57,
          58,
          59,
          60,
          61,
          62,
          63,
          64,
          65,
          66,
          67,
          68,
          69,
          70,
          71,
          72,
          73,
          74,
          75,
          76,
          77,
          78,
          79,
          80,
          81,
          82,
          83,
          84,
          85,
          86,
          87,
          88,
          89,
          90,
          91,
          92,
          93,
          94,
          95,
          96,
          97,
          98,
          99
         ],
         "y": [
          1.0000958596606775,
          0.9264520569480168,
          0.9579522799916043,
          0.8653602085190579,
          0.8846920515723586,
          0.9558160850045756,
          0.9696591607913018,
          0.9881673061585818,
          0.9672679004916734,
          0.9711387502275719,
          1.0297413683004848,
          1.0387860007596668,
          1.0360058779405312,
          1.0348716849887059,
          1.0224219448781944,
          1.0451865405120753,
          0.991998939088574,
          1.0238196624948754,
          1.0194297074806336,
          1.0403682885449506,
          0.9946881060441506,
          1.0382396337908604,
          1.0244189353278208,
          1.0185689151646793,
          1.0396606917691698,
          1.0116091541660879,
          1.014649378775144,
          0.9811612844974663,
          1.02258087656525,
          1.008425878645918,
          0.9847581708808238,
          1.0437517999222932,
          1.0162906752721246,
          1.0373273679905184,
          1.0382029407197113,
          1.0102430445645985,
          1.0298811038453937,
          1.0317744900585308,
          1.0016240592804395,
          1.0026873764210409,
          1.0217831770025172,
          1.0394393139009441,
          1.0348495489980292,
          1.0405053362323593,
          1.028000270948687,
          1.0179296417234347,
          1.0359370216248094,
          1.043966950652041,
          1.0149752844894218,
          1.0317690354652207,
          1.0387640246750969,
          1.0391479117475706,
          1.0306253364956786,
          1.0242621309016418,
          1.0308770194053716,
          1.0396653939036715,
          1.0175101308402636,
          1.0304066112572454,
          1.0402683647510318,
          1.032465591265503,
          1.0292038511612336,
          1.0283495997761087,
          1.029504089714432,
          1.0276490813139372,
          1.0406242955722569,
          1.0305627854177137,
          1.031554666278295,
          1.0374137491429551,
          1.0163898584342081,
          1.0113395659086741,
          1.0375693322565411,
          1.0347892183920364,
          1.0232666369652612,
          1.0372682569381393,
          1.0201289471651755,
          1.0277300742282065,
          1.033631382872104,
          1.0117912568052014,
          1.0313026364610347,
          1.0302832089632419,
          1.015331503860328,
          1.0406390428112062,
          1.0378063290581927,
          1.0290672449624494,
          1.0331304888723887,
          1.024615683883627,
          1.0343426776233564,
          1.0365078792127786,
          1.028590999063277,
          1.0396880849611874,
          1.042578775039133,
          1.0447361716452253,
          1.0404556948976333,
          1.0458258559492748,
          1.0486698486717092,
          1.0453601030741917,
          1.042060541681464,
          1.0461860057077113,
          1.033310650659247,
          1.030697395858961
         ]
        },
        {
         "mode": "lines",
         "name": "Best Value",
         "type": "scatter",
         "x": [
          0,
          1,
          2,
          3,
          4,
          5,
          6,
          7,
          8,
          9,
          10,
          11,
          12,
          13,
          14,
          15,
          16,
          17,
          18,
          19,
          20,
          21,
          22,
          23,
          24,
          25,
          26,
          27,
          28,
          29,
          30,
          31,
          32,
          33,
          34,
          35,
          36,
          37,
          38,
          39,
          40,
          41,
          42,
          43,
          44,
          45,
          46,
          47,
          48,
          49,
          50,
          51,
          52,
          53,
          54,
          55,
          56,
          57,
          58,
          59,
          60,
          61,
          62,
          63,
          64,
          65,
          66,
          67,
          68,
          69,
          70,
          71,
          72,
          73,
          74,
          75,
          76,
          77,
          78,
          79,
          80,
          81,
          82,
          83,
          84,
          85,
          86,
          87,
          88,
          89,
          90,
          91,
          92,
          93,
          94,
          95,
          96,
          97,
          98,
          99
         ],
         "y": [
          1.0000958596606775,
          1.0000958596606775,
          1.0000958596606775,
          1.0000958596606775,
          1.0000958596606775,
          1.0000958596606775,
          1.0000958596606775,
          1.0000958596606775,
          1.0000958596606775,
          1.0000958596606775,
          1.0297413683004848,
          1.0387860007596668,
          1.0387860007596668,
          1.0387860007596668,
          1.0387860007596668,
          1.0451865405120753,
          1.0451865405120753,
          1.0451865405120753,
          1.0451865405120753,
          1.0451865405120753,
          1.0451865405120753,
          1.0451865405120753,
          1.0451865405120753,
          1.0451865405120753,
          1.0451865405120753,
          1.0451865405120753,
          1.0451865405120753,
          1.0451865405120753,
          1.0451865405120753,
          1.0451865405120753,
          1.0451865405120753,
          1.0451865405120753,
          1.0451865405120753,
          1.0451865405120753,
          1.0451865405120753,
          1.0451865405120753,
          1.0451865405120753,
          1.0451865405120753,
          1.0451865405120753,
          1.0451865405120753,
          1.0451865405120753,
          1.0451865405120753,
          1.0451865405120753,
          1.0451865405120753,
          1.0451865405120753,
          1.0451865405120753,
          1.0451865405120753,
          1.0451865405120753,
          1.0451865405120753,
          1.0451865405120753,
          1.0451865405120753,
          1.0451865405120753,
          1.0451865405120753,
          1.0451865405120753,
          1.0451865405120753,
          1.0451865405120753,
          1.0451865405120753,
          1.0451865405120753,
          1.0451865405120753,
          1.0451865405120753,
          1.0451865405120753,
          1.0451865405120753,
          1.0451865405120753,
          1.0451865405120753,
          1.0451865405120753,
          1.0451865405120753,
          1.0451865405120753,
          1.0451865405120753,
          1.0451865405120753,
          1.0451865405120753,
          1.0451865405120753,
          1.0451865405120753,
          1.0451865405120753,
          1.0451865405120753,
          1.0451865405120753,
          1.0451865405120753,
          1.0451865405120753,
          1.0451865405120753,
          1.0451865405120753,
          1.0451865405120753,
          1.0451865405120753,
          1.0451865405120753,
          1.0451865405120753,
          1.0451865405120753,
          1.0451865405120753,
          1.0451865405120753,
          1.0451865405120753,
          1.0451865405120753,
          1.0451865405120753,
          1.0451865405120753,
          1.0451865405120753,
          1.0451865405120753,
          1.0451865405120753,
          1.0458258559492748,
          1.0486698486717092,
          1.0486698486717092,
          1.0486698486717092,
          1.0486698486717092,
          1.0486698486717092,
          1.0486698486717092
         ]
        },
        {
         "marker": {
          "color": "#cccccc"
         },
         "mode": "markers",
         "name": "Infeasible Trial",
         "showlegend": false,
         "type": "scatter",
         "x": [],
         "y": []
        }
       ],
       "layout": {
        "autosize": true,
        "template": {
         "data": {
          "bar": [
           {
            "error_x": {
             "color": "#2a3f5f"
            },
            "error_y": {
             "color": "#2a3f5f"
            },
            "marker": {
             "line": {
              "color": "#E5ECF6",
              "width": 0.5
             },
             "pattern": {
              "fillmode": "overlay",
              "size": 10,
              "solidity": 0.2
             }
            },
            "type": "bar"
           }
          ],
          "barpolar": [
           {
            "marker": {
             "line": {
              "color": "#E5ECF6",
              "width": 0.5
             },
             "pattern": {
              "fillmode": "overlay",
              "size": 10,
              "solidity": 0.2
             }
            },
            "type": "barpolar"
           }
          ],
          "carpet": [
           {
            "aaxis": {
             "endlinecolor": "#2a3f5f",
             "gridcolor": "white",
             "linecolor": "white",
             "minorgridcolor": "white",
             "startlinecolor": "#2a3f5f"
            },
            "baxis": {
             "endlinecolor": "#2a3f5f",
             "gridcolor": "white",
             "linecolor": "white",
             "minorgridcolor": "white",
             "startlinecolor": "#2a3f5f"
            },
            "type": "carpet"
           }
          ],
          "choropleth": [
           {
            "colorbar": {
             "outlinewidth": 0,
             "ticks": ""
            },
            "type": "choropleth"
           }
          ],
          "contour": [
           {
            "colorbar": {
             "outlinewidth": 0,
             "ticks": ""
            },
            "colorscale": [
             [
              0,
              "#0d0887"
             ],
             [
              0.1111111111111111,
              "#46039f"
             ],
             [
              0.2222222222222222,
              "#7201a8"
             ],
             [
              0.3333333333333333,
              "#9c179e"
             ],
             [
              0.4444444444444444,
              "#bd3786"
             ],
             [
              0.5555555555555556,
              "#d8576b"
             ],
             [
              0.6666666666666666,
              "#ed7953"
             ],
             [
              0.7777777777777778,
              "#fb9f3a"
             ],
             [
              0.8888888888888888,
              "#fdca26"
             ],
             [
              1,
              "#f0f921"
             ]
            ],
            "type": "contour"
           }
          ],
          "contourcarpet": [
           {
            "colorbar": {
             "outlinewidth": 0,
             "ticks": ""
            },
            "type": "contourcarpet"
           }
          ],
          "heatmap": [
           {
            "colorbar": {
             "outlinewidth": 0,
             "ticks": ""
            },
            "colorscale": [
             [
              0,
              "#0d0887"
             ],
             [
              0.1111111111111111,
              "#46039f"
             ],
             [
              0.2222222222222222,
              "#7201a8"
             ],
             [
              0.3333333333333333,
              "#9c179e"
             ],
             [
              0.4444444444444444,
              "#bd3786"
             ],
             [
              0.5555555555555556,
              "#d8576b"
             ],
             [
              0.6666666666666666,
              "#ed7953"
             ],
             [
              0.7777777777777778,
              "#fb9f3a"
             ],
             [
              0.8888888888888888,
              "#fdca26"
             ],
             [
              1,
              "#f0f921"
             ]
            ],
            "type": "heatmap"
           }
          ],
          "heatmapgl": [
           {
            "colorbar": {
             "outlinewidth": 0,
             "ticks": ""
            },
            "colorscale": [
             [
              0,
              "#0d0887"
             ],
             [
              0.1111111111111111,
              "#46039f"
             ],
             [
              0.2222222222222222,
              "#7201a8"
             ],
             [
              0.3333333333333333,
              "#9c179e"
             ],
             [
              0.4444444444444444,
              "#bd3786"
             ],
             [
              0.5555555555555556,
              "#d8576b"
             ],
             [
              0.6666666666666666,
              "#ed7953"
             ],
             [
              0.7777777777777778,
              "#fb9f3a"
             ],
             [
              0.8888888888888888,
              "#fdca26"
             ],
             [
              1,
              "#f0f921"
             ]
            ],
            "type": "heatmapgl"
           }
          ],
          "histogram": [
           {
            "marker": {
             "pattern": {
              "fillmode": "overlay",
              "size": 10,
              "solidity": 0.2
             }
            },
            "type": "histogram"
           }
          ],
          "histogram2d": [
           {
            "colorbar": {
             "outlinewidth": 0,
             "ticks": ""
            },
            "colorscale": [
             [
              0,
              "#0d0887"
             ],
             [
              0.1111111111111111,
              "#46039f"
             ],
             [
              0.2222222222222222,
              "#7201a8"
             ],
             [
              0.3333333333333333,
              "#9c179e"
             ],
             [
              0.4444444444444444,
              "#bd3786"
             ],
             [
              0.5555555555555556,
              "#d8576b"
             ],
             [
              0.6666666666666666,
              "#ed7953"
             ],
             [
              0.7777777777777778,
              "#fb9f3a"
             ],
             [
              0.8888888888888888,
              "#fdca26"
             ],
             [
              1,
              "#f0f921"
             ]
            ],
            "type": "histogram2d"
           }
          ],
          "histogram2dcontour": [
           {
            "colorbar": {
             "outlinewidth": 0,
             "ticks": ""
            },
            "colorscale": [
             [
              0,
              "#0d0887"
             ],
             [
              0.1111111111111111,
              "#46039f"
             ],
             [
              0.2222222222222222,
              "#7201a8"
             ],
             [
              0.3333333333333333,
              "#9c179e"
             ],
             [
              0.4444444444444444,
              "#bd3786"
             ],
             [
              0.5555555555555556,
              "#d8576b"
             ],
             [
              0.6666666666666666,
              "#ed7953"
             ],
             [
              0.7777777777777778,
              "#fb9f3a"
             ],
             [
              0.8888888888888888,
              "#fdca26"
             ],
             [
              1,
              "#f0f921"
             ]
            ],
            "type": "histogram2dcontour"
           }
          ],
          "mesh3d": [
           {
            "colorbar": {
             "outlinewidth": 0,
             "ticks": ""
            },
            "type": "mesh3d"
           }
          ],
          "parcoords": [
           {
            "line": {
             "colorbar": {
              "outlinewidth": 0,
              "ticks": ""
             }
            },
            "type": "parcoords"
           }
          ],
          "pie": [
           {
            "automargin": true,
            "type": "pie"
           }
          ],
          "scatter": [
           {
            "fillpattern": {
             "fillmode": "overlay",
             "size": 10,
             "solidity": 0.2
            },
            "type": "scatter"
           }
          ],
          "scatter3d": [
           {
            "line": {
             "colorbar": {
              "outlinewidth": 0,
              "ticks": ""
             }
            },
            "marker": {
             "colorbar": {
              "outlinewidth": 0,
              "ticks": ""
             }
            },
            "type": "scatter3d"
           }
          ],
          "scattercarpet": [
           {
            "marker": {
             "colorbar": {
              "outlinewidth": 0,
              "ticks": ""
             }
            },
            "type": "scattercarpet"
           }
          ],
          "scattergeo": [
           {
            "marker": {
             "colorbar": {
              "outlinewidth": 0,
              "ticks": ""
             }
            },
            "type": "scattergeo"
           }
          ],
          "scattergl": [
           {
            "marker": {
             "colorbar": {
              "outlinewidth": 0,
              "ticks": ""
             }
            },
            "type": "scattergl"
           }
          ],
          "scattermapbox": [
           {
            "marker": {
             "colorbar": {
              "outlinewidth": 0,
              "ticks": ""
             }
            },
            "type": "scattermapbox"
           }
          ],
          "scatterpolar": [
           {
            "marker": {
             "colorbar": {
              "outlinewidth": 0,
              "ticks": ""
             }
            },
            "type": "scatterpolar"
           }
          ],
          "scatterpolargl": [
           {
            "marker": {
             "colorbar": {
              "outlinewidth": 0,
              "ticks": ""
             }
            },
            "type": "scatterpolargl"
           }
          ],
          "scatterternary": [
           {
            "marker": {
             "colorbar": {
              "outlinewidth": 0,
              "ticks": ""
             }
            },
            "type": "scatterternary"
           }
          ],
          "surface": [
           {
            "colorbar": {
             "outlinewidth": 0,
             "ticks": ""
            },
            "colorscale": [
             [
              0,
              "#0d0887"
             ],
             [
              0.1111111111111111,
              "#46039f"
             ],
             [
              0.2222222222222222,
              "#7201a8"
             ],
             [
              0.3333333333333333,
              "#9c179e"
             ],
             [
              0.4444444444444444,
              "#bd3786"
             ],
             [
              0.5555555555555556,
              "#d8576b"
             ],
             [
              0.6666666666666666,
              "#ed7953"
             ],
             [
              0.7777777777777778,
              "#fb9f3a"
             ],
             [
              0.8888888888888888,
              "#fdca26"
             ],
             [
              1,
              "#f0f921"
             ]
            ],
            "type": "surface"
           }
          ],
          "table": [
           {
            "cells": {
             "fill": {
              "color": "#EBF0F8"
             },
             "line": {
              "color": "white"
             }
            },
            "header": {
             "fill": {
              "color": "#C8D4E3"
             },
             "line": {
              "color": "white"
             }
            },
            "type": "table"
           }
          ]
         },
         "layout": {
          "annotationdefaults": {
           "arrowcolor": "#2a3f5f",
           "arrowhead": 0,
           "arrowwidth": 1
          },
          "autotypenumbers": "strict",
          "coloraxis": {
           "colorbar": {
            "outlinewidth": 0,
            "ticks": ""
           }
          },
          "colorscale": {
           "diverging": [
            [
             0,
             "#8e0152"
            ],
            [
             0.1,
             "#c51b7d"
            ],
            [
             0.2,
             "#de77ae"
            ],
            [
             0.3,
             "#f1b6da"
            ],
            [
             0.4,
             "#fde0ef"
            ],
            [
             0.5,
             "#f7f7f7"
            ],
            [
             0.6,
             "#e6f5d0"
            ],
            [
             0.7,
             "#b8e186"
            ],
            [
             0.8,
             "#7fbc41"
            ],
            [
             0.9,
             "#4d9221"
            ],
            [
             1,
             "#276419"
            ]
           ],
           "sequential": [
            [
             0,
             "#0d0887"
            ],
            [
             0.1111111111111111,
             "#46039f"
            ],
            [
             0.2222222222222222,
             "#7201a8"
            ],
            [
             0.3333333333333333,
             "#9c179e"
            ],
            [
             0.4444444444444444,
             "#bd3786"
            ],
            [
             0.5555555555555556,
             "#d8576b"
            ],
            [
             0.6666666666666666,
             "#ed7953"
            ],
            [
             0.7777777777777778,
             "#fb9f3a"
            ],
            [
             0.8888888888888888,
             "#fdca26"
            ],
            [
             1,
             "#f0f921"
            ]
           ],
           "sequentialminus": [
            [
             0,
             "#0d0887"
            ],
            [
             0.1111111111111111,
             "#46039f"
            ],
            [
             0.2222222222222222,
             "#7201a8"
            ],
            [
             0.3333333333333333,
             "#9c179e"
            ],
            [
             0.4444444444444444,
             "#bd3786"
            ],
            [
             0.5555555555555556,
             "#d8576b"
            ],
            [
             0.6666666666666666,
             "#ed7953"
            ],
            [
             0.7777777777777778,
             "#fb9f3a"
            ],
            [
             0.8888888888888888,
             "#fdca26"
            ],
            [
             1,
             "#f0f921"
            ]
           ]
          },
          "colorway": [
           "#636efa",
           "#EF553B",
           "#00cc96",
           "#ab63fa",
           "#FFA15A",
           "#19d3f3",
           "#FF6692",
           "#B6E880",
           "#FF97FF",
           "#FECB52"
          ],
          "font": {
           "color": "#2a3f5f"
          },
          "geo": {
           "bgcolor": "white",
           "lakecolor": "white",
           "landcolor": "#E5ECF6",
           "showlakes": true,
           "showland": true,
           "subunitcolor": "white"
          },
          "hoverlabel": {
           "align": "left"
          },
          "hovermode": "closest",
          "mapbox": {
           "style": "light"
          },
          "paper_bgcolor": "white",
          "plot_bgcolor": "#E5ECF6",
          "polar": {
           "angularaxis": {
            "gridcolor": "white",
            "linecolor": "white",
            "ticks": ""
           },
           "bgcolor": "#E5ECF6",
           "radialaxis": {
            "gridcolor": "white",
            "linecolor": "white",
            "ticks": ""
           }
          },
          "scene": {
           "xaxis": {
            "backgroundcolor": "#E5ECF6",
            "gridcolor": "white",
            "gridwidth": 2,
            "linecolor": "white",
            "showbackground": true,
            "ticks": "",
            "zerolinecolor": "white"
           },
           "yaxis": {
            "backgroundcolor": "#E5ECF6",
            "gridcolor": "white",
            "gridwidth": 2,
            "linecolor": "white",
            "showbackground": true,
            "ticks": "",
            "zerolinecolor": "white"
           },
           "zaxis": {
            "backgroundcolor": "#E5ECF6",
            "gridcolor": "white",
            "gridwidth": 2,
            "linecolor": "white",
            "showbackground": true,
            "ticks": "",
            "zerolinecolor": "white"
           }
          },
          "shapedefaults": {
           "line": {
            "color": "#2a3f5f"
           }
          },
          "ternary": {
           "aaxis": {
            "gridcolor": "white",
            "linecolor": "white",
            "ticks": ""
           },
           "baxis": {
            "gridcolor": "white",
            "linecolor": "white",
            "ticks": ""
           },
           "bgcolor": "#E5ECF6",
           "caxis": {
            "gridcolor": "white",
            "linecolor": "white",
            "ticks": ""
           }
          },
          "title": {
           "x": 0.05
          },
          "xaxis": {
           "automargin": true,
           "gridcolor": "white",
           "linecolor": "white",
           "ticks": "",
           "title": {
            "standoff": 15
           },
           "zerolinecolor": "white",
           "zerolinewidth": 2
          },
          "yaxis": {
           "automargin": true,
           "gridcolor": "white",
           "linecolor": "white",
           "ticks": "",
           "title": {
            "standoff": 15
           },
           "zerolinecolor": "white",
           "zerolinewidth": 2
          }
         }
        },
        "title": {
         "text": "Optimization History Plot"
        },
        "xaxis": {
         "autorange": true,
         "range": [
          -6.20766855378281,
          105.20766855378281
         ],
         "title": {
          "text": "Trial"
         },
         "type": "linear"
        },
        "yaxis": {
         "autorange": true,
         "range": [
          0.8502327139433536,
          1.0637973432474135
         ],
         "title": {
          "text": "Objective Value"
         },
         "type": "linear"
        }
       }
      },
      "image/png": "[encoded data removed]",
      "text/html": [
       "<div>                            <div id=\"3fcb1c85-79d4-41d2-b94e-e04e975d945d\" class=\"plotly-graph-div\" style=\"height:525px; width:100%;\"></div>            <script type=\"text/javascript\">                require([\"plotly\"], function(Plotly) {                    window.PLOTLYENV=window.PLOTLYENV || {};                                    if (document.getElementById(\"3fcb1c85-79d4-41d2-b94e-e04e975d945d\")) {                    Plotly.newPlot(                        \"3fcb1c85-79d4-41d2-b94e-e04e975d945d\",                        [{\"mode\":\"markers\",\"name\":\"Objective Value\",\"x\":[0,1,2,3,4,5,6,7,8,9,10,11,12,13,14,15,16,17,18,19,20,21,22,23,24,25,26,27,28,29,30,31,32,33,34,35,36,37,38,39,40,41,42,43,44,45,46,47,48,49,50,51,52,53,54,55,56,57,58,59,60,61,62,63,64,65,66,67,68,69,70,71,72,73,74,75,76,77,78,79,80,81,82,83,84,85,86,87,88,89,90,91,92,93,94,95,96,97,98,99],\"y\":[1.0000958596606775,0.9264520569480168,0.9579522799916043,0.8653602085190579,0.8846920515723586,0.9558160850045756,0.9696591607913018,0.9881673061585818,0.9672679004916734,0.9711387502275719,1.0297413683004848,1.0387860007596668,1.0360058779405312,1.0348716849887059,1.0224219448781944,1.0451865405120753,0.991998939088574,1.0238196624948754,1.0194297074806336,1.0403682885449506,0.9946881060441506,1.0382396337908604,1.0244189353278208,1.0185689151646793,1.0396606917691698,1.0116091541660879,1.014649378775144,0.9811612844974663,1.02258087656525,1.008425878645918,0.9847581708808238,1.0437517999222932,1.0162906752721246,1.0373273679905184,1.0382029407197113,1.0102430445645985,1.0298811038453937,1.0317744900585308,1.0016240592804395,1.0026873764210409,1.0217831770025172,1.0394393139009441,1.0348495489980292,1.0405053362323593,1.028000270948687,1.0179296417234347,1.0359370216248094,1.043966950652041,1.0149752844894218,1.0317690354652207,1.0387640246750969,1.0391479117475706,1.0306253364956786,1.0242621309016418,1.0308770194053716,1.0396653939036715,1.0175101308402636,1.0304066112572454,1.0402683647510318,1.032465591265503,1.0292038511612336,1.0283495997761087,1.029504089714432,1.0276490813139372,1.0406242955722569,1.0305627854177137,1.031554666278295,1.0374137491429551,1.0163898584342081,1.0113395659086741,1.0375693322565411,1.0347892183920364,1.0232666369652612,1.0372682569381393,1.0201289471651755,1.0277300742282065,1.033631382872104,1.0117912568052014,1.0313026364610347,1.0302832089632419,1.015331503860328,1.0406390428112062,1.0378063290581927,1.0290672449624494,1.0331304888723887,1.024615683883627,1.0343426776233564,1.0365078792127786,1.028590999063277,1.0396880849611874,1.042578775039133,1.0447361716452253,1.0404556948976333,1.0458258559492748,1.0486698486717092,1.0453601030741917,1.042060541681464,1.0461860057077113,1.033310650659247,1.030697395858961],\"type\":\"scatter\"},{\"mode\":\"lines\",\"name\":\"Best Value\",\"x\":[0,1,2,3,4,5,6,7,8,9,10,11,12,13,14,15,16,17,18,19,20,21,22,23,24,25,26,27,28,29,30,31,32,33,34,35,36,37,38,39,40,41,42,43,44,45,46,47,48,49,50,51,52,53,54,55,56,57,58,59,60,61,62,63,64,65,66,67,68,69,70,71,72,73,74,75,76,77,78,79,80,81,82,83,84,85,86,87,88,89,90,91,92,93,94,95,96,97,98,99],\"y\":[1.0000958596606775,1.0000958596606775,1.0000958596606775,1.0000958596606775,1.0000958596606775,1.0000958596606775,1.0000958596606775,1.0000958596606775,1.0000958596606775,1.0000958596606775,1.0297413683004848,1.0387860007596668,1.0387860007596668,1.0387860007596668,1.0387860007596668,1.0451865405120753,1.0451865405120753,1.0451865405120753,1.0451865405120753,1.0451865405120753,1.0451865405120753,1.0451865405120753,1.0451865405120753,1.0451865405120753,1.0451865405120753,1.0451865405120753,1.0451865405120753,1.0451865405120753,1.0451865405120753,1.0451865405120753,1.0451865405120753,1.0451865405120753,1.0451865405120753,1.0451865405120753,1.0451865405120753,1.0451865405120753,1.0451865405120753,1.0451865405120753,1.0451865405120753,1.0451865405120753,1.0451865405120753,1.0451865405120753,1.0451865405120753,1.0451865405120753,1.0451865405120753,1.0451865405120753,1.0451865405120753,1.0451865405120753,1.0451865405120753,1.0451865405120753,1.0451865405120753,1.0451865405120753,1.0451865405120753,1.0451865405120753,1.0451865405120753,1.0451865405120753,1.0451865405120753,1.0451865405120753,1.0451865405120753,1.0451865405120753,1.0451865405120753,1.0451865405120753,1.0451865405120753,1.0451865405120753,1.0451865405120753,1.0451865405120753,1.0451865405120753,1.0451865405120753,1.0451865405120753,1.0451865405120753,1.0451865405120753,1.0451865405120753,1.0451865405120753,1.0451865405120753,1.0451865405120753,1.0451865405120753,1.0451865405120753,1.0451865405120753,1.0451865405120753,1.0451865405120753,1.0451865405120753,1.0451865405120753,1.0451865405120753,1.0451865405120753,1.0451865405120753,1.0451865405120753,1.0451865405120753,1.0451865405120753,1.0451865405120753,1.0451865405120753,1.0451865405120753,1.0451865405120753,1.0451865405120753,1.0458258559492748,1.0486698486717092,1.0486698486717092,1.0486698486717092,1.0486698486717092,1.0486698486717092,1.0486698486717092],\"type\":\"scatter\"},{\"marker\":{\"color\":\"#cccccc\"},\"mode\":\"markers\",\"name\":\"Infeasible Trial\",\"showlegend\":false,\"x\":[],\"y\":[],\"type\":\"scatter\"}],                        {\"title\":{\"text\":\"Optimization History Plot\"},\"xaxis\":{\"title\":{\"text\":\"Trial\"}},\"yaxis\":{\"title\":{\"text\":\"Objective Value\"}},\"template\":{\"data\":{\"histogram2dcontour\":[{\"type\":\"histogram2dcontour\",\"colorbar\":{\"outlinewidth\":0,\"ticks\":\"\"},\"colorscale\":[[0.0,\"#0d0887\"],[0.1111111111111111,\"#46039f\"],[0.2222222222222222,\"#7201a8\"],[0.3333333333333333,\"#9c179e\"],[0.4444444444444444,\"#bd3786\"],[0.5555555555555556,\"#d8576b\"],[0.6666666666666666,\"#ed7953\"],[0.7777777777777778,\"#fb9f3a\"],[0.8888888888888888,\"#fdca26\"],[1.0,\"#f0f921\"]]}],\"choropleth\":[{\"type\":\"choropleth\",\"colorbar\":{\"outlinewidth\":0,\"ticks\":\"\"}}],\"histogram2d\":[{\"type\":\"histogram2d\",\"colorbar\":{\"outlinewidth\":0,\"ticks\":\"\"},\"colorscale\":[[0.0,\"#0d0887\"],[0.1111111111111111,\"#46039f\"],[0.2222222222222222,\"#7201a8\"],[0.3333333333333333,\"#9c179e\"],[0.4444444444444444,\"#bd3786\"],[0.5555555555555556,\"#d8576b\"],[0.6666666666666666,\"#ed7953\"],[0.7777777777777778,\"#fb9f3a\"],[0.8888888888888888,\"#fdca26\"],[1.0,\"#f0f921\"]]}],\"heatmap\":[{\"type\":\"heatmap\",\"colorbar\":{\"outlinewidth\":0,\"ticks\":\"\"},\"colorscale\":[[0.0,\"#0d0887\"],[0.1111111111111111,\"#46039f\"],[0.2222222222222222,\"#7201a8\"],[0.3333333333333333,\"#9c179e\"],[0.4444444444444444,\"#bd3786\"],[0.5555555555555556,\"#d8576b\"],[0.6666666666666666,\"#ed7953\"],[0.7777777777777778,\"#fb9f3a\"],[0.8888888888888888,\"#fdca26\"],[1.0,\"#f0f921\"]]}],\"heatmapgl\":[{\"type\":\"heatmapgl\",\"colorbar\":{\"outlinewidth\":0,\"ticks\":\"\"},\"colorscale\":[[0.0,\"#0d0887\"],[0.1111111111111111,\"#46039f\"],[0.2222222222222222,\"#7201a8\"],[0.3333333333333333,\"#9c179e\"],[0.4444444444444444,\"#bd3786\"],[0.5555555555555556,\"#d8576b\"],[0.6666666666666666,\"#ed7953\"],[0.7777777777777778,\"#fb9f3a\"],[0.8888888888888888,\"#fdca26\"],[1.0,\"#f0f921\"]]}],\"contourcarpet\":[{\"type\":\"contourcarpet\",\"colorbar\":{\"outlinewidth\":0,\"ticks\":\"\"}}],\"contour\":[{\"type\":\"contour\",\"colorbar\":{\"outlinewidth\":0,\"ticks\":\"\"},\"colorscale\":[[0.0,\"#0d0887\"],[0.1111111111111111,\"#46039f\"],[0.2222222222222222,\"#7201a8\"],[0.3333333333333333,\"#9c179e\"],[0.4444444444444444,\"#bd3786\"],[0.5555555555555556,\"#d8576b\"],[0.6666666666666666,\"#ed7953\"],[0.7777777777777778,\"#fb9f3a\"],[0.8888888888888888,\"#fdca26\"],[1.0,\"#f0f921\"]]}],\"surface\":[{\"type\":\"surface\",\"colorbar\":{\"outlinewidth\":0,\"ticks\":\"\"},\"colorscale\":[[0.0,\"#0d0887\"],[0.1111111111111111,\"#46039f\"],[0.2222222222222222,\"#7201a8\"],[0.3333333333333333,\"#9c179e\"],[0.4444444444444444,\"#bd3786\"],[0.5555555555555556,\"#d8576b\"],[0.6666666666666666,\"#ed7953\"],[0.7777777777777778,\"#fb9f3a\"],[0.8888888888888888,\"#fdca26\"],[1.0,\"#f0f921\"]]}],\"mesh3d\":[{\"type\":\"mesh3d\",\"colorbar\":{\"outlinewidth\":0,\"ticks\":\"\"}}],\"scatter\":[{\"fillpattern\":{\"fillmode\":\"overlay\",\"size\":10,\"solidity\":0.2},\"type\":\"scatter\"}],\"parcoords\":[{\"type\":\"parcoords\",\"line\":{\"colorbar\":{\"outlinewidth\":0,\"ticks\":\"\"}}}],\"scatterpolargl\":[{\"type\":\"scatterpolargl\",\"marker\":{\"colorbar\":{\"outlinewidth\":0,\"ticks\":\"\"}}}],\"bar\":[{\"error_x\":{\"color\":\"#2a3f5f\"},\"error_y\":{\"color\":\"#2a3f5f\"},\"marker\":{\"line\":{\"color\":\"#E5ECF6\",\"width\":0.5},\"pattern\":{\"fillmode\":\"overlay\",\"size\":10,\"solidity\":0.2}},\"type\":\"bar\"}],\"scattergeo\":[{\"type\":\"scattergeo\",\"marker\":{\"colorbar\":{\"outlinewidth\":0,\"ticks\":\"\"}}}],\"scatterpolar\":[{\"type\":\"scatterpolar\",\"marker\":{\"colorbar\":{\"outlinewidth\":0,\"ticks\":\"\"}}}],\"histogram\":[{\"marker\":{\"pattern\":{\"fillmode\":\"overlay\",\"size\":10,\"solidity\":0.2}},\"type\":\"histogram\"}],\"scattergl\":[{\"type\":\"scattergl\",\"marker\":{\"colorbar\":{\"outlinewidth\":0,\"ticks\":\"\"}}}],\"scatter3d\":[{\"type\":\"scatter3d\",\"line\":{\"colorbar\":{\"outlinewidth\":0,\"ticks\":\"\"}},\"marker\":{\"colorbar\":{\"outlinewidth\":0,\"ticks\":\"\"}}}],\"scattermapbox\":[{\"type\":\"scattermapbox\",\"marker\":{\"colorbar\":{\"outlinewidth\":0,\"ticks\":\"\"}}}],\"scatterternary\":[{\"type\":\"scatterternary\",\"marker\":{\"colorbar\":{\"outlinewidth\":0,\"ticks\":\"\"}}}],\"scattercarpet\":[{\"type\":\"scattercarpet\",\"marker\":{\"colorbar\":{\"outlinewidth\":0,\"ticks\":\"\"}}}],\"carpet\":[{\"aaxis\":{\"endlinecolor\":\"#2a3f5f\",\"gridcolor\":\"white\",\"linecolor\":\"white\",\"minorgridcolor\":\"white\",\"startlinecolor\":\"#2a3f5f\"},\"baxis\":{\"endlinecolor\":\"#2a3f5f\",\"gridcolor\":\"white\",\"linecolor\":\"white\",\"minorgridcolor\":\"white\",\"startlinecolor\":\"#2a3f5f\"},\"type\":\"carpet\"}],\"table\":[{\"cells\":{\"fill\":{\"color\":\"#EBF0F8\"},\"line\":{\"color\":\"white\"}},\"header\":{\"fill\":{\"color\":\"#C8D4E3\"},\"line\":{\"color\":\"white\"}},\"type\":\"table\"}],\"barpolar\":[{\"marker\":{\"line\":{\"color\":\"#E5ECF6\",\"width\":0.5},\"pattern\":{\"fillmode\":\"overlay\",\"size\":10,\"solidity\":0.2}},\"type\":\"barpolar\"}],\"pie\":[{\"automargin\":true,\"type\":\"pie\"}]},\"layout\":{\"autotypenumbers\":\"strict\",\"colorway\":[\"#636efa\",\"#EF553B\",\"#00cc96\",\"#ab63fa\",\"#FFA15A\",\"#19d3f3\",\"#FF6692\",\"#B6E880\",\"#FF97FF\",\"#FECB52\"],\"font\":{\"color\":\"#2a3f5f\"},\"hovermode\":\"closest\",\"hoverlabel\":{\"align\":\"left\"},\"paper_bgcolor\":\"white\",\"plot_bgcolor\":\"#E5ECF6\",\"polar\":{\"bgcolor\":\"#E5ECF6\",\"angularaxis\":{\"gridcolor\":\"white\",\"linecolor\":\"white\",\"ticks\":\"\"},\"radialaxis\":{\"gridcolor\":\"white\",\"linecolor\":\"white\",\"ticks\":\"\"}},\"ternary\":{\"bgcolor\":\"#E5ECF6\",\"aaxis\":{\"gridcolor\":\"white\",\"linecolor\":\"white\",\"ticks\":\"\"},\"baxis\":{\"gridcolor\":\"white\",\"linecolor\":\"white\",\"ticks\":\"\"},\"caxis\":{\"gridcolor\":\"white\",\"linecolor\":\"white\",\"ticks\":\"\"}},\"coloraxis\":{\"colorbar\":{\"outlinewidth\":0,\"ticks\":\"\"}},\"colorscale\":{\"sequential\":[[0.0,\"#0d0887\"],[0.1111111111111111,\"#46039f\"],[0.2222222222222222,\"#7201a8\"],[0.3333333333333333,\"#9c179e\"],[0.4444444444444444,\"#bd3786\"],[0.5555555555555556,\"#d8576b\"],[0.6666666666666666,\"#ed7953\"],[0.7777777777777778,\"#fb9f3a\"],[0.8888888888888888,\"#fdca26\"],[1.0,\"#f0f921\"]],\"sequentialminus\":[[0.0,\"#0d0887\"],[0.1111111111111111,\"#46039f\"],[0.2222222222222222,\"#7201a8\"],[0.3333333333333333,\"#9c179e\"],[0.4444444444444444,\"#bd3786\"],[0.5555555555555556,\"#d8576b\"],[0.6666666666666666,\"#ed7953\"],[0.7777777777777778,\"#fb9f3a\"],[0.8888888888888888,\"#fdca26\"],[1.0,\"#f0f921\"]],\"diverging\":[[0,\"#8e0152\"],[0.1,\"#c51b7d\"],[0.2,\"#de77ae\"],[0.3,\"#f1b6da\"],[0.4,\"#fde0ef\"],[0.5,\"#f7f7f7\"],[0.6,\"#e6f5d0\"],[0.7,\"#b8e186\"],[0.8,\"#7fbc41\"],[0.9,\"#4d9221\"],[1,\"#276419\"]]},\"xaxis\":{\"gridcolor\":\"white\",\"linecolor\":\"white\",\"ticks\":\"\",\"title\":{\"standoff\":15},\"zerolinecolor\":\"white\",\"automargin\":true,\"zerolinewidth\":2},\"yaxis\":{\"gridcolor\":\"white\",\"linecolor\":\"white\",\"ticks\":\"\",\"title\":{\"standoff\":15},\"zerolinecolor\":\"white\",\"automargin\":true,\"zerolinewidth\":2},\"scene\":{\"xaxis\":{\"backgroundcolor\":\"#E5ECF6\",\"gridcolor\":\"white\",\"linecolor\":\"white\",\"showbackground\":true,\"ticks\":\"\",\"zerolinecolor\":\"white\",\"gridwidth\":2},\"yaxis\":{\"backgroundcolor\":\"#E5ECF6\",\"gridcolor\":\"white\",\"linecolor\":\"white\",\"showbackground\":true,\"ticks\":\"\",\"zerolinecolor\":\"white\",\"gridwidth\":2},\"zaxis\":{\"backgroundcolor\":\"#E5ECF6\",\"gridcolor\":\"white\",\"linecolor\":\"white\",\"showbackground\":true,\"ticks\":\"\",\"zerolinecolor\":\"white\",\"gridwidth\":2}},\"shapedefaults\":{\"line\":{\"color\":\"#2a3f5f\"}},\"annotationdefaults\":{\"arrowcolor\":\"#2a3f5f\",\"arrowhead\":0,\"arrowwidth\":1},\"geo\":{\"bgcolor\":\"white\",\"landcolor\":\"#E5ECF6\",\"subunitcolor\":\"white\",\"showland\":true,\"showlakes\":true,\"lakecolor\":\"white\"},\"title\":{\"x\":0.05},\"mapbox\":{\"style\":\"light\"}}}},                        {\"responsive\": true}                    ).then(function(){\n",
       "                            \n",
       "var gd = document.getElementById('3fcb1c85-79d4-41d2-b94e-e04e975d945d');\n",
       "var x = new MutationObserver(function (mutations, observer) {{\n",
       "        var display = window.getComputedStyle(gd).display;\n",
       "        if (!display || display === 'none') {{\n",
       "            console.log([gd, 'removed!']);\n",
       "            Plotly.purge(gd);\n",
       "            observer.disconnect();\n",
       "        }}\n",
       "}});\n",
       "\n",
       "// Listen for the removal of the full notebook cells\n",
       "var notebookContainer = gd.closest('#notebook-container');\n",
       "if (notebookContainer) {{\n",
       "    x.observe(notebookContainer, {childList: true});\n",
       "}}\n",
       "\n",
       "// Listen for the clearing of the current output cell\n",
       "var outputEl = gd.closest('.output');\n",
       "if (outputEl) {{\n",
       "    x.observe(outputEl, {childList: true});\n",
       "}}\n",
       "\n",
       "                        })                };                });            </script>        </div>"
      ]
     },
     "metadata": {},
     "output_type": "display_data"
    }
   ],
   "source": [
    "optuna.visualization.plot_optimization_history(study)"
   ]
  },
  {
   "cell_type": "code",
   "execution_count": 30,
   "metadata": {
    "tags": []
   },
   "outputs": [],
   "source": [
    "best_params['name']=''\n",
    "initial_params['name']=''"
   ]
  },
  {
   "cell_type": "code",
   "execution_count": 20,
   "metadata": {
    "tags": []
   },
   "outputs": [],
   "source": [
    "def check_for_params(params):\n",
    "    results = []\n",
    "    for proba in probas:\n",
    "        p = {\"p\": proba, 'name':''}\n",
    "        result = comparePlayers(player, SimplePlayer, best_params, p)\n",
    "        results.append(result[0][0])\n",
    "\n",
    "    result_golab = comparePlayers(player, golab, best_params, {'name':''})\n",
    "    results.append(result_golab[0][0])\n",
    "    print(results)"
   ]
  },
  {
   "cell_type": "code",
   "execution_count": 37,
   "metadata": {
    "tags": []
   },
   "outputs": [
    {
     "data": {
      "text/plain": [
       "list[array([0.1, 0.2, 0.3])]"
      ]
     },
     "execution_count": 37,
     "metadata": {},
     "output_type": "execute_result"
    }
   ],
   "source": [
    "probas"
   ]
  },
  {
   "cell_type": "code",
   "execution_count": 38,
   "metadata": {
    "tags": []
   },
   "outputs": [
    {
     "name": "stdout",
     "output_type": "stream",
     "text": [
      "[6688, 7333, 7754, 8807, 6269]\n"
     ]
    }
   ],
   "source": [
    "initial_params =  {'p85': 0.47907664597847205,\n",
    " 'p80': 0.7842101613160066,\n",
    " 'p75': 0.9905509218884401,\n",
    " 'p70': 0.8299590024202209,\n",
    " 'p60': 0.652454048449193,\n",
    " 'p50': 0.6567827654562042,\n",
    " 'name': ''}\n",
    "probas = [0.1, 0.2, 0.3, 0.5]\n",
    "check_for_params(initial_params)"
   ]
  },
  {
   "cell_type": "code",
   "execution_count": 31,
   "metadata": {
    "tags": []
   },
   "outputs": [
    {
     "name": "stdout",
     "output_type": "stream",
     "text": [
      "[6707, 7215, 7701, 6260]\n",
      "[6715, 7292, 7758, 6313]\n"
     ]
    }
   ],
   "source": [
    "check_for_params(initial_params)\n",
    "check_for_params(best_params)"
   ]
  },
  {
   "cell_type": "code",
   "execution_count": 32,
   "metadata": {
    "tags": []
   },
   "outputs": [
    {
     "data": {
      "text/plain": [
       "{'p85': 0.8435448142772414,\n",
       " 'p80': 0.6628372664188684,\n",
       " 'p75': 0.9893136148852312,\n",
       " 'p70': 0.8614360052779841,\n",
       " 'p60': 0.5931082992399815,\n",
       " 'p50': 0.35768549719436166,\n",
       " 'name': ''}"
      ]
     },
     "execution_count": 32,
     "metadata": {},
     "output_type": "execute_result"
    }
   ],
   "source": [
    "best_params"
   ]
  },
  {
   "cell_type": "code",
   "execution_count": null,
   "metadata": {},
   "outputs": [],
   "source": [
    "# Optymalizacja dla każdego z osobna:\n",
    "# Simple 8048.0\n",
    "# Golab 6519.0\n",
    "\n",
    "# Obtymalizacja dla 2 jednocześnie:\n",
    "# w1=w2: (7844, 6158)\n",
    "# w1=1, w2=1.35 (7785, 6455)\n",
    "\n",
    "# Optymalizacja dla 4 jednocześnie: (może trzeba dostosować wagi lub jeszcze więcej trailsów)\n",
    "# (6702, 7309, 7682, 6334)\n",
    "\n",
    "# optymalizacaj dla 4 jednoczesnie (wagi 1 dla kazdego):\n",
    "# (6784, 7280, 7772, 6359)\n",
    "# kolejne 100 trialsów:\n",
    "# (6866, 7298, 7728, 6504)"
   ]
  },
  {
   "cell_type": "code",
   "execution_count": 59,
   "metadata": {
    "tags": []
   },
   "outputs": [
    {
     "name": "stdout",
     "output_type": "stream",
     "text": [
      "[6814, 7234, 7848, 6361]\n"
     ]
    }
   ],
   "source": [
    "g_params = {'p85': 0.9648283962896638, # optymalizowane tylko vs golab\n",
    " 'p80': 0.9624333497550055,\n",
    " 'p75': 0.9475397599969045,\n",
    " 'p70': 0.6786786775980143,\n",
    " 'p60': 0.40954835673807205,\n",
    " 'p50': 0.3245012100876753,\n",
    " 'name':''}\n",
    "\n",
    "check_for_params(g_params)"
   ]
  },
  {
   "cell_type": "code",
   "execution_count": 60,
   "metadata": {
    "tags": []
   },
   "outputs": [
    {
     "name": "stdout",
     "output_type": "stream",
     "text": [
      "[6774, 7260, 7681, 6277]\n"
     ]
    }
   ],
   "source": [
    "params_7 = {'p85': 0.9648283962896638, # optymalizowane tylko vs simple p=0.3/0.7\n",
    " 'p80': 0.9624333497550055,\n",
    " 'p75': 0.9475397599969045,\n",
    " 'p70': 0.6786786775980143,\n",
    " 'p60': 0.40954835673807205,\n",
    " 'p50': 0.3245012100876753,\n",
    " 'name':''}\n",
    "\n",
    "check_for_params(params_7)"
   ]
  },
  {
   "cell_type": "code",
   "execution_count": null,
   "metadata": {},
   "outputs": [],
   "source": [
    "# wszystko mocno losowe, nie wiem czy ta metoda ma jakis sens xd"
   ]
  },
  {
   "cell_type": "code",
   "execution_count": null,
   "metadata": {
    "tags": []
   },
   "outputs": [],
   "source": [
    "results"
   ]
  },
  {
   "cell_type": "code",
   "execution_count": null,
   "metadata": {
    "ExecuteTime": {
     "end_time": "2024-04-22T21:07:15.379942Z",
     "start_time": "2024-04-22T21:07:15.365943Z"
    },
    "scrolled": true,
    "tags": []
   },
   "outputs": [],
   "source": [
    "pp.pprint(full_results)"
   ]
  },
  {
   "cell_type": "markdown",
   "metadata": {},
   "source": [
    "Simple stats"
   ]
  },
  {
   "cell_type": "code",
   "execution_count": null,
   "metadata": {
    "ExecuteTime": {
     "end_time": "2024-04-22T21:07:15.395943Z",
     "start_time": "2024-04-22T21:07:15.380943Z"
    },
    "scrolled": true,
    "tags": []
   },
   "outputs": [],
   "source": [
    "def print_matrix(full_results, stat):\n",
    "    stat_name = STAT_NAMES[stat]\n",
    "    print(f\"Statystyka: {stat_name}\")\n",
    "\n",
    "    strategies = [str(s[1]) for s in strategy]\n",
    "    print(\"Strategie: \", ' '.join(strategies))\n",
    "\n",
    "    for A in range(len(strategy)):\n",
    "        current_strategy = strategy[A][1]\n",
    "        results = []\n",
    "        for B in range(len(strategy)):\n",
    "            if A == B:\n",
    "                results.append(\"-\")\n",
    "            elif A < B:\n",
    "                results.append(str(full_results[A][B][stat][0]))\n",
    "            else:\n",
    "                results.append(str(full_results[B][A][stat][1]))\n",
    "        print(f\"{A} {current_strategy}: {' '.join(results)}\")\n",
    "\n",
    "for a in ANALYZE_STATS:\n",
    "    print_matrix(full_results, a)"
   ]
  }
 ],
 "metadata": {
  "kernelspec": {
   "display_name": "Python 3 (ipykernel)",
   "language": "python",
   "name": "python3"
  },
  "language_info": {
   "codemirror_mode": {
    "name": "ipython",
    "version": 3
   },
   "file_extension": ".py",
   "mimetype": "text/x-python",
   "name": "python",
   "nbconvert_exporter": "python",
   "pygments_lexer": "ipython3",
   "version": "3.9.17"
  },
  "widgets": {
   "state": {},
   "version": "1.1.2"
  }
 },
 "nbformat": 4,
 "nbformat_minor": 4
}
