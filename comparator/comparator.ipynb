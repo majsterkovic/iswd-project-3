{
 "cells": [
  {
   "cell_type": "code",
   "execution_count": 1,
   "metadata": {
    "ExecuteTime": {
     "end_time": "2024-04-22T21:07:08.854935Z",
     "start_time": "2024-04-22T21:07:08.461937Z"
    }
   },
   "outputs": [],
   "source": [
    "%matplotlib inline\n",
    "import numpy as np\n",
    "import random\n",
    "import matplotlib.pyplot as plt\n",
    "import matplotlib.lines as mlines\n",
    "\n",
    "from game import Game\n",
    "from player import Player\n",
    "import pprint as pp"
   ]
  },
  {
   "cell_type": "code",
   "execution_count": 2,
   "metadata": {},
   "outputs": [],
   "source": [
    "%load_ext autoreload\n",
    "%autoreload 2"
   ]
  },
  {
   "cell_type": "code",
   "execution_count": 3,
   "metadata": {
    "ExecuteTime": {
     "end_time": "2024-04-22T21:07:08.870935Z",
     "start_time": "2024-04-22T21:07:08.855938Z"
    }
   },
   "outputs": [],
   "source": [
    "from hybiak import Hybiak\n",
    "from simpleplayer import SimplePlayer\n",
    "from golab_uladzislau import GolabUladzislau"
   ]
  },
  {
   "cell_type": "code",
   "execution_count": 4,
   "metadata": {
    "ExecuteTime": {
     "end_time": "2024-04-22T21:07:08.886935Z",
     "start_time": "2024-04-22T21:07:08.871935Z"
    }
   },
   "outputs": [
    {
     "name": "stdout",
     "output_type": "stream",
     "text": [
      "[(9, 0),\n",
      " (10, 0),\n",
      " (11, 0),\n",
      " (12, 0),\n",
      " (13, 0),\n",
      " (14, 0),\n",
      " (9, 1),\n",
      " (10, 1),\n",
      " (11, 1),\n",
      " (12, 1),\n",
      " (13, 1),\n",
      " (14, 1),\n",
      " (9, 2),\n",
      " (10, 2),\n",
      " (11, 2),\n",
      " (12, 2),\n",
      " (13, 2),\n",
      " (14, 2),\n",
      " (9, 3),\n",
      " (10, 3),\n",
      " (11, 3),\n",
      " (12, 3),\n",
      " (13, 3),\n",
      " (14, 3)]\n"
     ]
    }
   ],
   "source": [
    "### Generate cards from 9 to 14 (ace) for all colors/symbols (0, 1, 2, 3)\n",
    "def getDeck():\n",
    "    return [(number, color) for color in range(4) for number in range(9, 15)]\n",
    "    \n",
    "pp.pprint(getDeck())"
   ]
  },
  {
   "cell_type": "code",
   "execution_count": 5,
   "metadata": {
    "ExecuteTime": {
     "end_time": "2024-04-22T21:07:08.902935Z",
     "start_time": "2024-04-22T21:07:08.887938Z"
    }
   },
   "outputs": [
    {
     "name": "stdout",
     "output_type": "stream",
     "text": [
      "[(11, 0), (14, 1), (12, 0), (11, 3), (13, 3), (11, 2), (14, 2), (9, 1)]\n",
      "[(11, 1), (9, 0), (13, 1), (10, 1), (12, 3), (14, 0), (10, 0), (13, 2)]\n"
     ]
    }
   ],
   "source": [
    "### Shuffle the cards randomly. Each player gets 9 cards\n",
    "### (so one player cannot be certain which cards the other player has)\n",
    "\n",
    "def getShuffled(deck):\n",
    "    D = set(deck)\n",
    "    A = set(random.sample(deck, 8))\n",
    "    B = set(random.sample(list(D - A), 8))\n",
    "    C = D - A - B\n",
    "    if len(A.intersection(B)) > 0: print(\"Shuffle error 1\")\n",
    "    if len(A.intersection(B)) > 0: print(\"Shuffle error 2\")\n",
    "    if len(A.intersection(C)) > 0: print(\"Shuffle error 3\") \n",
    "    DS = A | B | C\n",
    "    if not DS == D: print(\"Shuffle error 4\")  \n",
    "    return list(A), list(B), list(C)\n",
    "\n",
    "p1, p2, notUsed, = getShuffled(getDeck())\n",
    "print(p1)\n",
    "print(p2)\n"
   ]
  },
  {
   "cell_type": "code",
   "execution_count": 6,
   "metadata": {
    "ExecuteTime": {
     "end_time": "2024-04-22T21:07:08.918935Z",
     "start_time": "2024-04-22T21:07:08.903937Z"
    }
   },
   "outputs": [],
   "source": [
    "# Some examplary random player\n",
    "\n",
    "class RandomPlayer(Player):\n",
    "    \n",
    "    ### player's random strategy\n",
    "    def putCard(self, declared_card):\n",
    "        \n",
    "        ### check if must draw\n",
    "        if len(self.cards) == 1 and declared_card is not None and self.cards[0][0] < declared_card[0]:\n",
    "            return \"draw\"\n",
    "        \n",
    "        ### player randomly decides which card put on the table\n",
    "        card = random.choice(self.cards)\n",
    "        declaration = card\n",
    "        \n",
    "        ### player randomly decides whether to cheat or not\n",
    "        cheat = np.random.choice([True, False])\n",
    "       \n",
    "        ### if (s)he decides to cheat, (s)he randomly declares the card.\n",
    "        if cheat:\n",
    "            declaration = random.choice(self.cards)             \n",
    "            \n",
    "        ### Yet, declared card should be no worse than a card on the top of the pile . \n",
    "        if declared_card is not None and declaration[0] < declared_card[0]:\n",
    "            declaration = (min(declared_card[0]+1,14), declaration[1])\n",
    "\n",
    "        ### return the decision (true card) and declaration (player's declaration)\n",
    "        return card, declaration\n",
    "    \n",
    "    ### randomly decides whether to check or not\n",
    "    def checkCard(self, opponent_declaration):\n",
    "        return np.random.choice([True, False])\n",
    "    "
   ]
  },
  {
   "cell_type": "markdown",
   "metadata": {},
   "source": [
    "Analyze few moves..."
   ]
  },
  {
   "cell_type": "code",
   "execution_count": 11,
   "metadata": {
    "ExecuteTime": {
     "end_time": "2024-04-22T21:07:08.934936Z",
     "start_time": "2024-04-22T21:07:08.919935Z"
    }
   },
   "outputs": [],
   "source": [
    "### Perform a full game 100 times\n",
    "STAT_NAMES = [\"Wins\", \"Draws\", \"Moves\", \"Cards\", \"Pile Size\", \"Checks\", \"Draw Decisions\", \"Cheats\", \"Errors\", \"Total errors\"]\n",
    "ANALYZE_STATS = [0, 1, 2, 3, 5, 6, 7, 8]\n",
    "\n",
    "def printResults(results):\n",
    "    print(\"Wins:\")\n",
    "    print(results[0])\n",
    "    print(\"Draws:\")\n",
    "    print(results[1])\n",
    "    print(\"Moves:\")\n",
    "    print(stats_moves[2])\n",
    "    print(\"Cards:\")\n",
    "    print(results[3])\n",
    "    print(\"Pile size:\")\n",
    "    print(results[4])\n",
    "    print(\"Checks:\")\n",
    "    print(results[5])\n",
    "    print(\"Draw decisions:\")\n",
    "    print(results[6])\n",
    "    print(\"Cheats:\")\n",
    "    print(results[7])\n",
    "    print(\"Errors:\")\n",
    "    print(results[8])\n",
    "    print(\"Total errors:\")\n",
    "    print(results[9])\n",
    "\n",
    "def comparePlayers(player1_class, player2_class, p1_params, p2_params):\n",
    "    stats_wins = [0, 0]\n",
    "    stats_draws = [0, 0]\n",
    "    stats_moves = [0, 0]\n",
    "    stats_cards = [0, 0]\n",
    "    stats_pile_size = 0\n",
    "    stats_checks = [0, 0]\n",
    "    stats_draw_decisions = [0, 0]\n",
    "    stats_cheats = [0, 0]\n",
    "    stats_errors = [0, 0]\n",
    "    \n",
    "    repeats = 10000\n",
    "    errors = 0\n",
    "    draws = 0\n",
    "\n",
    "    for t in range(repeats):\n",
    "        player1 = player1_class(**p1_params)\n",
    "        player2 = player2_class(**p2_params)\n",
    "        game = Game([player1, player2], log = False)\n",
    "    \n",
    "        error = False\n",
    "        draw = False\n",
    "        \n",
    "        while True:\n",
    "            valid, player = game.takeTurn(log = False)\n",
    "            if game.moves[0] > 100 or game.moves[1] > 100:\n",
    "                draws += 1\n",
    "                stats_draws[0] += 1\n",
    "                stats_draws[1] += 1\n",
    "                if (game.player_cards[0] < game.player_cards[1]):\n",
    "                    stats_wins[0] += 1\n",
    "                if (game.player_cards[0] > game.player_cards[1]):\n",
    "                    stats_wins[1] += 1\n",
    "                    \n",
    "                    \n",
    "                draw=True\n",
    "                print(\"DRAW\")\n",
    "                break\n",
    "            if not valid:\n",
    "                error = True\n",
    "                stats_errors[player] += 1\n",
    "                errors += 1\n",
    "                break\n",
    "            if game.isFinished(log = False):\n",
    "                stats_wins[player] += 1\n",
    "                break\n",
    "            \n",
    "        stats_pile_size += len(game.pile)\n",
    "        if error: continue\n",
    "        #if draw: continue\n",
    "       \n",
    "        for j in range(2):\n",
    "            stats_moves[j] += game.moves[j]\n",
    "            stats_cheats[j] += game.cheats[j]\n",
    "            stats_checks[j] += game.checks[j]\n",
    "            stats_draw_decisions[j] += game.draw_decisions[j]\n",
    "            stats_cards[j] += len(game.player_cards[j])\n",
    "\n",
    "    div = repeats - errors\n",
    "    if div > 0:\n",
    "            \n",
    "        stats_pile_size /= div          \n",
    "        for j in range(2):\n",
    "            stats_moves[j] /= div\n",
    "            stats_cheats[j] /= div\n",
    "            stats_checks[j] /= div\n",
    "            stats_draw_decisions[j] /= div\n",
    "            stats_cards[j] /= div\n",
    "            \n",
    "    return [stats_wins, stats_draws, stats_moves, stats_cards, stats_pile_size, stats_checks, \n",
    "            stats_draw_decisions, stats_cheats, stats_errors, errors, draws]  \n"
   ]
  },
  {
   "cell_type": "code",
   "execution_count": 9,
   "metadata": {
    "tags": []
   },
   "outputs": [],
   "source": [
    "initial_params = {\n",
    "    'p85': 0.85,\n",
    "    'p80': 0.80,\n",
    "    'p75': 0.75,\n",
    "    'p70': 0.70,\n",
    "    'p60': 0.60,\n",
    "    'p50': 0.50,\n",
    "    'name': 'HYBIAK'\n",
    "}"
   ]
  },
  {
   "cell_type": "code",
   "execution_count": 12,
   "metadata": {
    "tags": []
   },
   "outputs": [
    {
     "data": {
      "text/plain": [
       "7141"
      ]
     },
     "execution_count": 12,
     "metadata": {},
     "output_type": "execute_result"
    }
   ],
   "source": [
    "simple = SimplePlayer\n",
    "golab = GolabUladzislau\n",
    "player = Hybiak    \n",
    "result1 = comparePlayers(player, simple, initial_params, {'name':'SIMPLE'})\n",
    "result1[0][0]"
   ]
  },
  {
   "cell_type": "code",
   "execution_count": 17,
   "metadata": {
    "tags": []
   },
   "outputs": [],
   "source": [
    "simple_scores = []\n",
    "player = Hybiak\n",
    "probas = np.linspace(0.1,0.9,9)\n",
    "\n",
    "for proba in probas:\n",
    "    p = {\"p\": proba, 'name':''}\n",
    "    result = comparePlayers(player, SimplePlayer, initial_params, p)\n",
    "    simple_scores.append(result[0][0])"
   ]
  },
  {
   "cell_type": "code",
   "execution_count": 18,
   "metadata": {
    "tags": []
   },
   "outputs": [
    {
     "name": "stdout",
     "output_type": "stream",
     "text": [
      "6438 6807 7241 7678 8327 9037 9551 9877 9987\n"
     ]
    },
    {
     "data": {
      "text/plain": [
       "Text(0, 0.5, 'Win %')"
      ]
     },
     "execution_count": 18,
     "metadata": {},
     "output_type": "execute_result"
    },
    {
     "data": {
      "image/png": "[encoded data removed]",
      "text/plain": [
       "<Figure size 640x480 with 1 Axes>"
      ]
     },
     "metadata": {},
     "output_type": "display_data"
    }
   ],
   "source": [
    "import seaborn as sns\n",
    "print(*simple_scores)\n",
    "sns.lineplot(x=probas,y=np.array(simple_scores)/10e3, marker='o')\n",
    "plt.xlabel('Probability')\n",
    "plt.ylabel('Win %')"
   ]
  },
  {
   "cell_type": "code",
   "execution_count": null,
   "metadata": {},
   "outputs": [],
   "source": [
    "# 6622 7014 7408 7860 8549 9037 9621 9885 9984"
   ]
  },
  {
   "cell_type": "code",
   "execution_count": 23,
   "metadata": {
    "tags": []
   },
   "outputs": [],
   "source": [
    "p = {'name':''}\n",
    "result = comparePlayers(player, golab, initial_params, p)\n",
    "golab_result = result[0][0]"
   ]
  },
  {
   "cell_type": "code",
   "execution_count": 25,
   "metadata": {
    "tags": []
   },
   "outputs": [
    {
     "data": {
      "text/plain": [
       "[6438, 6807, 7241, 6375]"
      ]
     },
     "execution_count": 25,
     "metadata": {},
     "output_type": "execute_result"
    }
   ],
   "source": [
    "maxes = simple_scores[:3] + [golab_result]\n",
    "maxes"
   ]
  },
  {
   "cell_type": "code",
   "execution_count": 26,
   "metadata": {
    "tags": []
   },
   "outputs": [],
   "source": [
    "probas = probas[:3]"
   ]
  },
  {
   "cell_type": "code",
   "execution_count": 27,
   "metadata": {
    "tags": []
   },
   "outputs": [],
   "source": [
    "weights = [1.25, 1.1, 1, 1.35]"
   ]
  },
  {
   "cell_type": "code",
   "execution_count": 28,
   "metadata": {
    "tags": []
   },
   "outputs": [
    {
     "data": {
      "text/plain": [
       "array([0.1, 0.2, 0.3])"
      ]
     },
     "execution_count": 28,
     "metadata": {},
     "output_type": "execute_result"
    }
   ],
   "source": [
    "probas"
   ]
  },
  {
   "cell_type": "markdown",
   "metadata": {},
   "source": [
    "# COMPARE"
   ]
  },
  {
   "cell_type": "code",
   "execution_count": 40,
   "metadata": {
    "tags": []
   },
   "outputs": [
    {
     "data": {
      "text/plain": [
       "array([0.1, 0.2, 0.3])"
      ]
     },
     "execution_count": 40,
     "metadata": {},
     "output_type": "execute_result"
    }
   ],
   "source": [
    "probas"
   ]
  },
  {
   "cell_type": "code",
   "execution_count": 42,
   "metadata": {
    "tags": []
   },
   "outputs": [
    {
     "data": {
      "text/plain": [
       "[0.0001941596769182976,\n",
       " 0.00016159835463493464,\n",
       " 0.00013810247203424942,\n",
       " 0.00021176470588235295]"
      ]
     },
     "execution_count": 42,
     "metadata": {},
     "output_type": "execute_result"
    }
   ],
   "source": [
    "[x / y for x,y in zip(weights, maxes)]"
   ]
  },
  {
   "cell_type": "code",
   "execution_count": null,
   "metadata": {
    "tags": []
   },
   "outputs": [],
   "source": [
    "import optuna\n",
    "\n",
    "epsilon = 0.2\n",
    "initial_params = {\n",
    "    'p85': 0.85,\n",
    "    'p80': 0.80,\n",
    "    'p75': 0.75,\n",
    "    'p70': 0.70,\n",
    "    'p60': 0.60,\n",
    "    'p50': 0.50\n",
    "}\n",
    "\n",
    "\n",
    "def weighted_result(results, weights, maxes):\n",
    "    norm_results = [r / m for r, m in zip(results, maxes)]\n",
    "    weighted_score = sum([w * n for w, n in zip(weights, norm_results)]) / sum(weights)\n",
    "    return weighted_score\n",
    "\n",
    "\n",
    "def objective(trial):\n",
    "    p85 = trial.suggest_float('p85', max(0, initial_params['p85'] - epsilon), min(1, initial_params['p85'] + epsilon))\n",
    "    p80 = trial.suggest_float('p80', max(0, initial_params['p80'] - epsilon), min(1, initial_params['p80'] + epsilon))\n",
    "    p75 = trial.suggest_float('p75', max(0, initial_params['p75'] - epsilon), min(1, initial_params['p75'] + epsilon))\n",
    "    p70 = trial.suggest_float('p70', max(0, initial_params['p70'] - epsilon), min(1, initial_params['p70'] + epsilon))\n",
    "    p60 = trial.suggest_float('p60', max(0, initial_params['p60'] - epsilon), min(1, initial_params['p60'] + epsilon))\n",
    "    p50 = trial.suggest_float('p50', max(0, initial_params['p50'] - epsilon), min(1, initial_params['p50'] + epsilon))\n",
    "    \n",
    "    simple = SimplePlayer\n",
    "    golab = GolabUladzislau\n",
    "    player = Hybiak\n",
    "\n",
    "    params = {'name': '',\n",
    "            'p85': p85,\n",
    "            'p80': p80,\n",
    "            'p75': p75,\n",
    "            'p70': p70,\n",
    "            'p60': p60,\n",
    "            'p50': p50}\n",
    "    \n",
    "    results = []\n",
    "    for proba in probas:\n",
    "        p = {\"p\": proba, 'name':''}\n",
    "        result = comparePlayers(player, SimplePlayer, params, p)\n",
    "        results.append(result[0][0])\n",
    "                         \n",
    "    result_golab = comparePlayers(player, golab, params, {'name':''})\n",
    "    results.append(result_golab[0][0])\n",
    "    score = weighted_result(results, weights, maxes)\n",
    "                         \n",
    "    return score # funkcja celu to liczba ważona liczba zwycięstw na 10k rund\n",
    "\n",
    "study = optuna.create_study(direction='maximize')\n",
    "study.enqueue_trial(initial_params)\n",
    "\n",
    "study.optimize(objective, n_trials=100) # ~10min -> dla 2 walk x 100 trialsów\n",
    "\n",
    "best_params = study.best_params\n",
    "best_score = study.best_value"
   ]
  },
  {
   "cell_type": "code",
   "execution_count": 52,
   "metadata": {
    "tags": []
   },
   "outputs": [
    {
     "data": {
      "application/vnd.plotly.v1+json": {
       "config": {
        "plotlyServerURL": "https://plot.ly"
       },
       "data": [
        {
         "mode": "markers",
         "name": "Objective Value",
         "type": "scatter",
         "x": [
          0,
          1,
          2,
          3,
          4,
          5,
          6,
          7,
          8,
          9,
          10,
          11,
          12,
          13,
          14,
          15,
          16,
          17,
          18,
          19,
          20,
          21,
          22,
          23,
          24,
          25,
          26,
          27,
          28,
          29,
          30,
          31,
          32,
          33,
          34,
          35,
          36,
          37,
          38,
          39,
          40,
          41,
          42,
          43,
          44,
          45,
          46,
          47,
          48,
          49,
          50,
          51,
          52,
          53,
          54,
          55,
          56,
          57,
          58,
          59,
          60,
          61,
          62,
          63,
          64,
          65,
          66,
          67,
          68,
          69,
          70,
          71,
          72,
          73,
          74,
          75,
          76,
          77,
          78,
          79,
          80,
          81,
          82,
          83,
          84,
          85,
          86,
          87,
          88,
          89,
          90,
          91,
          92,
          93,
          94,
          95,
          96,
          97,
          98,
          99
         ],
         "y": [
          0.988620505807618,
          0.9860364978168551,
          0.9655559818357478,
          0.9925773564441042,
          1.0076670470726214,
          0.9472551055204494,
          0.9947324989965429,
          0.9866651957448084,
          0.9800168193565643,
          0.9781115036730088,
          1.0221056281502456,
          1.0167816069686675,
          1.0223571738908124,
          1.0286375916788166,
          1.0255925728170048,
          1.0331776360940523,
          1.0120669508325895,
          1.0374276501641866,
          1.0100161569702355,
          1.0308076821602083,
          1.0363328348273146,
          1.0350345213865364,
          1.0305172527070758,
          1.0357673944788643,
          1.0159651290129676,
          1.0304078775348398,
          1.0299383767944534,
          1.0368286545698135,
          1.0213237820229084,
          1.0227934495917739,
          1.035787592471012,
          1.0365128905939225,
          1.0341260383566422,
          1.0318995768411938,
          1.0245438924106056,
          1.034380661466226,
          1.031056410876094,
          1.0333344716420028,
          1.0260267741633056,
          1.0161528251212502,
          1.002015159907846,
          1.0371176177222126,
          1.0436233007902331,
          1.0333931763535036,
          1.035796483328437,
          1.0317695442917205,
          1.0315853863668862,
          1.0301248904003075,
          1.0261239682444396,
          1.0378490470567794,
          1.0362648273518498,
          1.0340539836948013,
          1.0333891946977318,
          1.0225977079191781,
          1.0354719548397355,
          1.037526205767709,
          1.0311411710542486,
          1.032501475199366,
          1.0274142295277182,
          1.0328309271178746,
          1.0346293523372758,
          1.0411243449176453,
          1.0378641180697525,
          1.0421040669786057,
          1.035983343870675,
          1.029797463221564,
          1.0237182013011437,
          1.0389877603041386,
          1.0337606505854788,
          1.0326528182857602,
          1.0310597139280129,
          1.037872456889737,
          1.0269668550149351,
          1.0393524116988697,
          1.0391804624930314,
          1.036475571346087,
          1.0340436248127876,
          1.0381760736753698,
          1.0338255436735815,
          1.0284715324606744,
          1.0178109865493996,
          1.0350454046396513,
          1.0388022661138556,
          1.0383823276973567,
          1.0388285951501635,
          1.0384344229657207,
          1.0300048669138722,
          1.03743029310881,
          1.0323240753933214,
          1.031790218324509,
          1.0290200110536651,
          1.0355424333708292,
          1.0285508246410844,
          1.0375728533546518,
          1.0389348303560189,
          1.0302091035308591,
          1.035889462358325,
          1.0363719175565318,
          1.0258566533410707,
          1.0398199459831894
         ]
        },
        {
         "mode": "lines",
         "name": "Best Value",
         "type": "scatter",
         "x": [
          0,
          1,
          2,
          3,
          4,
          5,
          6,
          7,
          8,
          9,
          10,
          11,
          12,
          13,
          14,
          15,
          16,
          17,
          18,
          19,
          20,
          21,
          22,
          23,
          24,
          25,
          26,
          27,
          28,
          29,
          30,
          31,
          32,
          33,
          34,
          35,
          36,
          37,
          38,
          39,
          40,
          41,
          42,
          43,
          44,
          45,
          46,
          47,
          48,
          49,
          50,
          51,
          52,
          53,
          54,
          55,
          56,
          57,
          58,
          59,
          60,
          61,
          62,
          63,
          64,
          65,
          66,
          67,
          68,
          69,
          70,
          71,
          72,
          73,
          74,
          75,
          76,
          77,
          78,
          79,
          80,
          81,
          82,
          83,
          84,
          85,
          86,
          87,
          88,
          89,
          90,
          91,
          92,
          93,
          94,
          95,
          96,
          97,
          98,
          99
         ],
         "y": [
          0.988620505807618,
          0.988620505807618,
          0.988620505807618,
          0.9925773564441042,
          1.0076670470726214,
          1.0076670470726214,
          1.0076670470726214,
          1.0076670470726214,
          1.0076670470726214,
          1.0076670470726214,
          1.0221056281502456,
          1.0221056281502456,
          1.0223571738908124,
          1.0286375916788166,
          1.0286375916788166,
          1.0331776360940523,
          1.0331776360940523,
          1.0374276501641866,
          1.0374276501641866,
          1.0374276501641866,
          1.0374276501641866,
          1.0374276501641866,
          1.0374276501641866,
          1.0374276501641866,
          1.0374276501641866,
          1.0374276501641866,
          1.0374276501641866,
          1.0374276501641866,
          1.0374276501641866,
          1.0374276501641866,
          1.0374276501641866,
          1.0374276501641866,
          1.0374276501641866,
          1.0374276501641866,
          1.0374276501641866,
          1.0374276501641866,
          1.0374276501641866,
          1.0374276501641866,
          1.0374276501641866,
          1.0374276501641866,
          1.0374276501641866,
          1.0374276501641866,
          1.0436233007902331,
          1.0436233007902331,
          1.0436233007902331,
          1.0436233007902331,
          1.0436233007902331,
          1.0436233007902331,
          1.0436233007902331,
          1.0436233007902331,
          1.0436233007902331,
          1.0436233007902331,
          1.0436233007902331,
          1.0436233007902331,
          1.0436233007902331,
          1.0436233007902331,
          1.0436233007902331,
          1.0436233007902331,
          1.0436233007902331,
          1.0436233007902331,
          1.0436233007902331,
          1.0436233007902331,
          1.0436233007902331,
          1.0436233007902331,
          1.0436233007902331,
          1.0436233007902331,
          1.0436233007902331,
          1.0436233007902331,
          1.0436233007902331,
          1.0436233007902331,
          1.0436233007902331,
          1.0436233007902331,
          1.0436233007902331,
          1.0436233007902331,
          1.0436233007902331,
          1.0436233007902331,
          1.0436233007902331,
          1.0436233007902331,
          1.0436233007902331,
          1.0436233007902331,
          1.0436233007902331,
          1.0436233007902331,
          1.0436233007902331,
          1.0436233007902331,
          1.0436233007902331,
          1.0436233007902331,
          1.0436233007902331,
          1.0436233007902331,
          1.0436233007902331,
          1.0436233007902331,
          1.0436233007902331,
          1.0436233007902331,
          1.0436233007902331,
          1.0436233007902331,
          1.0436233007902331,
          1.0436233007902331,
          1.0436233007902331,
          1.0436233007902331,
          1.0436233007902331,
          1.0436233007902331
         ]
        },
        {
         "marker": {
          "color": "#cccccc"
         },
         "mode": "markers",
         "name": "Infeasible Trial",
         "showlegend": false,
         "type": "scatter",
         "x": [],
         "y": []
        }
       ],
       "layout": {
        "autosize": true,
        "template": {
         "data": {
          "bar": [
           {
            "error_x": {
             "color": "#2a3f5f"
            },
            "error_y": {
             "color": "#2a3f5f"
            },
            "marker": {
             "line": {
              "color": "#E5ECF6",
              "width": 0.5
             },
             "pattern": {
              "fillmode": "overlay",
              "size": 10,
              "solidity": 0.2
             }
            },
            "type": "bar"
           }
          ],
          "barpolar": [
           {
            "marker": {
             "line": {
              "color": "#E5ECF6",
              "width": 0.5
             },
             "pattern": {
              "fillmode": "overlay",
              "size": 10,
              "solidity": 0.2
             }
            },
            "type": "barpolar"
           }
          ],
          "carpet": [
           {
            "aaxis": {
             "endlinecolor": "#2a3f5f",
             "gridcolor": "white",
             "linecolor": "white",
             "minorgridcolor": "white",
             "startlinecolor": "#2a3f5f"
            },
            "baxis": {
             "endlinecolor": "#2a3f5f",
             "gridcolor": "white",
             "linecolor": "white",
             "minorgridcolor": "white",
             "startlinecolor": "#2a3f5f"
            },
            "type": "carpet"
           }
          ],
          "choropleth": [
           {
            "colorbar": {
             "outlinewidth": 0,
             "ticks": ""
            },
            "type": "choropleth"
           }
          ],
          "contour": [
           {
            "colorbar": {
             "outlinewidth": 0,
             "ticks": ""
            },
            "colorscale": [
             [
              0,
              "#0d0887"
             ],
             [
              0.1111111111111111,
              "#46039f"
             ],
             [
              0.2222222222222222,
              "#7201a8"
             ],
             [
              0.3333333333333333,
              "#9c179e"
             ],
             [
              0.4444444444444444,
              "#bd3786"
             ],
             [
              0.5555555555555556,
              "#d8576b"
             ],
             [
              0.6666666666666666,
              "#ed7953"
             ],
             [
              0.7777777777777778,
              "#fb9f3a"
             ],
             [
              0.8888888888888888,
              "#fdca26"
             ],
             [
              1,
              "#f0f921"
             ]
            ],
            "type": "contour"
           }
          ],
          "contourcarpet": [
           {
            "colorbar": {
             "outlinewidth": 0,
             "ticks": ""
            },
            "type": "contourcarpet"
           }
          ],
          "heatmap": [
           {
            "colorbar": {
             "outlinewidth": 0,
             "ticks": ""
            },
            "colorscale": [
             [
              0,
              "#0d0887"
             ],
             [
              0.1111111111111111,
              "#46039f"
             ],
             [
              0.2222222222222222,
              "#7201a8"
             ],
             [
              0.3333333333333333,
              "#9c179e"
             ],
             [
              0.4444444444444444,
              "#bd3786"
             ],
             [
              0.5555555555555556,
              "#d8576b"
             ],
             [
              0.6666666666666666,
              "#ed7953"
             ],
             [
              0.7777777777777778,
              "#fb9f3a"
             ],
             [
              0.8888888888888888,
              "#fdca26"
             ],
             [
              1,
              "#f0f921"
             ]
            ],
            "type": "heatmap"
           }
          ],
          "heatmapgl": [
           {
            "colorbar": {
             "outlinewidth": 0,
             "ticks": ""
            },
            "colorscale": [
             [
              0,
              "#0d0887"
             ],
             [
              0.1111111111111111,
              "#46039f"
             ],
             [
              0.2222222222222222,
              "#7201a8"
             ],
             [
              0.3333333333333333,
              "#9c179e"
             ],
             [
              0.4444444444444444,
              "#bd3786"
             ],
             [
              0.5555555555555556,
              "#d8576b"
             ],
             [
              0.6666666666666666,
              "#ed7953"
             ],
             [
              0.7777777777777778,
              "#fb9f3a"
             ],
             [
              0.8888888888888888,
              "#fdca26"
             ],
             [
              1,
              "#f0f921"
             ]
            ],
            "type": "heatmapgl"
           }
          ],
          "histogram": [
           {
            "marker": {
             "pattern": {
              "fillmode": "overlay",
              "size": 10,
              "solidity": 0.2
             }
            },
            "type": "histogram"
           }
          ],
          "histogram2d": [
           {
            "colorbar": {
             "outlinewidth": 0,
             "ticks": ""
            },
            "colorscale": [
             [
              0,
              "#0d0887"
             ],
             [
              0.1111111111111111,
              "#46039f"
             ],
             [
              0.2222222222222222,
              "#7201a8"
             ],
             [
              0.3333333333333333,
              "#9c179e"
             ],
             [
              0.4444444444444444,
              "#bd3786"
             ],
             [
              0.5555555555555556,
              "#d8576b"
             ],
             [
              0.6666666666666666,
              "#ed7953"
             ],
             [
              0.7777777777777778,
              "#fb9f3a"
             ],
             [
              0.8888888888888888,
              "#fdca26"
             ],
             [
              1,
              "#f0f921"
             ]
            ],
            "type": "histogram2d"
           }
          ],
          "histogram2dcontour": [
           {
            "colorbar": {
             "outlinewidth": 0,
             "ticks": ""
            },
            "colorscale": [
             [
              0,
              "#0d0887"
             ],
             [
              0.1111111111111111,
              "#46039f"
             ],
             [
              0.2222222222222222,
              "#7201a8"
             ],
             [
              0.3333333333333333,
              "#9c179e"
             ],
             [
              0.4444444444444444,
              "#bd3786"
             ],
             [
              0.5555555555555556,
              "#d8576b"
             ],
             [
              0.6666666666666666,
              "#ed7953"
             ],
             [
              0.7777777777777778,
              "#fb9f3a"
             ],
             [
              0.8888888888888888,
              "#fdca26"
             ],
             [
              1,
              "#f0f921"
             ]
            ],
            "type": "histogram2dcontour"
           }
          ],
          "mesh3d": [
           {
            "colorbar": {
             "outlinewidth": 0,
             "ticks": ""
            },
            "type": "mesh3d"
           }
          ],
          "parcoords": [
           {
            "line": {
             "colorbar": {
              "outlinewidth": 0,
              "ticks": ""
             }
            },
            "type": "parcoords"
           }
          ],
          "pie": [
           {
            "automargin": true,
            "type": "pie"
           }
          ],
          "scatter": [
           {
            "fillpattern": {
             "fillmode": "overlay",
             "size": 10,
             "solidity": 0.2
            },
            "type": "scatter"
           }
          ],
          "scatter3d": [
           {
            "line": {
             "colorbar": {
              "outlinewidth": 0,
              "ticks": ""
             }
            },
            "marker": {
             "colorbar": {
              "outlinewidth": 0,
              "ticks": ""
             }
            },
            "type": "scatter3d"
           }
          ],
          "scattercarpet": [
           {
            "marker": {
             "colorbar": {
              "outlinewidth": 0,
              "ticks": ""
             }
            },
            "type": "scattercarpet"
           }
          ],
          "scattergeo": [
           {
            "marker": {
             "colorbar": {
              "outlinewidth": 0,
              "ticks": ""
             }
            },
            "type": "scattergeo"
           }
          ],
          "scattergl": [
           {
            "marker": {
             "colorbar": {
              "outlinewidth": 0,
              "ticks": ""
             }
            },
            "type": "scattergl"
           }
          ],
          "scattermapbox": [
           {
            "marker": {
             "colorbar": {
              "outlinewidth": 0,
              "ticks": ""
             }
            },
            "type": "scattermapbox"
           }
          ],
          "scatterpolar": [
           {
            "marker": {
             "colorbar": {
              "outlinewidth": 0,
              "ticks": ""
             }
            },
            "type": "scatterpolar"
           }
          ],
          "scatterpolargl": [
           {
            "marker": {
             "colorbar": {
              "outlinewidth": 0,
              "ticks": ""
             }
            },
            "type": "scatterpolargl"
           }
          ],
          "scatterternary": [
           {
            "marker": {
             "colorbar": {
              "outlinewidth": 0,
              "ticks": ""
             }
            },
            "type": "scatterternary"
           }
          ],
          "surface": [
           {
            "colorbar": {
             "outlinewidth": 0,
             "ticks": ""
            },
            "colorscale": [
             [
              0,
              "#0d0887"
             ],
             [
              0.1111111111111111,
              "#46039f"
             ],
             [
              0.2222222222222222,
              "#7201a8"
             ],
             [
              0.3333333333333333,
              "#9c179e"
             ],
             [
              0.4444444444444444,
              "#bd3786"
             ],
             [
              0.5555555555555556,
              "#d8576b"
             ],
             [
              0.6666666666666666,
              "#ed7953"
             ],
             [
              0.7777777777777778,
              "#fb9f3a"
             ],
             [
              0.8888888888888888,
              "#fdca26"
             ],
             [
              1,
              "#f0f921"
             ]
            ],
            "type": "surface"
           }
          ],
          "table": [
           {
            "cells": {
             "fill": {
              "color": "#EBF0F8"
             },
             "line": {
              "color": "white"
             }
            },
            "header": {
             "fill": {
              "color": "#C8D4E3"
             },
             "line": {
              "color": "white"
             }
            },
            "type": "table"
           }
          ]
         },
         "layout": {
          "annotationdefaults": {
           "arrowcolor": "#2a3f5f",
           "arrowhead": 0,
           "arrowwidth": 1
          },
          "autotypenumbers": "strict",
          "coloraxis": {
           "colorbar": {
            "outlinewidth": 0,
            "ticks": ""
           }
          },
          "colorscale": {
           "diverging": [
            [
             0,
             "#8e0152"
            ],
            [
             0.1,
             "#c51b7d"
            ],
            [
             0.2,
             "#de77ae"
            ],
            [
             0.3,
             "#f1b6da"
            ],
            [
             0.4,
             "#fde0ef"
            ],
            [
             0.5,
             "#f7f7f7"
            ],
            [
             0.6,
             "#e6f5d0"
            ],
            [
             0.7,
             "#b8e186"
            ],
            [
             0.8,
             "#7fbc41"
            ],
            [
             0.9,
             "#4d9221"
            ],
            [
             1,
             "#276419"
            ]
           ],
           "sequential": [
            [
             0,
             "#0d0887"
            ],
            [
             0.1111111111111111,
             "#46039f"
            ],
            [
             0.2222222222222222,
             "#7201a8"
            ],
            [
             0.3333333333333333,
             "#9c179e"
            ],
            [
             0.4444444444444444,
             "#bd3786"
            ],
            [
             0.5555555555555556,
             "#d8576b"
            ],
            [
             0.6666666666666666,
             "#ed7953"
            ],
            [
             0.7777777777777778,
             "#fb9f3a"
            ],
            [
             0.8888888888888888,
             "#fdca26"
            ],
            [
             1,
             "#f0f921"
            ]
           ],
           "sequentialminus": [
            [
             0,
             "#0d0887"
            ],
            [
             0.1111111111111111,
             "#46039f"
            ],
            [
             0.2222222222222222,
             "#7201a8"
            ],
            [
             0.3333333333333333,
             "#9c179e"
            ],
            [
             0.4444444444444444,
             "#bd3786"
            ],
            [
             0.5555555555555556,
             "#d8576b"
            ],
            [
             0.6666666666666666,
             "#ed7953"
            ],
            [
             0.7777777777777778,
             "#fb9f3a"
            ],
            [
             0.8888888888888888,
             "#fdca26"
            ],
            [
             1,
             "#f0f921"
            ]
           ]
          },
          "colorway": [
           "#636efa",
           "#EF553B",
           "#00cc96",
           "#ab63fa",
           "#FFA15A",
           "#19d3f3",
           "#FF6692",
           "#B6E880",
           "#FF97FF",
           "#FECB52"
          ],
          "font": {
           "color": "#2a3f5f"
          },
          "geo": {
           "bgcolor": "white",
           "lakecolor": "white",
           "landcolor": "#E5ECF6",
           "showlakes": true,
           "showland": true,
           "subunitcolor": "white"
          },
          "hoverlabel": {
           "align": "left"
          },
          "hovermode": "closest",
          "mapbox": {
           "style": "light"
          },
          "paper_bgcolor": "white",
          "plot_bgcolor": "#E5ECF6",
          "polar": {
           "angularaxis": {
            "gridcolor": "white",
            "linecolor": "white",
            "ticks": ""
           },
           "bgcolor": "#E5ECF6",
           "radialaxis": {
            "gridcolor": "white",
            "linecolor": "white",
            "ticks": ""
           }
          },
          "scene": {
           "xaxis": {
            "backgroundcolor": "#E5ECF6",
            "gridcolor": "white",
            "gridwidth": 2,
            "linecolor": "white",
            "showbackground": true,
            "ticks": "",
            "zerolinecolor": "white"
           },
           "yaxis": {
            "backgroundcolor": "#E5ECF6",
            "gridcolor": "white",
            "gridwidth": 2,
            "linecolor": "white",
            "showbackground": true,
            "ticks": "",
            "zerolinecolor": "white"
           },
           "zaxis": {
            "backgroundcolor": "#E5ECF6",
            "gridcolor": "white",
            "gridwidth": 2,
            "linecolor": "white",
            "showbackground": true,
            "ticks": "",
            "zerolinecolor": "white"
           }
          },
          "shapedefaults": {
           "line": {
            "color": "#2a3f5f"
           }
          },
          "ternary": {
           "aaxis": {
            "gridcolor": "white",
            "linecolor": "white",
            "ticks": ""
           },
           "baxis": {
            "gridcolor": "white",
            "linecolor": "white",
            "ticks": ""
           },
           "bgcolor": "#E5ECF6",
           "caxis": {
            "gridcolor": "white",
            "linecolor": "white",
            "ticks": ""
           }
          },
          "title": {
           "x": 0.05
          },
          "xaxis": {
           "automargin": true,
           "gridcolor": "white",
           "linecolor": "white",
           "ticks": "",
           "title": {
            "standoff": 15
           },
           "zerolinecolor": "white",
           "zerolinewidth": 2
          },
          "yaxis": {
           "automargin": true,
           "gridcolor": "white",
           "linecolor": "white",
           "ticks": "",
           "title": {
            "standoff": 15
           },
           "zerolinecolor": "white",
           "zerolinewidth": 2
          }
         }
        },
        "title": {
         "text": "Optimization History Plot"
        },
        "xaxis": {
         "autorange": true,
         "range": [
          -6.20766855378281,
          105.20766855378281
         ],
         "title": {
          "text": "Trial"
         },
         "type": "linear"
        },
        "yaxis": {
         "autorange": true,
         "range": [
          0.9393023903768265,
          1.051576015933856
         ],
         "title": {
          "text": "Objective Value"
         },
         "type": "linear"
        }
       }
      },
      "image/png": "[encoded data removed]",
      "text/html": [
       "<div>                            <div id=\"f1151a68-dcda-44e7-8439-3ebfe4d2e70b\" class=\"plotly-graph-div\" style=\"height:525px; width:100%;\"></div>            <script type=\"text/javascript\">                require([\"plotly\"], function(Plotly) {                    window.PLOTLYENV=window.PLOTLYENV || {};                                    if (document.getElementById(\"f1151a68-dcda-44e7-8439-3ebfe4d2e70b\")) {                    Plotly.newPlot(                        \"f1151a68-dcda-44e7-8439-3ebfe4d2e70b\",                        [{\"mode\":\"markers\",\"name\":\"Objective Value\",\"x\":[0,1,2,3,4,5,6,7,8,9,10,11,12,13,14,15,16,17,18,19,20,21,22,23,24,25,26,27,28,29,30,31,32,33,34,35,36,37,38,39,40,41,42,43,44,45,46,47,48,49,50,51,52,53,54,55,56,57,58,59,60,61,62,63,64,65,66,67,68,69,70,71,72,73,74,75,76,77,78,79,80,81,82,83,84,85,86,87,88,89,90,91,92,93,94,95,96,97,98,99],\"y\":[0.988620505807618,0.9860364978168551,0.9655559818357478,0.9925773564441042,1.0076670470726214,0.9472551055204494,0.9947324989965429,0.9866651957448084,0.9800168193565643,0.9781115036730088,1.0221056281502456,1.0167816069686675,1.0223571738908124,1.0286375916788166,1.0255925728170048,1.0331776360940523,1.0120669508325895,1.0374276501641866,1.0100161569702355,1.0308076821602083,1.0363328348273146,1.0350345213865364,1.0305172527070758,1.0357673944788643,1.0159651290129676,1.0304078775348398,1.0299383767944534,1.0368286545698135,1.0213237820229084,1.0227934495917739,1.035787592471012,1.0365128905939225,1.0341260383566422,1.0318995768411938,1.0245438924106056,1.034380661466226,1.031056410876094,1.0333344716420028,1.0260267741633056,1.0161528251212502,1.002015159907846,1.0371176177222126,1.0436233007902331,1.0333931763535036,1.035796483328437,1.0317695442917205,1.0315853863668862,1.0301248904003075,1.0261239682444396,1.0378490470567794,1.0362648273518498,1.0340539836948013,1.0333891946977318,1.0225977079191781,1.0354719548397355,1.037526205767709,1.0311411710542486,1.032501475199366,1.0274142295277182,1.0328309271178746,1.0346293523372758,1.0411243449176453,1.0378641180697525,1.0421040669786057,1.035983343870675,1.029797463221564,1.0237182013011437,1.0389877603041386,1.0337606505854788,1.0326528182857602,1.0310597139280129,1.037872456889737,1.0269668550149351,1.0393524116988697,1.0391804624930314,1.036475571346087,1.0340436248127876,1.0381760736753698,1.0338255436735815,1.0284715324606744,1.0178109865493996,1.0350454046396513,1.0388022661138556,1.0383823276973567,1.0388285951501635,1.0384344229657207,1.0300048669138722,1.03743029310881,1.0323240753933214,1.031790218324509,1.0290200110536651,1.0355424333708292,1.0285508246410844,1.0375728533546518,1.0389348303560189,1.0302091035308591,1.035889462358325,1.0363719175565318,1.0258566533410707,1.0398199459831894],\"type\":\"scatter\"},{\"mode\":\"lines\",\"name\":\"Best Value\",\"x\":[0,1,2,3,4,5,6,7,8,9,10,11,12,13,14,15,16,17,18,19,20,21,22,23,24,25,26,27,28,29,30,31,32,33,34,35,36,37,38,39,40,41,42,43,44,45,46,47,48,49,50,51,52,53,54,55,56,57,58,59,60,61,62,63,64,65,66,67,68,69,70,71,72,73,74,75,76,77,78,79,80,81,82,83,84,85,86,87,88,89,90,91,92,93,94,95,96,97,98,99],\"y\":[0.988620505807618,0.988620505807618,0.988620505807618,0.9925773564441042,1.0076670470726214,1.0076670470726214,1.0076670470726214,1.0076670470726214,1.0076670470726214,1.0076670470726214,1.0221056281502456,1.0221056281502456,1.0223571738908124,1.0286375916788166,1.0286375916788166,1.0331776360940523,1.0331776360940523,1.0374276501641866,1.0374276501641866,1.0374276501641866,1.0374276501641866,1.0374276501641866,1.0374276501641866,1.0374276501641866,1.0374276501641866,1.0374276501641866,1.0374276501641866,1.0374276501641866,1.0374276501641866,1.0374276501641866,1.0374276501641866,1.0374276501641866,1.0374276501641866,1.0374276501641866,1.0374276501641866,1.0374276501641866,1.0374276501641866,1.0374276501641866,1.0374276501641866,1.0374276501641866,1.0374276501641866,1.0374276501641866,1.0436233007902331,1.0436233007902331,1.0436233007902331,1.0436233007902331,1.0436233007902331,1.0436233007902331,1.0436233007902331,1.0436233007902331,1.0436233007902331,1.0436233007902331,1.0436233007902331,1.0436233007902331,1.0436233007902331,1.0436233007902331,1.0436233007902331,1.0436233007902331,1.0436233007902331,1.0436233007902331,1.0436233007902331,1.0436233007902331,1.0436233007902331,1.0436233007902331,1.0436233007902331,1.0436233007902331,1.0436233007902331,1.0436233007902331,1.0436233007902331,1.0436233007902331,1.0436233007902331,1.0436233007902331,1.0436233007902331,1.0436233007902331,1.0436233007902331,1.0436233007902331,1.0436233007902331,1.0436233007902331,1.0436233007902331,1.0436233007902331,1.0436233007902331,1.0436233007902331,1.0436233007902331,1.0436233007902331,1.0436233007902331,1.0436233007902331,1.0436233007902331,1.0436233007902331,1.0436233007902331,1.0436233007902331,1.0436233007902331,1.0436233007902331,1.0436233007902331,1.0436233007902331,1.0436233007902331,1.0436233007902331,1.0436233007902331,1.0436233007902331,1.0436233007902331,1.0436233007902331],\"type\":\"scatter\"},{\"marker\":{\"color\":\"#cccccc\"},\"mode\":\"markers\",\"name\":\"Infeasible Trial\",\"showlegend\":false,\"x\":[],\"y\":[],\"type\":\"scatter\"}],                        {\"title\":{\"text\":\"Optimization History Plot\"},\"xaxis\":{\"title\":{\"text\":\"Trial\"}},\"yaxis\":{\"title\":{\"text\":\"Objective Value\"}},\"template\":{\"data\":{\"histogram2dcontour\":[{\"type\":\"histogram2dcontour\",\"colorbar\":{\"outlinewidth\":0,\"ticks\":\"\"},\"colorscale\":[[0.0,\"#0d0887\"],[0.1111111111111111,\"#46039f\"],[0.2222222222222222,\"#7201a8\"],[0.3333333333333333,\"#9c179e\"],[0.4444444444444444,\"#bd3786\"],[0.5555555555555556,\"#d8576b\"],[0.6666666666666666,\"#ed7953\"],[0.7777777777777778,\"#fb9f3a\"],[0.8888888888888888,\"#fdca26\"],[1.0,\"#f0f921\"]]}],\"choropleth\":[{\"type\":\"choropleth\",\"colorbar\":{\"outlinewidth\":0,\"ticks\":\"\"}}],\"histogram2d\":[{\"type\":\"histogram2d\",\"colorbar\":{\"outlinewidth\":0,\"ticks\":\"\"},\"colorscale\":[[0.0,\"#0d0887\"],[0.1111111111111111,\"#46039f\"],[0.2222222222222222,\"#7201a8\"],[0.3333333333333333,\"#9c179e\"],[0.4444444444444444,\"#bd3786\"],[0.5555555555555556,\"#d8576b\"],[0.6666666666666666,\"#ed7953\"],[0.7777777777777778,\"#fb9f3a\"],[0.8888888888888888,\"#fdca26\"],[1.0,\"#f0f921\"]]}],\"heatmap\":[{\"type\":\"heatmap\",\"colorbar\":{\"outlinewidth\":0,\"ticks\":\"\"},\"colorscale\":[[0.0,\"#0d0887\"],[0.1111111111111111,\"#46039f\"],[0.2222222222222222,\"#7201a8\"],[0.3333333333333333,\"#9c179e\"],[0.4444444444444444,\"#bd3786\"],[0.5555555555555556,\"#d8576b\"],[0.6666666666666666,\"#ed7953\"],[0.7777777777777778,\"#fb9f3a\"],[0.8888888888888888,\"#fdca26\"],[1.0,\"#f0f921\"]]}],\"heatmapgl\":[{\"type\":\"heatmapgl\",\"colorbar\":{\"outlinewidth\":0,\"ticks\":\"\"},\"colorscale\":[[0.0,\"#0d0887\"],[0.1111111111111111,\"#46039f\"],[0.2222222222222222,\"#7201a8\"],[0.3333333333333333,\"#9c179e\"],[0.4444444444444444,\"#bd3786\"],[0.5555555555555556,\"#d8576b\"],[0.6666666666666666,\"#ed7953\"],[0.7777777777777778,\"#fb9f3a\"],[0.8888888888888888,\"#fdca26\"],[1.0,\"#f0f921\"]]}],\"contourcarpet\":[{\"type\":\"contourcarpet\",\"colorbar\":{\"outlinewidth\":0,\"ticks\":\"\"}}],\"contour\":[{\"type\":\"contour\",\"colorbar\":{\"outlinewidth\":0,\"ticks\":\"\"},\"colorscale\":[[0.0,\"#0d0887\"],[0.1111111111111111,\"#46039f\"],[0.2222222222222222,\"#7201a8\"],[0.3333333333333333,\"#9c179e\"],[0.4444444444444444,\"#bd3786\"],[0.5555555555555556,\"#d8576b\"],[0.6666666666666666,\"#ed7953\"],[0.7777777777777778,\"#fb9f3a\"],[0.8888888888888888,\"#fdca26\"],[1.0,\"#f0f921\"]]}],\"surface\":[{\"type\":\"surface\",\"colorbar\":{\"outlinewidth\":0,\"ticks\":\"\"},\"colorscale\":[[0.0,\"#0d0887\"],[0.1111111111111111,\"#46039f\"],[0.2222222222222222,\"#7201a8\"],[0.3333333333333333,\"#9c179e\"],[0.4444444444444444,\"#bd3786\"],[0.5555555555555556,\"#d8576b\"],[0.6666666666666666,\"#ed7953\"],[0.7777777777777778,\"#fb9f3a\"],[0.8888888888888888,\"#fdca26\"],[1.0,\"#f0f921\"]]}],\"mesh3d\":[{\"type\":\"mesh3d\",\"colorbar\":{\"outlinewidth\":0,\"ticks\":\"\"}}],\"scatter\":[{\"fillpattern\":{\"fillmode\":\"overlay\",\"size\":10,\"solidity\":0.2},\"type\":\"scatter\"}],\"parcoords\":[{\"type\":\"parcoords\",\"line\":{\"colorbar\":{\"outlinewidth\":0,\"ticks\":\"\"}}}],\"scatterpolargl\":[{\"type\":\"scatterpolargl\",\"marker\":{\"colorbar\":{\"outlinewidth\":0,\"ticks\":\"\"}}}],\"bar\":[{\"error_x\":{\"color\":\"#2a3f5f\"},\"error_y\":{\"color\":\"#2a3f5f\"},\"marker\":{\"line\":{\"color\":\"#E5ECF6\",\"width\":0.5},\"pattern\":{\"fillmode\":\"overlay\",\"size\":10,\"solidity\":0.2}},\"type\":\"bar\"}],\"scattergeo\":[{\"type\":\"scattergeo\",\"marker\":{\"colorbar\":{\"outlinewidth\":0,\"ticks\":\"\"}}}],\"scatterpolar\":[{\"type\":\"scatterpolar\",\"marker\":{\"colorbar\":{\"outlinewidth\":0,\"ticks\":\"\"}}}],\"histogram\":[{\"marker\":{\"pattern\":{\"fillmode\":\"overlay\",\"size\":10,\"solidity\":0.2}},\"type\":\"histogram\"}],\"scattergl\":[{\"type\":\"scattergl\",\"marker\":{\"colorbar\":{\"outlinewidth\":0,\"ticks\":\"\"}}}],\"scatter3d\":[{\"type\":\"scatter3d\",\"line\":{\"colorbar\":{\"outlinewidth\":0,\"ticks\":\"\"}},\"marker\":{\"colorbar\":{\"outlinewidth\":0,\"ticks\":\"\"}}}],\"scattermapbox\":[{\"type\":\"scattermapbox\",\"marker\":{\"colorbar\":{\"outlinewidth\":0,\"ticks\":\"\"}}}],\"scatterternary\":[{\"type\":\"scatterternary\",\"marker\":{\"colorbar\":{\"outlinewidth\":0,\"ticks\":\"\"}}}],\"scattercarpet\":[{\"type\":\"scattercarpet\",\"marker\":{\"colorbar\":{\"outlinewidth\":0,\"ticks\":\"\"}}}],\"carpet\":[{\"aaxis\":{\"endlinecolor\":\"#2a3f5f\",\"gridcolor\":\"white\",\"linecolor\":\"white\",\"minorgridcolor\":\"white\",\"startlinecolor\":\"#2a3f5f\"},\"baxis\":{\"endlinecolor\":\"#2a3f5f\",\"gridcolor\":\"white\",\"linecolor\":\"white\",\"minorgridcolor\":\"white\",\"startlinecolor\":\"#2a3f5f\"},\"type\":\"carpet\"}],\"table\":[{\"cells\":{\"fill\":{\"color\":\"#EBF0F8\"},\"line\":{\"color\":\"white\"}},\"header\":{\"fill\":{\"color\":\"#C8D4E3\"},\"line\":{\"color\":\"white\"}},\"type\":\"table\"}],\"barpolar\":[{\"marker\":{\"line\":{\"color\":\"#E5ECF6\",\"width\":0.5},\"pattern\":{\"fillmode\":\"overlay\",\"size\":10,\"solidity\":0.2}},\"type\":\"barpolar\"}],\"pie\":[{\"automargin\":true,\"type\":\"pie\"}]},\"layout\":{\"autotypenumbers\":\"strict\",\"colorway\":[\"#636efa\",\"#EF553B\",\"#00cc96\",\"#ab63fa\",\"#FFA15A\",\"#19d3f3\",\"#FF6692\",\"#B6E880\",\"#FF97FF\",\"#FECB52\"],\"font\":{\"color\":\"#2a3f5f\"},\"hovermode\":\"closest\",\"hoverlabel\":{\"align\":\"left\"},\"paper_bgcolor\":\"white\",\"plot_bgcolor\":\"#E5ECF6\",\"polar\":{\"bgcolor\":\"#E5ECF6\",\"angularaxis\":{\"gridcolor\":\"white\",\"linecolor\":\"white\",\"ticks\":\"\"},\"radialaxis\":{\"gridcolor\":\"white\",\"linecolor\":\"white\",\"ticks\":\"\"}},\"ternary\":{\"bgcolor\":\"#E5ECF6\",\"aaxis\":{\"gridcolor\":\"white\",\"linecolor\":\"white\",\"ticks\":\"\"},\"baxis\":{\"gridcolor\":\"white\",\"linecolor\":\"white\",\"ticks\":\"\"},\"caxis\":{\"gridcolor\":\"white\",\"linecolor\":\"white\",\"ticks\":\"\"}},\"coloraxis\":{\"colorbar\":{\"outlinewidth\":0,\"ticks\":\"\"}},\"colorscale\":{\"sequential\":[[0.0,\"#0d0887\"],[0.1111111111111111,\"#46039f\"],[0.2222222222222222,\"#7201a8\"],[0.3333333333333333,\"#9c179e\"],[0.4444444444444444,\"#bd3786\"],[0.5555555555555556,\"#d8576b\"],[0.6666666666666666,\"#ed7953\"],[0.7777777777777778,\"#fb9f3a\"],[0.8888888888888888,\"#fdca26\"],[1.0,\"#f0f921\"]],\"sequentialminus\":[[0.0,\"#0d0887\"],[0.1111111111111111,\"#46039f\"],[0.2222222222222222,\"#7201a8\"],[0.3333333333333333,\"#9c179e\"],[0.4444444444444444,\"#bd3786\"],[0.5555555555555556,\"#d8576b\"],[0.6666666666666666,\"#ed7953\"],[0.7777777777777778,\"#fb9f3a\"],[0.8888888888888888,\"#fdca26\"],[1.0,\"#f0f921\"]],\"diverging\":[[0,\"#8e0152\"],[0.1,\"#c51b7d\"],[0.2,\"#de77ae\"],[0.3,\"#f1b6da\"],[0.4,\"#fde0ef\"],[0.5,\"#f7f7f7\"],[0.6,\"#e6f5d0\"],[0.7,\"#b8e186\"],[0.8,\"#7fbc41\"],[0.9,\"#4d9221\"],[1,\"#276419\"]]},\"xaxis\":{\"gridcolor\":\"white\",\"linecolor\":\"white\",\"ticks\":\"\",\"title\":{\"standoff\":15},\"zerolinecolor\":\"white\",\"automargin\":true,\"zerolinewidth\":2},\"yaxis\":{\"gridcolor\":\"white\",\"linecolor\":\"white\",\"ticks\":\"\",\"title\":{\"standoff\":15},\"zerolinecolor\":\"white\",\"automargin\":true,\"zerolinewidth\":2},\"scene\":{\"xaxis\":{\"backgroundcolor\":\"#E5ECF6\",\"gridcolor\":\"white\",\"linecolor\":\"white\",\"showbackground\":true,\"ticks\":\"\",\"zerolinecolor\":\"white\",\"gridwidth\":2},\"yaxis\":{\"backgroundcolor\":\"#E5ECF6\",\"gridcolor\":\"white\",\"linecolor\":\"white\",\"showbackground\":true,\"ticks\":\"\",\"zerolinecolor\":\"white\",\"gridwidth\":2},\"zaxis\":{\"backgroundcolor\":\"#E5ECF6\",\"gridcolor\":\"white\",\"linecolor\":\"white\",\"showbackground\":true,\"ticks\":\"\",\"zerolinecolor\":\"white\",\"gridwidth\":2}},\"shapedefaults\":{\"line\":{\"color\":\"#2a3f5f\"}},\"annotationdefaults\":{\"arrowcolor\":\"#2a3f5f\",\"arrowhead\":0,\"arrowwidth\":1},\"geo\":{\"bgcolor\":\"white\",\"landcolor\":\"#E5ECF6\",\"subunitcolor\":\"white\",\"showland\":true,\"showlakes\":true,\"lakecolor\":\"white\"},\"title\":{\"x\":0.05},\"mapbox\":{\"style\":\"light\"}}}},                        {\"responsive\": true}                    ).then(function(){\n",
       "                            \n",
       "var gd = document.getElementById('f1151a68-dcda-44e7-8439-3ebfe4d2e70b');\n",
       "var x = new MutationObserver(function (mutations, observer) {{\n",
       "        var display = window.getComputedStyle(gd).display;\n",
       "        if (!display || display === 'none') {{\n",
       "            console.log([gd, 'removed!']);\n",
       "            Plotly.purge(gd);\n",
       "            observer.disconnect();\n",
       "        }}\n",
       "}});\n",
       "\n",
       "// Listen for the removal of the full notebook cells\n",
       "var notebookContainer = gd.closest('#notebook-container');\n",
       "if (notebookContainer) {{\n",
       "    x.observe(notebookContainer, {childList: true});\n",
       "}}\n",
       "\n",
       "// Listen for the clearing of the current output cell\n",
       "var outputEl = gd.closest('.output');\n",
       "if (outputEl) {{\n",
       "    x.observe(outputEl, {childList: true});\n",
       "}}\n",
       "\n",
       "                        })                };                });            </script>        </div>"
      ]
     },
     "metadata": {},
     "output_type": "display_data"
    }
   ],
   "source": [
    "optuna.visualization.plot_optimization_history(study)"
   ]
  },
  {
   "cell_type": "code",
   "execution_count": 53,
   "metadata": {
    "tags": []
   },
   "outputs": [],
   "source": [
    "best_params['name']=''\n",
    "initial_params['name']=''"
   ]
  },
  {
   "cell_type": "code",
   "execution_count": 54,
   "metadata": {
    "tags": []
   },
   "outputs": [],
   "source": [
    "def check_for_params(params):\n",
    "    results = []\n",
    "    for proba in probas:\n",
    "        p = {\"p\": proba, 'name':''}\n",
    "        result = comparePlayers(player, SimplePlayer, best_params, p)\n",
    "        results.append(result[0][0])\n",
    "\n",
    "    result_golab = comparePlayers(player, golab, best_params, {'name':''})\n",
    "    results.append(result_golab[0][0])\n",
    "    print(results)"
   ]
  },
  {
   "cell_type": "code",
   "execution_count": 56,
   "metadata": {
    "tags": []
   },
   "outputs": [
    {
     "name": "stdout",
     "output_type": "stream",
     "text": [
      "[6815, 7178, 7709, 6383]\n",
      "[6702, 7309, 7682, 6334]\n"
     ]
    }
   ],
   "source": [
    "check_for_params(initial_params)\n",
    "check_for_params(best_params)"
   ]
  },
  {
   "cell_type": "code",
   "execution_count": 57,
   "metadata": {
    "tags": []
   },
   "outputs": [
    {
     "data": {
      "text/plain": [
       "{'p85': 0.8151656065731939,\n",
       " 'p80': 0.6904075126855492,\n",
       " 'p75': 0.9497133012270816,\n",
       " 'p70': 0.7157043407418241,\n",
       " 'p60': 0.40302178434049163,\n",
       " 'p50': 0.6010220628945048,\n",
       " 'name': ''}"
      ]
     },
     "execution_count": 57,
     "metadata": {},
     "output_type": "execute_result"
    }
   ],
   "source": [
    "best_params"
   ]
  },
  {
   "cell_type": "code",
   "execution_count": null,
   "metadata": {},
   "outputs": [],
   "source": [
    "# Optymalizacja dla każdego z osobna:\n",
    "# Simple 8048.0\n",
    "# Golab 6519.0\n",
    "\n",
    "# Obtymalizacja dla 2 jednocześnie:\n",
    "# w1=w2: (7844, 6158)\n",
    "# w1=1, w2=1.35 (7785, 6455)\n",
    "\n",
    "# Optymalizacja dla 4 jednocześnie: (może trzeba dostosować wagi lub jeszcze więcej trailsów)\n",
    "# (6702, 7309, 7682, 6334)"
   ]
  },
  {
   "cell_type": "code",
   "execution_count": 59,
   "metadata": {
    "tags": []
   },
   "outputs": [
    {
     "name": "stdout",
     "output_type": "stream",
     "text": [
      "[6814, 7234, 7848, 6361]\n"
     ]
    }
   ],
   "source": [
    "g_params = {'p85': 0.9648283962896638, # optymalizowane tylko vs golab\n",
    " 'p80': 0.9624333497550055,\n",
    " 'p75': 0.9475397599969045,\n",
    " 'p70': 0.6786786775980143,\n",
    " 'p60': 0.40954835673807205,\n",
    " 'p50': 0.3245012100876753,\n",
    " 'name':''}\n",
    "\n",
    "check_for_params(g_params)"
   ]
  },
  {
   "cell_type": "code",
   "execution_count": 60,
   "metadata": {
    "tags": []
   },
   "outputs": [
    {
     "name": "stdout",
     "output_type": "stream",
     "text": [
      "[6774, 7260, 7681, 6277]\n"
     ]
    }
   ],
   "source": [
    "params_7 = {'p85': 0.9648283962896638, # optymalizowane tylko vs simple p=0.3/0.7\n",
    " 'p80': 0.9624333497550055,\n",
    " 'p75': 0.9475397599969045,\n",
    " 'p70': 0.6786786775980143,\n",
    " 'p60': 0.40954835673807205,\n",
    " 'p50': 0.3245012100876753,\n",
    " 'name':''}\n",
    "\n",
    "check_for_params(params_7)"
   ]
  },
  {
   "cell_type": "code",
   "execution_count": null,
   "metadata": {},
   "outputs": [],
   "source": [
    "# wszystko mocno losowe, nie wiem czy ta metoda ma jakis sens xd"
   ]
  },
  {
   "cell_type": "code",
   "execution_count": null,
   "metadata": {
    "tags": []
   },
   "outputs": [],
   "source": [
    "results"
   ]
  },
  {
   "cell_type": "code",
   "execution_count": null,
   "metadata": {
    "ExecuteTime": {
     "end_time": "2024-04-22T21:07:15.379942Z",
     "start_time": "2024-04-22T21:07:15.365943Z"
    },
    "scrolled": true,
    "tags": []
   },
   "outputs": [],
   "source": [
    "pp.pprint(full_results)"
   ]
  },
  {
   "cell_type": "markdown",
   "metadata": {},
   "source": [
    "Simple stats"
   ]
  },
  {
   "cell_type": "code",
   "execution_count": null,
   "metadata": {
    "ExecuteTime": {
     "end_time": "2024-04-22T21:07:15.395943Z",
     "start_time": "2024-04-22T21:07:15.380943Z"
    },
    "scrolled": true,
    "tags": []
   },
   "outputs": [],
   "source": [
    "def print_matrix(full_results, stat):\n",
    "    stat_name = STAT_NAMES[stat]\n",
    "    print(f\"Statystyka: {stat_name}\")\n",
    "\n",
    "    strategies = [str(s[1]) for s in strategy]\n",
    "    print(\"Strategie: \", ' '.join(strategies))\n",
    "\n",
    "    for A in range(len(strategy)):\n",
    "        current_strategy = strategy[A][1]\n",
    "        results = []\n",
    "        for B in range(len(strategy)):\n",
    "            if A == B:\n",
    "                results.append(\"-\")\n",
    "            elif A < B:\n",
    "                results.append(str(full_results[A][B][stat][0]))\n",
    "            else:\n",
    "                results.append(str(full_results[B][A][stat][1]))\n",
    "        print(f\"{A} {current_strategy}: {' '.join(results)}\")\n",
    "\n",
    "for a in ANALYZE_STATS:\n",
    "    print_matrix(full_results, a)"
   ]
  }
 ],
 "metadata": {
  "kernelspec": {
   "display_name": "Python 3 (ipykernel)",
   "language": "python",
   "name": "python3"
  },
  "language_info": {
   "codemirror_mode": {
    "name": "ipython",
    "version": 3
   },
   "file_extension": ".py",
   "mimetype": "text/x-python",
   "name": "python",
   "nbconvert_exporter": "python",
   "pygments_lexer": "ipython3",
   "version": "3.9.17"
  },
  "widgets": {
   "state": {},
   "version": "1.1.2"
  }
 },
 "nbformat": 4,
 "nbformat_minor": 4
}
